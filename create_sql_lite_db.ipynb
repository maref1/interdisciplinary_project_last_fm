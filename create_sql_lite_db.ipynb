{
 "cells": [
  {
   "cell_type": "markdown",
   "metadata": {},
   "source": [
    "This code can be used to create sqllite db file from the preprocessed csv data files."
   ]
  },
  {
   "cell_type": "code",
   "execution_count": 59,
   "metadata": {},
   "outputs": [],
   "source": [
    "import pandas as pd\n",
    "from sqlalchemy import create_engine"
   ]
  },
  {
   "cell_type": "code",
   "execution_count": 60,
   "metadata": {},
   "outputs": [],
   "source": [
    "# FILE_NAME = 'lastfm.db'\n",
    "FILE_NAME = 'lastfm_EuropeOnly.db'"
   ]
  },
  {
   "cell_type": "code",
   "execution_count": 61,
   "metadata": {},
   "outputs": [],
   "source": [
    "listenings = pd.read_csv('preprocessed_data/listenings_with_years_and_users.csv')\n",
    "# listenings = pd.read_csv('preprocessed_data/listenings_with_years_and_tags.csv')"
   ]
  },
  {
   "cell_type": "code",
   "execution_count": 62,
   "metadata": {},
   "outputs": [],
   "source": [
    "europeList = ['United Kingdom', 'Finland', 'Germany', 'Sweden', 'Canada', 'Switzerland',\n",
    "    'Norway', 'Poland', 'Netherlands', 'Belgium', 'Italy', 'Romania',\n",
    "       'Russian Federation', 'Spain',\n",
    "       'Ireland','Czech Republic','France', 'China',\n",
    "       'Austria', 'Slovakia', 'Malta',\n",
    "       'Latvia', 'Estonia', 'Lithuania',\n",
    "      'Iceland', 'Bulgaria',\n",
    "      'Portugal', 'Croatia',  'Serbia', 'Greece', 'Hungary',\n",
    "       'Bosnia and Herzegovina', 'Slovenia',\n",
    "       'Belarus',  'Macedonia']\n",
    "# we rename the European countries so that we have a bigger geographical group which we can compare to the United States\n",
    "listenings['country'] = listenings['country'].apply(lambda x: 'Europe' if x in europeList else x)"
   ]
  },
  {
   "cell_type": "code",
   "execution_count": 63,
   "metadata": {},
   "outputs": [
    {
     "data": {
      "text/plain": [
       "array(['Japan', 'Armenia', 'Turkey', 'Europe', nan, 'United States',\n",
       "       'Mexico', 'United States Minor Outlying Islands', 'Venezuela',\n",
       "       'Australia', 'Morocco', 'New Zealand', 'Peru', 'Brazil',\n",
       "       'British Indian Ocean Territory', 'Singapore', 'Argentina',\n",
       "       'Chile', 'Colombia', 'Israel', 'Thailand', 'Algeria', 'India',\n",
       "       \"Cote D'Ivoire\", 'Antarctica', 'Trinidad and Tobago',\n",
       "       'Congo, the Democratic Republic of the',\n",
       "       'Northern Mariana Islands', 'Zimbabwe', 'Nicaragua', 'Tunisia',\n",
       "       \"Korea, Democratic People's Republic of\", 'Netherlands Antilles'],\n",
       "      dtype=object)"
      ]
     },
     "execution_count": 63,
     "metadata": {},
     "output_type": "execute_result"
    }
   ],
   "source": [
    "listenings.country.unique()"
   ]
  },
  {
   "cell_type": "code",
   "execution_count": 64,
   "metadata": {},
   "outputs": [],
   "source": [
    "listenings = listenings[listenings['country']=='Europe']"
   ]
  },
  {
   "cell_type": "code",
   "execution_count": 65,
   "metadata": {},
   "outputs": [],
   "source": [
    "listenings = listenings[listenings['year']>=2005]\n",
    "# we create a unique identifier from artist and track name\n",
    "listenings['art_tra_name'] = listenings['artname'] + '@' + listenings['traname']\n",
    "listenings = listenings[listenings['year']!=2010]"
   ]
  },
  {
   "cell_type": "code",
   "execution_count": 66,
   "metadata": {},
   "outputs": [
    {
     "data": {
      "text/html": [
       "<div>\n",
       "<style scoped>\n",
       "    .dataframe tbody tr th:only-of-type {\n",
       "        vertical-align: middle;\n",
       "    }\n",
       "\n",
       "    .dataframe tbody tr th {\n",
       "        vertical-align: top;\n",
       "    }\n",
       "\n",
       "    .dataframe thead th {\n",
       "        text-align: right;\n",
       "    }\n",
       "</style>\n",
       "<table border=\"1\" class=\"dataframe\">\n",
       "  <thead>\n",
       "    <tr style=\"text-align: right;\">\n",
       "      <th></th>\n",
       "      <th>userid</th>\n",
       "      <th>timestamp</th>\n",
       "      <th>year</th>\n",
       "      <th>artname</th>\n",
       "      <th>traname</th>\n",
       "      <th>gender</th>\n",
       "      <th>country</th>\n",
       "      <th>art_tra_name</th>\n",
       "    </tr>\n",
       "  </thead>\n",
       "  <tbody>\n",
       "    <tr>\n",
       "      <th>36076</th>\n",
       "      <td>user_000135</td>\n",
       "      <td>2007-08-13 12:18:46+00:00</td>\n",
       "      <td>2006</td>\n",
       "      <td>Alif Tree</td>\n",
       "      <td>Deadly Species</td>\n",
       "      <td>m</td>\n",
       "      <td>Europe</td>\n",
       "      <td>Alif Tree@Deadly Species</td>\n",
       "    </tr>\n",
       "    <tr>\n",
       "      <th>36089</th>\n",
       "      <td>user_000135</td>\n",
       "      <td>2009-02-02 14:49:35+00:00</td>\n",
       "      <td>2005</td>\n",
       "      <td>Alif Tree</td>\n",
       "      <td>I Feel Blue</td>\n",
       "      <td>m</td>\n",
       "      <td>Europe</td>\n",
       "      <td>Alif Tree@I Feel Blue</td>\n",
       "    </tr>\n",
       "    <tr>\n",
       "      <th>36090</th>\n",
       "      <td>user_000135</td>\n",
       "      <td>2008-10-14 04:34:24+00:00</td>\n",
       "      <td>2005</td>\n",
       "      <td>Alif Tree</td>\n",
       "      <td>I Feel Blue</td>\n",
       "      <td>m</td>\n",
       "      <td>Europe</td>\n",
       "      <td>Alif Tree@I Feel Blue</td>\n",
       "    </tr>\n",
       "    <tr>\n",
       "      <th>36091</th>\n",
       "      <td>user_000135</td>\n",
       "      <td>2008-08-29 20:26:05+00:00</td>\n",
       "      <td>2005</td>\n",
       "      <td>Alif Tree</td>\n",
       "      <td>I Feel Blue</td>\n",
       "      <td>m</td>\n",
       "      <td>Europe</td>\n",
       "      <td>Alif Tree@I Feel Blue</td>\n",
       "    </tr>\n",
       "    <tr>\n",
       "      <th>36092</th>\n",
       "      <td>user_000135</td>\n",
       "      <td>2008-08-14 09:20:59+00:00</td>\n",
       "      <td>2005</td>\n",
       "      <td>Alif Tree</td>\n",
       "      <td>I Feel Blue</td>\n",
       "      <td>m</td>\n",
       "      <td>Europe</td>\n",
       "      <td>Alif Tree@I Feel Blue</td>\n",
       "    </tr>\n",
       "  </tbody>\n",
       "</table>\n",
       "</div>"
      ],
      "text/plain": [
       "            userid                  timestamp  year    artname  \\\n",
       "36076  user_000135  2007-08-13 12:18:46+00:00  2006  Alif Tree   \n",
       "36089  user_000135  2009-02-02 14:49:35+00:00  2005  Alif Tree   \n",
       "36090  user_000135  2008-10-14 04:34:24+00:00  2005  Alif Tree   \n",
       "36091  user_000135  2008-08-29 20:26:05+00:00  2005  Alif Tree   \n",
       "36092  user_000135  2008-08-14 09:20:59+00:00  2005  Alif Tree   \n",
       "\n",
       "              traname gender country              art_tra_name  \n",
       "36076  Deadly Species      m  Europe  Alif Tree@Deadly Species  \n",
       "36089     I Feel Blue      m  Europe     Alif Tree@I Feel Blue  \n",
       "36090     I Feel Blue      m  Europe     Alif Tree@I Feel Blue  \n",
       "36091     I Feel Blue      m  Europe     Alif Tree@I Feel Blue  \n",
       "36092     I Feel Blue      m  Europe     Alif Tree@I Feel Blue  "
      ]
     },
     "execution_count": 66,
     "metadata": {},
     "output_type": "execute_result"
    }
   ],
   "source": [
    "listenings.head()"
   ]
  },
  {
   "cell_type": "code",
   "execution_count": 67,
   "metadata": {},
   "outputs": [
    {
     "data": {
      "text/html": [
       "<div>\n",
       "<style scoped>\n",
       "    .dataframe tbody tr th:only-of-type {\n",
       "        vertical-align: middle;\n",
       "    }\n",
       "\n",
       "    .dataframe tbody tr th {\n",
       "        vertical-align: top;\n",
       "    }\n",
       "\n",
       "    .dataframe thead th {\n",
       "        text-align: right;\n",
       "    }\n",
       "</style>\n",
       "<table border=\"1\" class=\"dataframe\">\n",
       "  <thead>\n",
       "    <tr style=\"text-align: right;\">\n",
       "      <th></th>\n",
       "      <th>name</th>\n",
       "      <th>realtime</th>\n",
       "    </tr>\n",
       "  </thead>\n",
       "  <tbody>\n",
       "    <tr>\n",
       "      <th>1470902</th>\n",
       "      <td>The Electric Soft Parade@Stupid Mistake</td>\n",
       "      <td>2005-01-01</td>\n",
       "    </tr>\n",
       "    <tr>\n",
       "      <th>1376194</th>\n",
       "      <td>Girls Aloud@Not Tonight Santa</td>\n",
       "      <td>2005-01-01</td>\n",
       "    </tr>\n",
       "    <tr>\n",
       "      <th>1376196</th>\n",
       "      <td>Girls Aloud@White Christmas</td>\n",
       "      <td>2005-01-01</td>\n",
       "    </tr>\n",
       "    <tr>\n",
       "      <th>1376276</th>\n",
       "      <td>The Futureheads@Man Made (A Mistake)</td>\n",
       "      <td>2005-01-01</td>\n",
       "    </tr>\n",
       "    <tr>\n",
       "      <th>1376282</th>\n",
       "      <td>Jim Noir@Hotsy Wa Wa Blues</td>\n",
       "      <td>2005-01-01</td>\n",
       "    </tr>\n",
       "  </tbody>\n",
       "</table>\n",
       "</div>"
      ],
      "text/plain": [
       "                                            name   realtime\n",
       "1470902  The Electric Soft Parade@Stupid Mistake 2005-01-01\n",
       "1376194            Girls Aloud@Not Tonight Santa 2005-01-01\n",
       "1376196              Girls Aloud@White Christmas 2005-01-01\n",
       "1376276     The Futureheads@Man Made (A Mistake) 2005-01-01\n",
       "1376282               Jim Noir@Hotsy Wa Wa Blues 2005-01-01"
      ]
     },
     "execution_count": 67,
     "metadata": {},
     "output_type": "execute_result"
    }
   ],
   "source": [
    "# get unique songs with release years\n",
    "nodes = listenings[['art_tra_name','year']].drop_duplicates()\n",
    "nodes.rename({'art_tra_name':'name','year':'realtime'},axis=1,inplace=True)\n",
    "# we only have years which we use as dates\n",
    "nodes['realtime'] = pd.to_datetime(nodes['realtime'], format='%Y')\n",
    "nodes.sort_values('realtime',inplace=True)\n",
    "nodes.head()"
   ]
  },
  {
   "cell_type": "code",
   "execution_count": 68,
   "metadata": {},
   "outputs": [],
   "source": [
    "# primary key\n",
    "nodes['id_nb'] = range(0, len(nodes))"
   ]
  },
  {
   "cell_type": "code",
   "execution_count": 69,
   "metadata": {},
   "outputs": [
    {
     "data": {
      "text/html": [
       "<div>\n",
       "<style scoped>\n",
       "    .dataframe tbody tr th:only-of-type {\n",
       "        vertical-align: middle;\n",
       "    }\n",
       "\n",
       "    .dataframe tbody tr th {\n",
       "        vertical-align: top;\n",
       "    }\n",
       "\n",
       "    .dataframe thead th {\n",
       "        text-align: right;\n",
       "    }\n",
       "</style>\n",
       "<table border=\"1\" class=\"dataframe\">\n",
       "  <thead>\n",
       "    <tr style=\"text-align: right;\">\n",
       "      <th></th>\n",
       "      <th>name</th>\n",
       "      <th>realtime</th>\n",
       "      <th>id_nb</th>\n",
       "      <th>intrinsictime</th>\n",
       "      <th>timebin</th>\n",
       "    </tr>\n",
       "  </thead>\n",
       "  <tbody>\n",
       "    <tr>\n",
       "      <th>1470902</th>\n",
       "      <td>The Electric Soft Parade@Stupid Mistake</td>\n",
       "      <td>2005-01-01</td>\n",
       "      <td>0</td>\n",
       "      <td>0</td>\n",
       "      <td>0</td>\n",
       "    </tr>\n",
       "    <tr>\n",
       "      <th>1376194</th>\n",
       "      <td>Girls Aloud@Not Tonight Santa</td>\n",
       "      <td>2005-01-01</td>\n",
       "      <td>1</td>\n",
       "      <td>0</td>\n",
       "      <td>0</td>\n",
       "    </tr>\n",
       "    <tr>\n",
       "      <th>1376196</th>\n",
       "      <td>Girls Aloud@White Christmas</td>\n",
       "      <td>2005-01-01</td>\n",
       "      <td>2</td>\n",
       "      <td>0</td>\n",
       "      <td>0</td>\n",
       "    </tr>\n",
       "    <tr>\n",
       "      <th>1376276</th>\n",
       "      <td>The Futureheads@Man Made (A Mistake)</td>\n",
       "      <td>2005-01-01</td>\n",
       "      <td>3</td>\n",
       "      <td>0</td>\n",
       "      <td>0</td>\n",
       "    </tr>\n",
       "    <tr>\n",
       "      <th>1376282</th>\n",
       "      <td>Jim Noir@Hotsy Wa Wa Blues</td>\n",
       "      <td>2005-01-01</td>\n",
       "      <td>4</td>\n",
       "      <td>0</td>\n",
       "      <td>0</td>\n",
       "    </tr>\n",
       "  </tbody>\n",
       "</table>\n",
       "</div>"
      ],
      "text/plain": [
       "                                            name   realtime  id_nb  \\\n",
       "1470902  The Electric Soft Parade@Stupid Mistake 2005-01-01      0   \n",
       "1376194            Girls Aloud@Not Tonight Santa 2005-01-01      1   \n",
       "1376196              Girls Aloud@White Christmas 2005-01-01      2   \n",
       "1376276     The Futureheads@Man Made (A Mistake) 2005-01-01      3   \n",
       "1376282               Jim Noir@Hotsy Wa Wa Blues 2005-01-01      4   \n",
       "\n",
       "         intrinsictime  timebin  \n",
       "1470902              0        0  \n",
       "1376194              0        0  \n",
       "1376196              0        0  \n",
       "1376276              0        0  \n",
       "1376282              0        0  "
      ]
     },
     "execution_count": 69,
     "metadata": {},
     "output_type": "execute_result"
    }
   ],
   "source": [
    "# we create the intrinsictime column\n",
    "realtimeDistinct = sorted(list(set(nodes['realtime'])))\n",
    "realtimeDict = {}\n",
    "for i,realtimeValue in enumerate(realtimeDistinct):\n",
    "    realtimeDict[realtimeValue] = i\n",
    "nodes['intrinsictime'] = nodes['realtime'].apply(lambda x: realtimeDict[x])\n",
    "# since we only have years the bins are the same as the intrinsictime\n",
    "nodes['timebin'] = nodes['intrinsictime']\n",
    "nodes = nodes[nodes['timebin']!=5]\n",
    "nodes.head()"
   ]
  },
  {
   "cell_type": "code",
   "execution_count": 70,
   "metadata": {},
   "outputs": [
    {
     "data": {
      "text/html": [
       "<div>\n",
       "<style scoped>\n",
       "    .dataframe tbody tr th:only-of-type {\n",
       "        vertical-align: middle;\n",
       "    }\n",
       "\n",
       "    .dataframe tbody tr th {\n",
       "        vertical-align: top;\n",
       "    }\n",
       "\n",
       "    .dataframe thead th {\n",
       "        text-align: right;\n",
       "    }\n",
       "</style>\n",
       "<table border=\"1\" class=\"dataframe\">\n",
       "  <thead>\n",
       "    <tr style=\"text-align: right;\">\n",
       "      <th></th>\n",
       "      <th>realtime</th>\n",
       "      <th>node</th>\n",
       "      <th>node_origin</th>\n",
       "    </tr>\n",
       "  </thead>\n",
       "  <tbody>\n",
       "    <tr>\n",
       "      <th>36076</th>\n",
       "      <td>2007-08-13 12:18:46+00:00</td>\n",
       "      <td>17365</td>\n",
       "      <td>None</td>\n",
       "    </tr>\n",
       "    <tr>\n",
       "      <th>36089</th>\n",
       "      <td>2009-02-02 14:49:35+00:00</td>\n",
       "      <td>8036</td>\n",
       "      <td>None</td>\n",
       "    </tr>\n",
       "    <tr>\n",
       "      <th>36090</th>\n",
       "      <td>2008-10-14 04:34:24+00:00</td>\n",
       "      <td>8036</td>\n",
       "      <td>None</td>\n",
       "    </tr>\n",
       "    <tr>\n",
       "      <th>36091</th>\n",
       "      <td>2008-08-29 20:26:05+00:00</td>\n",
       "      <td>8036</td>\n",
       "      <td>None</td>\n",
       "    </tr>\n",
       "    <tr>\n",
       "      <th>36092</th>\n",
       "      <td>2008-08-14 09:20:59+00:00</td>\n",
       "      <td>8036</td>\n",
       "      <td>None</td>\n",
       "    </tr>\n",
       "  </tbody>\n",
       "</table>\n",
       "</div>"
      ],
      "text/plain": [
       "                       realtime   node node_origin\n",
       "36076 2007-08-13 12:18:46+00:00  17365        None\n",
       "36089 2009-02-02 14:49:35+00:00   8036        None\n",
       "36090 2008-10-14 04:34:24+00:00   8036        None\n",
       "36091 2008-08-29 20:26:05+00:00   8036        None\n",
       "36092 2008-08-14 09:20:59+00:00   8036        None"
      ]
     },
     "execution_count": 70,
     "metadata": {},
     "output_type": "execute_result"
    }
   ],
   "source": [
    "nameToIdDict = {}\n",
    "for name,id_nb in zip(nodes['name'],nodes['id_nb']):\n",
    "    nameToIdDict[name] = id_nb\n",
    "\n",
    "stream = listenings[['timestamp','art_tra_name']].copy()\n",
    "# convert the song names to the id used in other table\n",
    "stream['node'] = stream['art_tra_name'].apply(lambda x: nameToIdDict[x])\n",
    "stream['timestamp'] = pd.to_datetime(stream['timestamp'], format='%Y-%m-%d %H:%M:%S%z')\n",
    "stream['node_origin'] = None\n",
    "stream.rename({'timestamp':'realtime'},axis=1,inplace=True)\n",
    "\n",
    "stream.drop('art_tra_name',axis=1,inplace=True)\n",
    "stream.head()"
   ]
  },
  {
   "cell_type": "code",
   "execution_count": 71,
   "metadata": {},
   "outputs": [],
   "source": [
    "# add intrinsictime collumn\n",
    "realtimeDistinct = sorted(list(set(stream['realtime'])))\n",
    "realtimeDict = {}\n",
    "for i,realtimeValue in enumerate(realtimeDistinct):\n",
    "    realtimeDict[realtimeValue] = i\n",
    "stream['intrinsictime'] = stream['realtime'].apply(lambda x: realtimeDict[x])"
   ]
  },
  {
   "cell_type": "code",
   "execution_count": 72,
   "metadata": {
    "scrolled": true
   },
   "outputs": [
    {
     "data": {
      "text/html": [
       "<div>\n",
       "<style scoped>\n",
       "    .dataframe tbody tr th:only-of-type {\n",
       "        vertical-align: middle;\n",
       "    }\n",
       "\n",
       "    .dataframe tbody tr th {\n",
       "        vertical-align: top;\n",
       "    }\n",
       "\n",
       "    .dataframe thead th {\n",
       "        text-align: right;\n",
       "    }\n",
       "</style>\n",
       "<table border=\"1\" class=\"dataframe\">\n",
       "  <thead>\n",
       "    <tr style=\"text-align: right;\">\n",
       "      <th></th>\n",
       "      <th>realtime</th>\n",
       "      <th>node</th>\n",
       "      <th>node_origin</th>\n",
       "      <th>intrinsictime</th>\n",
       "      <th>timebin</th>\n",
       "    </tr>\n",
       "  </thead>\n",
       "  <tbody>\n",
       "    <tr>\n",
       "      <th>36076</th>\n",
       "      <td>2007-08-13 12:18:46+00:00</td>\n",
       "      <td>17365</td>\n",
       "      <td>None</td>\n",
       "      <td>311719</td>\n",
       "      <td>2</td>\n",
       "    </tr>\n",
       "    <tr>\n",
       "      <th>36089</th>\n",
       "      <td>2009-02-02 14:49:35+00:00</td>\n",
       "      <td>8036</td>\n",
       "      <td>None</td>\n",
       "      <td>830245</td>\n",
       "      <td>4</td>\n",
       "    </tr>\n",
       "    <tr>\n",
       "      <th>36090</th>\n",
       "      <td>2008-10-14 04:34:24+00:00</td>\n",
       "      <td>8036</td>\n",
       "      <td>None</td>\n",
       "      <td>693386</td>\n",
       "      <td>3</td>\n",
       "    </tr>\n",
       "    <tr>\n",
       "      <th>36091</th>\n",
       "      <td>2008-08-29 20:26:05+00:00</td>\n",
       "      <td>8036</td>\n",
       "      <td>None</td>\n",
       "      <td>642541</td>\n",
       "      <td>3</td>\n",
       "    </tr>\n",
       "    <tr>\n",
       "      <th>36092</th>\n",
       "      <td>2008-08-14 09:20:59+00:00</td>\n",
       "      <td>8036</td>\n",
       "      <td>None</td>\n",
       "      <td>627149</td>\n",
       "      <td>3</td>\n",
       "    </tr>\n",
       "  </tbody>\n",
       "</table>\n",
       "</div>"
      ],
      "text/plain": [
       "                       realtime   node node_origin  intrinsictime  timebin\n",
       "36076 2007-08-13 12:18:46+00:00  17365        None         311719        2\n",
       "36089 2009-02-02 14:49:35+00:00   8036        None         830245        4\n",
       "36090 2008-10-14 04:34:24+00:00   8036        None         693386        3\n",
       "36091 2008-08-29 20:26:05+00:00   8036        None         642541        3\n",
       "36092 2008-08-14 09:20:59+00:00   8036        None         627149        3"
      ]
     },
     "execution_count": 72,
     "metadata": {},
     "output_type": "execute_result"
    }
   ],
   "source": [
    "# create timebin based on years\n",
    "binDistinct = sorted(list(set(stream['realtime'].apply(lambda x: x.year))))\n",
    "binDict = {}\n",
    "for i,binValue in enumerate(binDistinct):\n",
    "    binDict[binValue] = i\n",
    "stream['timebin'] = stream['realtime'].apply(lambda x: x.year).apply(lambda x: binDict[x])\n",
    "stream.head()"
   ]
  },
  {
   "cell_type": "code",
   "execution_count": 73,
   "metadata": {},
   "outputs": [],
   "source": [
    "import sqlite3 as sql\n",
    "\n",
    "conn = sql.connect(f'preprocessed_data/{FILE_NAME}')\n",
    "nodes.to_sql('nodes',conn)\n",
    "stream.to_sql('stream', conn)"
   ]
  },
  {
   "cell_type": "code",
   "execution_count": null,
   "metadata": {},
   "outputs": [],
   "source": []
  }
 ],
 "metadata": {
  "kernelspec": {
   "display_name": "Python 3",
   "language": "python",
   "name": "python3"
  },
  "language_info": {
   "codemirror_mode": {
    "name": "ipython",
    "version": 3
   },
   "file_extension": ".py",
   "mimetype": "text/x-python",
   "name": "python",
   "nbconvert_exporter": "python",
   "pygments_lexer": "ipython3",
   "version": "3.8.5"
  }
 },
 "nbformat": 4,
 "nbformat_minor": 4
}
