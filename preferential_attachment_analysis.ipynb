{
 "cells": [
  {
   "cell_type": "code",
   "execution_count": 1,
   "metadata": {},
   "outputs": [],
   "source": [
    "import pandas as pd\n",
    "import networkx as nx\n",
    "from networkx.algorithms.bipartite.basic import density\n",
    "import matplotlib.pyplot as plt\n",
    "import matplotlib\n",
    "from tqdm import tqdm\n",
    "import random"
   ]
  },
  {
   "cell_type": "code",
   "execution_count": 2,
   "metadata": {},
   "outputs": [
    {
     "data": {
      "text/html": [
       "<div>\n",
       "<style scoped>\n",
       "    .dataframe tbody tr th:only-of-type {\n",
       "        vertical-align: middle;\n",
       "    }\n",
       "\n",
       "    .dataframe tbody tr th {\n",
       "        vertical-align: top;\n",
       "    }\n",
       "\n",
       "    .dataframe thead th {\n",
       "        text-align: right;\n",
       "    }\n",
       "</style>\n",
       "<table border=\"1\" class=\"dataframe\">\n",
       "  <thead>\n",
       "    <tr style=\"text-align: right;\">\n",
       "      <th></th>\n",
       "      <th>userid</th>\n",
       "      <th>timestamp</th>\n",
       "      <th>year</th>\n",
       "      <th>artname</th>\n",
       "      <th>traname</th>\n",
       "      <th>gender</th>\n",
       "      <th>country</th>\n",
       "      <th>art_tra_name</th>\n",
       "    </tr>\n",
       "  </thead>\n",
       "  <tbody>\n",
       "    <tr>\n",
       "      <th>5794075</th>\n",
       "      <td>user_000235</td>\n",
       "      <td>2005-02-14 06:35:21+00:00</td>\n",
       "      <td>2005</td>\n",
       "      <td>The Boy Least Likely To</td>\n",
       "      <td>Be Gentle With Me</td>\n",
       "      <td>NaN</td>\n",
       "      <td>United States</td>\n",
       "      <td>The Boy Least Likely To@Be Gentle With Me</td>\n",
       "    </tr>\n",
       "    <tr>\n",
       "      <th>351579</th>\n",
       "      <td>user_000174</td>\n",
       "      <td>2005-02-14 10:34:54+00:00</td>\n",
       "      <td>2005</td>\n",
       "      <td>Airborn Audio</td>\n",
       "      <td>This Year</td>\n",
       "      <td>NaN</td>\n",
       "      <td>NaN</td>\n",
       "      <td>Airborn Audio@This Year</td>\n",
       "    </tr>\n",
       "    <tr>\n",
       "      <th>6399515</th>\n",
       "      <td>user_000575</td>\n",
       "      <td>2005-02-14 12:50:49+00:00</td>\n",
       "      <td>2008</td>\n",
       "      <td>Fall Out Boy</td>\n",
       "      <td>Tell That Mick He Just Made My List Of Things ...</td>\n",
       "      <td>m</td>\n",
       "      <td>United States</td>\n",
       "      <td>Fall Out Boy@Tell That Mick He Just Made My Li...</td>\n",
       "    </tr>\n",
       "    <tr>\n",
       "      <th>5797566</th>\n",
       "      <td>user_000235</td>\n",
       "      <td>2005-02-14 17:56:23+00:00</td>\n",
       "      <td>2005</td>\n",
       "      <td>Bright Eyes</td>\n",
       "      <td>When The President Talks To God</td>\n",
       "      <td>NaN</td>\n",
       "      <td>United States</td>\n",
       "      <td>Bright Eyes@When The President Talks To God</td>\n",
       "    </tr>\n",
       "    <tr>\n",
       "      <th>5797565</th>\n",
       "      <td>user_000235</td>\n",
       "      <td>2005-02-14 18:06:14+00:00</td>\n",
       "      <td>2005</td>\n",
       "      <td>Bright Eyes</td>\n",
       "      <td>When The President Talks To God</td>\n",
       "      <td>NaN</td>\n",
       "      <td>United States</td>\n",
       "      <td>Bright Eyes@When The President Talks To God</td>\n",
       "    </tr>\n",
       "  </tbody>\n",
       "</table>\n",
       "</div>"
      ],
      "text/plain": [
       "              userid                  timestamp  year  \\\n",
       "5794075  user_000235  2005-02-14 06:35:21+00:00  2005   \n",
       "351579   user_000174  2005-02-14 10:34:54+00:00  2005   \n",
       "6399515  user_000575  2005-02-14 12:50:49+00:00  2008   \n",
       "5797566  user_000235  2005-02-14 17:56:23+00:00  2005   \n",
       "5797565  user_000235  2005-02-14 18:06:14+00:00  2005   \n",
       "\n",
       "                         artname  \\\n",
       "5794075  The Boy Least Likely To   \n",
       "351579             Airborn Audio   \n",
       "6399515             Fall Out Boy   \n",
       "5797566              Bright Eyes   \n",
       "5797565              Bright Eyes   \n",
       "\n",
       "                                                   traname gender  \\\n",
       "5794075                                  Be Gentle With Me    NaN   \n",
       "351579                                           This Year    NaN   \n",
       "6399515  Tell That Mick He Just Made My List Of Things ...      m   \n",
       "5797566                    When The President Talks To God    NaN   \n",
       "5797565                    When The President Talks To God    NaN   \n",
       "\n",
       "               country                                       art_tra_name  \n",
       "5794075  United States          The Boy Least Likely To@Be Gentle With Me  \n",
       "351579             NaN                            Airborn Audio@This Year  \n",
       "6399515  United States  Fall Out Boy@Tell That Mick He Just Made My Li...  \n",
       "5797566  United States        Bright Eyes@When The President Talks To God  \n",
       "5797565  United States        Bright Eyes@When The President Talks To God  "
      ]
     },
     "execution_count": 2,
     "metadata": {},
     "output_type": "execute_result"
    }
   ],
   "source": [
    "listenings = pd.read_csv('preprocessed_data/listenings_with_years_and_users.csv')\n",
    "# we only take a look at songs released in the year 2005 and later (when the dataset begins)\n",
    "listenings = listenings[listenings['year']>=2005]\n",
    "# we create a unique identifier from artist and track name\n",
    "listenings['art_tra_name'] = listenings['artname'] + '@' + listenings['traname']\n",
    "# sort the listenings by time\n",
    "listenings.sort_values(by='timestamp',inplace=True)\n",
    "listenings.head()"
   ]
  },
  {
   "cell_type": "markdown",
   "metadata": {},
   "source": [
    "When we look at the degree distribution we can clearly see the typical preferential attachment pattern."
   ]
  },
  {
   "cell_type": "code",
   "execution_count": 3,
   "metadata": {},
   "outputs": [
    {
     "data": {
      "image/png": "[encoded data removed]",
      "text/plain": [
       "<Figure size 432x288 with 1 Axes>"
      ]
     },
     "metadata": {
      "needs_background": "light"
     },
     "output_type": "display_data"
    }
   ],
   "source": [
    "# log scaled degree distribution for songs \n",
    "\n",
    "G = nx.MultiGraph()\n",
    "G.add_nodes_from(listenings['userid'], isSong=False)\n",
    "G.add_nodes_from(listenings['art_tra_name'], isSong=True)\n",
    "G.add_edges_from(list(zip(listenings['userid'],listenings['art_tra_name'])),time = listenings['timestamp'])\n",
    "songDegrees = [G.degree(n) for n,data in G.nodes(data=True) if data['isSong']==True]\n",
    "plt.hist(songDegrees, bins=20)\n",
    "plt.xlabel('Degree of a song (number of listenings)')\n",
    "plt.ylabel('Song count')\n",
    "plt.yscale('log', nonposy='clip')\n",
    "plt.show()"
   ]
  },
  {
   "cell_type": "markdown",
   "metadata": {},
   "source": [
    "We have created a custom metric to express the intensity of preferential attachment phenomena in the data. We loop over the listenings data ordered by the timestamp. At each step we calculate the random probability (1 divided by total number of songs that appeared so far) and popularity weighted probability (number of songs listenings so far divided by total nunmber of listenings of all songs so far). At the end we compara the sums of these probabilities. If the weighted probability was higher it means the preferential attachment has an influence, if the values are the same songs popularity has no effect, if the weighted is lower then users tend to favour unpopular songs. This method makes use of the precise timestamp information since the song popularities are different at each point in time. Another advantage is it naturally deals with the fact that the number of distinct users in the dataset is rising over time."
   ]
  },
  {
   "cell_type": "code",
   "execution_count": 4,
   "metadata": {},
   "outputs": [],
   "source": [
    "def pref_attach_intensity(listenings,attrName='art_tra_name',attrFilter=None):\n",
    "    listenCntsDict = {} #  song_name -> song_listen_count\n",
    "    listenCntSum = 0 \n",
    "    randomProbList = []\n",
    "    popularityWeightedProbList = []\n",
    "\n",
    "    for name,attr in tqdm(zip(listenings['art_tra_name'],listenings[attrName]),total=len(listenings),\n",
    "                                                     position=0, leave=True):\n",
    "        # if the song was already listened to at least once\n",
    "        if (name in listenCntsDict):\n",
    "            # optional filter using datasets user attributes\n",
    "            if(attrName=='art_tra_name' or attr==attrFilter):\n",
    "                # completely random probability\n",
    "                randomProb = 1/len(listenCntsDict)\n",
    "                # probability proportional to the number of listenings of the song\n",
    "                popularityWeightedProb = listenCntsDict[name] / listenCntSum\n",
    "\n",
    "                randomProbList.append(randomProb)\n",
    "                popularityWeightedProbList.append(popularityWeightedProb)\n",
    "            \n",
    "            listenCntsDict[name] += 1\n",
    "        # if this is the first time the song is being listened to\n",
    "        else:\n",
    "            listenCntsDict[name] = 1\n",
    "\n",
    "        listenCntSum += 1\n",
    "    \n",
    "    return sum(popularityWeightedProbList)/sum(randomProbList)"
   ]
  },
  {
   "cell_type": "markdown",
   "metadata": {},
   "source": [
    "We test the method on artificial dummy data. We generate 1 million of random song listenings of 1000 distinct songs. As mentioned before, if the preferential attachment is not present in the data the value should be close to 1 which is the case here."
   ]
  },
  {
   "cell_type": "code",
   "execution_count": 5,
   "metadata": {},
   "outputs": [
    {
     "data": {
      "text/html": [
       "<div>\n",
       "<style scoped>\n",
       "    .dataframe tbody tr th:only-of-type {\n",
       "        vertical-align: middle;\n",
       "    }\n",
       "\n",
       "    .dataframe tbody tr th {\n",
       "        vertical-align: top;\n",
       "    }\n",
       "\n",
       "    .dataframe thead th {\n",
       "        text-align: right;\n",
       "    }\n",
       "</style>\n",
       "<table border=\"1\" class=\"dataframe\">\n",
       "  <thead>\n",
       "    <tr style=\"text-align: right;\">\n",
       "      <th></th>\n",
       "      <th>art_tra_name</th>\n",
       "    </tr>\n",
       "  </thead>\n",
       "  <tbody>\n",
       "    <tr>\n",
       "      <th>0</th>\n",
       "      <td>865</td>\n",
       "    </tr>\n",
       "    <tr>\n",
       "      <th>1</th>\n",
       "      <td>395</td>\n",
       "    </tr>\n",
       "    <tr>\n",
       "      <th>2</th>\n",
       "      <td>777</td>\n",
       "    </tr>\n",
       "    <tr>\n",
       "      <th>3</th>\n",
       "      <td>912</td>\n",
       "    </tr>\n",
       "    <tr>\n",
       "      <th>4</th>\n",
       "      <td>431</td>\n",
       "    </tr>\n",
       "  </tbody>\n",
       "</table>\n",
       "</div>"
      ],
      "text/plain": [
       "   art_tra_name\n",
       "0           865\n",
       "1           395\n",
       "2           777\n",
       "3           912\n",
       "4           431"
      ]
     },
     "execution_count": 5,
     "metadata": {},
     "output_type": "execute_result"
    }
   ],
   "source": [
    "random.seed(0)\n",
    "N_DISTINCT_SONGS = 1000\n",
    "N_LISTENINGS = 1000000\n",
    "\n",
    "artTraNameTest = [random.randint(1,N_DISTINCT_SONGS) for x in range(N_LISTENINGS)]\n",
    "testDf = pd.DataFrame()\n",
    "testDf['art_tra_name'] = artTraNameTest\n",
    "testDf.head()"
   ]
  },
  {
   "cell_type": "code",
   "execution_count": 6,
   "metadata": {},
   "outputs": [
    {
     "name": "stderr",
     "output_type": "stream",
     "text": [
      "100%|██████████| 1000000/1000000 [00:00<00:00, 1016661.72it/s]\n"
     ]
    },
    {
     "data": {
      "text/plain": [
       "0.9999717900756318"
      ]
     },
     "execution_count": 6,
     "metadata": {},
     "output_type": "execute_result"
    }
   ],
   "source": [
    "pref_attach_intensity(testDf)"
   ]
  },
  {
   "cell_type": "markdown",
   "metadata": {},
   "source": [
    "We calculate the value for the real data, we can see the preferential attachment is a strong phenomenon in this dataset."
   ]
  },
  {
   "cell_type": "code",
   "execution_count": 7,
   "metadata": {},
   "outputs": [
    {
     "name": "stderr",
     "output_type": "stream",
     "text": [
      "100%|██████████| 2608553/2608553 [00:02<00:00, 879187.40it/s]\n"
     ]
    },
    {
     "data": {
      "text/plain": [
       "17.146693879347005"
      ]
     },
     "execution_count": 7,
     "metadata": {},
     "output_type": "execute_result"
    }
   ],
   "source": [
    "pref_attach_intensity(listenings)"
   ]
  },
  {
   "cell_type": "markdown",
   "metadata": {},
   "source": [
    "# Comparing preferential attachment for subsets of the dataset based on the attributes"
   ]
  },
  {
   "cell_type": "markdown",
   "metadata": {},
   "source": [
    "## User's gender"
   ]
  },
  {
   "cell_type": "markdown",
   "metadata": {},
   "source": [
    "When we calculate the values for different genders in the data we can see we get a slightly bigger results for males."
   ]
  },
  {
   "cell_type": "code",
   "execution_count": 8,
   "metadata": {},
   "outputs": [
    {
     "name": "stderr",
     "output_type": "stream",
     "text": [
      "100%|██████████| 2608553/2608553 [00:02<00:00, 998398.18it/s] \n"
     ]
    },
    {
     "data": {
      "text/plain": [
       "19.271931627232917"
      ]
     },
     "execution_count": 8,
     "metadata": {},
     "output_type": "execute_result"
    }
   ],
   "source": [
    "pref_attach_intensity(listenings,'gender','m')"
   ]
  },
  {
   "cell_type": "code",
   "execution_count": 9,
   "metadata": {},
   "outputs": [
    {
     "name": "stderr",
     "output_type": "stream",
     "text": [
      "100%|██████████| 2608553/2608553 [00:02<00:00, 1064168.70it/s]\n"
     ]
    },
    {
     "data": {
      "text/plain": [
       "16.70880603462174"
      ]
     },
     "execution_count": 9,
     "metadata": {},
     "output_type": "execute_result"
    }
   ],
   "source": [
    "pref_attach_intensity(listenings,'gender','f')"
   ]
  },
  {
   "cell_type": "markdown",
   "metadata": {},
   "source": [
    "## User's geographical area"
   ]
  },
  {
   "cell_type": "code",
   "execution_count": 10,
   "metadata": {},
   "outputs": [],
   "source": [
    "europeList = ['United Kingdom', 'Finland', 'Germany', 'Sweden', 'Canada', 'Switzerland',\n",
    "    'Norway', 'Poland', 'Netherlands', 'Belgium', 'Italy', 'Romania',\n",
    "       'Russian Federation', 'Spain',\n",
    "       'Ireland','Czech Republic','France', 'China',\n",
    "       'Austria', 'Slovakia', 'Malta',\n",
    "       'Latvia', 'Estonia', 'Lithuania',\n",
    "      'Iceland', 'Bulgaria',\n",
    "      'Portugal', 'Croatia',  'Serbia', 'Greece', 'Hungary',\n",
    "       'Bosnia and Herzegovina', 'Slovenia',\n",
    "       'Belarus',  'Macedonia']"
   ]
  },
  {
   "cell_type": "code",
   "execution_count": 11,
   "metadata": {},
   "outputs": [],
   "source": [
    "# we rename the European countries so that we have a bigger geographical group which we can compare to the United States\n",
    "listenings['country'] = listenings['country'].apply(lambda x: 'Europe' if x in europeList else x)"
   ]
  },
  {
   "cell_type": "markdown",
   "metadata": {},
   "source": [
    "There is almost no difference between the values for users from these two different geographical areas."
   ]
  },
  {
   "cell_type": "code",
   "execution_count": 12,
   "metadata": {},
   "outputs": [
    {
     "name": "stderr",
     "output_type": "stream",
     "text": [
      "100%|██████████| 2608553/2608553 [00:02<00:00, 1106909.72it/s]\n"
     ]
    },
    {
     "data": {
      "text/plain": [
       "12.190982020220163"
      ]
     },
     "execution_count": 12,
     "metadata": {},
     "output_type": "execute_result"
    }
   ],
   "source": [
    "pref_attach_intensity(listenings,'country','United States')"
   ]
  },
  {
   "cell_type": "code",
   "execution_count": 13,
   "metadata": {},
   "outputs": [
    {
     "name": "stderr",
     "output_type": "stream",
     "text": [
      "100%|██████████| 2608553/2608553 [00:02<00:00, 1014689.52it/s]\n"
     ]
    },
    {
     "data": {
      "text/plain": [
       "13.468441136341436"
      ]
     },
     "execution_count": 13,
     "metadata": {},
     "output_type": "execute_result"
    }
   ],
   "source": [
    "pref_attach_intensity(listenings,'country','Europe')"
   ]
  },
  {
   "cell_type": "markdown",
   "metadata": {},
   "source": [
    "## Song genres"
   ]
  },
  {
   "cell_type": "code",
   "execution_count": 14,
   "metadata": {},
   "outputs": [
    {
     "data": {
      "text/html": [
       "<div>\n",
       "<style scoped>\n",
       "    .dataframe tbody tr th:only-of-type {\n",
       "        vertical-align: middle;\n",
       "    }\n",
       "\n",
       "    .dataframe tbody tr th {\n",
       "        vertical-align: top;\n",
       "    }\n",
       "\n",
       "    .dataframe thead th {\n",
       "        text-align: right;\n",
       "    }\n",
       "</style>\n",
       "<table border=\"1\" class=\"dataframe\">\n",
       "  <thead>\n",
       "    <tr style=\"text-align: right;\">\n",
       "      <th></th>\n",
       "      <th>userid</th>\n",
       "      <th>timestamp</th>\n",
       "      <th>tid</th>\n",
       "      <th>tag</th>\n",
       "      <th>year</th>\n",
       "      <th>artname</th>\n",
       "      <th>traname</th>\n",
       "      <th>art_tra_name</th>\n",
       "    </tr>\n",
       "  </thead>\n",
       "  <tbody>\n",
       "    <tr>\n",
       "      <th>1022218</th>\n",
       "      <td>user_000235</td>\n",
       "      <td>2005-02-14 06:35:21+00:00</td>\n",
       "      <td>TRIUULX128F146EC75</td>\n",
       "      <td>indie</td>\n",
       "      <td>2005</td>\n",
       "      <td>The Boy Least Likely To</td>\n",
       "      <td>Be Gentle With Me</td>\n",
       "      <td>The Boy Least Likely To@Be Gentle With Me</td>\n",
       "    </tr>\n",
       "    <tr>\n",
       "      <th>5142905</th>\n",
       "      <td>user_000575</td>\n",
       "      <td>2005-02-14 12:50:49+00:00</td>\n",
       "      <td>TRPVVWW128F42385E3</td>\n",
       "      <td>rock</td>\n",
       "      <td>2008</td>\n",
       "      <td>Fall Out Boy</td>\n",
       "      <td>Tell That Mick He Just Made My List Of Things ...</td>\n",
       "      <td>Fall Out Boy@Tell That Mick He Just Made My Li...</td>\n",
       "    </tr>\n",
       "    <tr>\n",
       "      <th>4443361</th>\n",
       "      <td>user_000235</td>\n",
       "      <td>2005-02-14 17:56:23+00:00</td>\n",
       "      <td>TRMYXPN128F149798D</td>\n",
       "      <td>indie</td>\n",
       "      <td>2005</td>\n",
       "      <td>Bright Eyes</td>\n",
       "      <td>When The President Talks To God</td>\n",
       "      <td>Bright Eyes@When The President Talks To God</td>\n",
       "    </tr>\n",
       "    <tr>\n",
       "      <th>4443360</th>\n",
       "      <td>user_000235</td>\n",
       "      <td>2005-02-14 18:06:14+00:00</td>\n",
       "      <td>TRMYXPN128F149798D</td>\n",
       "      <td>indie</td>\n",
       "      <td>2005</td>\n",
       "      <td>Bright Eyes</td>\n",
       "      <td>When The President Talks To God</td>\n",
       "      <td>Bright Eyes@When The President Talks To God</td>\n",
       "    </tr>\n",
       "    <tr>\n",
       "      <th>4443359</th>\n",
       "      <td>user_000235</td>\n",
       "      <td>2005-02-14 18:16:05+00:00</td>\n",
       "      <td>TRMYXPN128F149798D</td>\n",
       "      <td>indie</td>\n",
       "      <td>2005</td>\n",
       "      <td>Bright Eyes</td>\n",
       "      <td>When The President Talks To God</td>\n",
       "      <td>Bright Eyes@When The President Talks To God</td>\n",
       "    </tr>\n",
       "  </tbody>\n",
       "</table>\n",
       "</div>"
      ],
      "text/plain": [
       "              userid                  timestamp                 tid    tag  \\\n",
       "1022218  user_000235  2005-02-14 06:35:21+00:00  TRIUULX128F146EC75  indie   \n",
       "5142905  user_000575  2005-02-14 12:50:49+00:00  TRPVVWW128F42385E3   rock   \n",
       "4443361  user_000235  2005-02-14 17:56:23+00:00  TRMYXPN128F149798D  indie   \n",
       "4443360  user_000235  2005-02-14 18:06:14+00:00  TRMYXPN128F149798D  indie   \n",
       "4443359  user_000235  2005-02-14 18:16:05+00:00  TRMYXPN128F149798D  indie   \n",
       "\n",
       "         year                  artname  \\\n",
       "1022218  2005  The Boy Least Likely To   \n",
       "5142905  2008             Fall Out Boy   \n",
       "4443361  2005              Bright Eyes   \n",
       "4443360  2005              Bright Eyes   \n",
       "4443359  2005              Bright Eyes   \n",
       "\n",
       "                                                   traname  \\\n",
       "1022218                                  Be Gentle With Me   \n",
       "5142905  Tell That Mick He Just Made My List Of Things ...   \n",
       "4443361                    When The President Talks To God   \n",
       "4443360                    When The President Talks To God   \n",
       "4443359                    When The President Talks To God   \n",
       "\n",
       "                                              art_tra_name  \n",
       "1022218          The Boy Least Likely To@Be Gentle With Me  \n",
       "5142905  Fall Out Boy@Tell That Mick He Just Made My Li...  \n",
       "4443361        Bright Eyes@When The President Talks To God  \n",
       "4443360        Bright Eyes@When The President Talks To God  \n",
       "4443359        Bright Eyes@When The President Talks To God  "
      ]
     },
     "execution_count": 14,
     "metadata": {},
     "output_type": "execute_result"
    }
   ],
   "source": [
    "listeningsWithTags = pd.read_csv('preprocessed_data/listenings_with_years_and_tags.csv')\n",
    "listeningsWithTags = listeningsWithTags[listeningsWithTags['year']>=2005]\n",
    "listeningsWithTags['art_tra_name'] = listeningsWithTags['artname'] + '@' + listeningsWithTags['traname']\n",
    "listeningsWithTags.sort_values(by='timestamp',inplace=True)\n",
    "listeningsWithTags.head()"
   ]
  },
  {
   "cell_type": "code",
   "execution_count": 15,
   "metadata": {},
   "outputs": [
    {
     "data": {
      "text/plain": [
       "array(['indie', 'rock', 'alternative', 'electronic', 'pop'], dtype=object)"
      ]
     },
     "execution_count": 15,
     "metadata": {},
     "output_type": "execute_result"
    }
   ],
   "source": [
    "listeningsWithTags['tag'].unique()"
   ]
  },
  {
   "cell_type": "code",
   "execution_count": 16,
   "metadata": {},
   "outputs": [
    {
     "name": "stderr",
     "output_type": "stream",
     "text": [
      "100%|██████████| 784507/784507 [00:00<00:00, 906596.16it/s]\n",
      "100%|██████████| 499267/499267 [00:00<00:00, 910338.29it/s]\n",
      "100%|██████████| 218817/218817 [00:00<00:00, 932322.73it/s]\n",
      "100%|██████████| 404399/404399 [00:00<00:00, 922370.68it/s]\n",
      "100%|██████████| 447231/447231 [00:00<00:00, 938955.03it/s]\n"
     ]
    }
   ],
   "source": [
    "intensities = []\n",
    "for tag in listeningsWithTags['tag'].unique():\n",
    "    intensities.append(pref_attach_intensity(listeningsWithTags[listeningsWithTags['tag']==tag]))"
   ]
  },
  {
   "cell_type": "markdown",
   "metadata": {},
   "source": [
    "Looking at the results differentiated by songs genre we can clearly see pop genre stands out from the others. Intuitively this is not so surprising as pop music fans are usually the ones that listen to songs which are popular."
   ]
  },
  {
   "cell_type": "code",
   "execution_count": 17,
   "metadata": {},
   "outputs": [
    {
     "data": {
      "text/plain": [
       "<BarContainer object of 5 artists>"
      ]
     },
     "execution_count": 17,
     "metadata": {},
     "output_type": "execute_result"
    },
    {
     "data": {
      "image/png": "[encoded data removed]",
      "text/plain": [
       "<Figure size 432x288 with 1 Axes>"
      ]
     },
     "metadata": {
      "needs_background": "light"
     },
     "output_type": "display_data"
    }
   ],
   "source": [
    "plt.bar(x=listeningsWithTags['tag'].unique(), height=intensities)"
   ]
  }
 ],
 "metadata": {
  "kernelspec": {
   "display_name": "Python 3",
   "language": "python",
   "name": "python3"
  },
  "language_info": {
   "codemirror_mode": {
    "name": "ipython",
    "version": 3
   },
   "file_extension": ".py",
   "mimetype": "text/x-python",
   "name": "python",
   "nbconvert_exporter": "python",
   "pygments_lexer": "ipython3",
   "version": "3.7.4"
  }
 },
 "nbformat": 4,
 "nbformat_minor": 4
}
