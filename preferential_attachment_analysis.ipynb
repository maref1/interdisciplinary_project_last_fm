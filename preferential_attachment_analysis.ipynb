{
 "cells": [
  {
   "cell_type": "code",
   "execution_count": 1,
   "metadata": {},
   "outputs": [],
   "source": [
    "import pandas as pd\n",
    "import networkx as nx\n",
    "from networkx.algorithms.bipartite.basic import density\n",
    "import matplotlib.pyplot as plt\n",
    "import matplotlib\n",
    "from tqdm import tqdm\n",
    "import random\n",
    "import numpy as np"
   ]
  },
  {
   "cell_type": "code",
   "execution_count": 2,
   "metadata": {},
   "outputs": [
    {
     "data": {
      "text/html": [
       "<div>\n",
       "<style scoped>\n",
       "    .dataframe tbody tr th:only-of-type {\n",
       "        vertical-align: middle;\n",
       "    }\n",
       "\n",
       "    .dataframe tbody tr th {\n",
       "        vertical-align: top;\n",
       "    }\n",
       "\n",
       "    .dataframe thead th {\n",
       "        text-align: right;\n",
       "    }\n",
       "</style>\n",
       "<table border=\"1\" class=\"dataframe\">\n",
       "  <thead>\n",
       "    <tr style=\"text-align: right;\">\n",
       "      <th></th>\n",
       "      <th>userid</th>\n",
       "      <th>timestamp</th>\n",
       "      <th>artname</th>\n",
       "      <th>traname</th>\n",
       "      <th>album_id</th>\n",
       "      <th>album_date</th>\n",
       "      <th>gender</th>\n",
       "      <th>country</th>\n",
       "      <th>art_tra_name</th>\n",
       "    </tr>\n",
       "  </thead>\n",
       "  <tbody>\n",
       "    <tr>\n",
       "      <th>6309509</th>\n",
       "      <td>user_000745</td>\n",
       "      <td>2005-02-14 11:33:33+00:00</td>\n",
       "      <td>Dark Tranquillity</td>\n",
       "      <td>Am I 1?</td>\n",
       "      <td>6e4c7e0b-bb52-4376-a6a1-a7d55a836f38</td>\n",
       "      <td>2005-01-19</td>\n",
       "      <td>m</td>\n",
       "      <td>NaN</td>\n",
       "      <td>Dark Tranquillity@Am I 1?</td>\n",
       "    </tr>\n",
       "    <tr>\n",
       "      <th>6309520</th>\n",
       "      <td>user_000745</td>\n",
       "      <td>2005-02-14 11:37:23+00:00</td>\n",
       "      <td>Dark Tranquillity</td>\n",
       "      <td>Dry Run</td>\n",
       "      <td>6e4c7e0b-bb52-4376-a6a1-a7d55a836f38</td>\n",
       "      <td>2005-01-19</td>\n",
       "      <td>m</td>\n",
       "      <td>NaN</td>\n",
       "      <td>Dark Tranquillity@Dry Run</td>\n",
       "    </tr>\n",
       "    <tr>\n",
       "      <th>6309500</th>\n",
       "      <td>user_000745</td>\n",
       "      <td>2005-02-14 11:41:33+00:00</td>\n",
       "      <td>Dark Tranquillity</td>\n",
       "      <td>Lost To Apathy</td>\n",
       "      <td>6e4c7e0b-bb52-4376-a6a1-a7d55a836f38</td>\n",
       "      <td>2005-01-19</td>\n",
       "      <td>m</td>\n",
       "      <td>NaN</td>\n",
       "      <td>Dark Tranquillity@Lost To Apathy</td>\n",
       "    </tr>\n",
       "    <tr>\n",
       "      <th>6309491</th>\n",
       "      <td>user_000745</td>\n",
       "      <td>2005-02-14 11:45:43+00:00</td>\n",
       "      <td>Dark Tranquillity</td>\n",
       "      <td>Mind Matters</td>\n",
       "      <td>6e4c7e0b-bb52-4376-a6a1-a7d55a836f38</td>\n",
       "      <td>2005-01-19</td>\n",
       "      <td>m</td>\n",
       "      <td>NaN</td>\n",
       "      <td>Dark Tranquillity@Mind Matters</td>\n",
       "    </tr>\n",
       "    <tr>\n",
       "      <th>6309513</th>\n",
       "      <td>user_000745</td>\n",
       "      <td>2005-02-14 11:50:43+00:00</td>\n",
       "      <td>Dark Tranquillity</td>\n",
       "      <td>My Negation</td>\n",
       "      <td>6e4c7e0b-bb52-4376-a6a1-a7d55a836f38</td>\n",
       "      <td>2005-01-19</td>\n",
       "      <td>m</td>\n",
       "      <td>NaN</td>\n",
       "      <td>Dark Tranquillity@My Negation</td>\n",
       "    </tr>\n",
       "  </tbody>\n",
       "</table>\n",
       "</div>"
      ],
      "text/plain": [
       "              userid                 timestamp            artname  \\\n",
       "6309509  user_000745 2005-02-14 11:33:33+00:00  Dark Tranquillity   \n",
       "6309520  user_000745 2005-02-14 11:37:23+00:00  Dark Tranquillity   \n",
       "6309500  user_000745 2005-02-14 11:41:33+00:00  Dark Tranquillity   \n",
       "6309491  user_000745 2005-02-14 11:45:43+00:00  Dark Tranquillity   \n",
       "6309513  user_000745 2005-02-14 11:50:43+00:00  Dark Tranquillity   \n",
       "\n",
       "                traname                              album_id album_date  \\\n",
       "6309509         Am I 1?  6e4c7e0b-bb52-4376-a6a1-a7d55a836f38 2005-01-19   \n",
       "6309520         Dry Run  6e4c7e0b-bb52-4376-a6a1-a7d55a836f38 2005-01-19   \n",
       "6309500  Lost To Apathy  6e4c7e0b-bb52-4376-a6a1-a7d55a836f38 2005-01-19   \n",
       "6309491    Mind Matters  6e4c7e0b-bb52-4376-a6a1-a7d55a836f38 2005-01-19   \n",
       "6309513     My Negation  6e4c7e0b-bb52-4376-a6a1-a7d55a836f38 2005-01-19   \n",
       "\n",
       "        gender country                      art_tra_name  \n",
       "6309509      m     NaN         Dark Tranquillity@Am I 1?  \n",
       "6309520      m     NaN         Dark Tranquillity@Dry Run  \n",
       "6309500      m     NaN  Dark Tranquillity@Lost To Apathy  \n",
       "6309491      m     NaN    Dark Tranquillity@Mind Matters  \n",
       "6309513      m     NaN     Dark Tranquillity@My Negation  "
      ]
     },
     "execution_count": 2,
     "metadata": {},
     "output_type": "execute_result"
    }
   ],
   "source": [
    "listenings = pd.read_csv('preprocessed_data/listenings_with_years_and_users.csv',parse_dates=['timestamp','album_date'])\n",
    "# we only take a look at songs released in the year 2005 and later (when the dataset begins)\n",
    "listenings = listenings[listenings['album_date'].apply(lambda x: x.year)>=2005]\n",
    "# we create a unique identifier from artist and track name\n",
    "listenings['art_tra_name'] = listenings['artname'] + '@' + listenings['traname']\n",
    "# sort the listenings by time\n",
    "listenings.sort_values(by='timestamp',inplace=True)\n",
    "listenings.head()"
   ]
  },
  {
   "cell_type": "markdown",
   "metadata": {},
   "source": [
    "When we look at the degree distribution we can clearly see the typical preferential attachment pattern."
   ]
  },
  {
   "cell_type": "code",
   "execution_count": 3,
   "metadata": {},
   "outputs": [
    {
     "data": {
      "image/png": "[encoded data removed]",
      "text/plain": [
       "<Figure size 432x288 with 1 Axes>"
      ]
     },
     "metadata": {
      "needs_background": "light"
     },
     "output_type": "display_data"
    }
   ],
   "source": [
    "# log scaled degree distribution for songs \n",
    "\n",
    "G = nx.MultiGraph()\n",
    "G.add_nodes_from(listenings['userid'], isSong=False)\n",
    "G.add_nodes_from(listenings['art_tra_name'], isSong=True)\n",
    "G.add_edges_from(list(zip(listenings['userid'],listenings['art_tra_name'])),time = listenings['timestamp'])\n",
    "songDegrees = [G.degree(n) for n,data in G.nodes(data=True) if data['isSong']==True]\n",
    "plt.hist(songDegrees, bins=20)\n",
    "plt.xlabel('Degree of a song (number of listenings)')\n",
    "plt.ylabel('Song count')\n",
    "plt.yscale('log', nonpositive='clip')\n",
    "plt.show()"
   ]
  },
  {
   "cell_type": "code",
   "execution_count": 4,
   "metadata": {},
   "outputs": [
    {
     "data": {
      "text/html": [
       "<div>\n",
       "<style scoped>\n",
       "    .dataframe tbody tr th:only-of-type {\n",
       "        vertical-align: middle;\n",
       "    }\n",
       "\n",
       "    .dataframe tbody tr th {\n",
       "        vertical-align: top;\n",
       "    }\n",
       "\n",
       "    .dataframe thead th {\n",
       "        text-align: right;\n",
       "    }\n",
       "</style>\n",
       "<table border=\"1\" class=\"dataframe\">\n",
       "  <thead>\n",
       "    <tr style=\"text-align: right;\">\n",
       "      <th></th>\n",
       "      <th>rank</th>\n",
       "      <th>art_tra_name</th>\n",
       "      <th>nr_of_listens</th>\n",
       "    </tr>\n",
       "  </thead>\n",
       "  <tbody>\n",
       "    <tr>\n",
       "      <th>0</th>\n",
       "      <td>1</td>\n",
       "      <td>Bloc Party@Banquet</td>\n",
       "      <td>2895</td>\n",
       "    </tr>\n",
       "    <tr>\n",
       "      <th>1</th>\n",
       "      <td>2</td>\n",
       "      <td>Bloc Party@Blue Light</td>\n",
       "      <td>2212</td>\n",
       "    </tr>\n",
       "    <tr>\n",
       "      <th>2</th>\n",
       "      <td>3</td>\n",
       "      <td>The Fray@How To Save A Life</td>\n",
       "      <td>2059</td>\n",
       "    </tr>\n",
       "    <tr>\n",
       "      <th>3</th>\n",
       "      <td>4</td>\n",
       "      <td>Bloc Party@This Modern Love</td>\n",
       "      <td>1972</td>\n",
       "    </tr>\n",
       "    <tr>\n",
       "      <th>4</th>\n",
       "      <td>5</td>\n",
       "      <td>Bloc Party@Helicopter</td>\n",
       "      <td>1721</td>\n",
       "    </tr>\n",
       "    <tr>\n",
       "      <th>...</th>\n",
       "      <td>...</td>\n",
       "      <td>...</td>\n",
       "      <td>...</td>\n",
       "    </tr>\n",
       "    <tr>\n",
       "      <th>144536</th>\n",
       "      <td>144537</td>\n",
       "      <td>Isolation Years@That'S All There Is</td>\n",
       "      <td>1</td>\n",
       "    </tr>\n",
       "    <tr>\n",
       "      <th>144537</th>\n",
       "      <td>144538</td>\n",
       "      <td>Isolation Years@Sign, Sign</td>\n",
       "      <td>1</td>\n",
       "    </tr>\n",
       "    <tr>\n",
       "      <th>144538</th>\n",
       "      <td>144539</td>\n",
       "      <td>Isolation Years@Say Nothing Day</td>\n",
       "      <td>1</td>\n",
       "    </tr>\n",
       "    <tr>\n",
       "      <th>144539</th>\n",
       "      <td>144540</td>\n",
       "      <td>Isolation Years@Mostroems Instrumental</td>\n",
       "      <td>1</td>\n",
       "    </tr>\n",
       "    <tr>\n",
       "      <th>144540</th>\n",
       "      <td>144541</td>\n",
       "      <td>푸른새벽@호접지몽</td>\n",
       "      <td>1</td>\n",
       "    </tr>\n",
       "  </tbody>\n",
       "</table>\n",
       "<p>144541 rows × 3 columns</p>\n",
       "</div>"
      ],
      "text/plain": [
       "          rank                            art_tra_name  nr_of_listens\n",
       "0            1                      Bloc Party@Banquet           2895\n",
       "1            2                   Bloc Party@Blue Light           2212\n",
       "2            3             The Fray@How To Save A Life           2059\n",
       "3            4             Bloc Party@This Modern Love           1972\n",
       "4            5                   Bloc Party@Helicopter           1721\n",
       "...        ...                                     ...            ...\n",
       "144536  144537     Isolation Years@That'S All There Is              1\n",
       "144537  144538              Isolation Years@Sign, Sign              1\n",
       "144538  144539         Isolation Years@Say Nothing Day              1\n",
       "144539  144540  Isolation Years@Mostroems Instrumental              1\n",
       "144540  144541                               푸른새벽@호접지몽              1\n",
       "\n",
       "[144541 rows x 3 columns]"
      ]
     },
     "execution_count": 4,
     "metadata": {},
     "output_type": "execute_result"
    }
   ],
   "source": [
    "songRanks = listenings.groupby('art_tra_name',as_index=False).count()[['art_tra_name','timestamp']].rename({'timestamp':'nr_of_listens'},axis=1)\\\n",
    "                        .sort_values('nr_of_listens', ascending=False).reset_index(drop=True).reset_index().rename({'index':'rank'},axis=1)\n",
    "songRanks['rank'] +=1\n",
    "songRanks"
   ]
  },
  {
   "cell_type": "code",
   "execution_count": 6,
   "metadata": {},
   "outputs": [
    {
     "data": {
      "image/png": "[encoded data removed]",
      "text/plain": [
       "<Figure size 432x288 with 1 Axes>"
      ]
     },
     "metadata": {
      "needs_background": "light"
     },
     "output_type": "display_data"
    }
   ],
   "source": [
    "songRanks.plot(x='rank',y='nr_of_listens',title='Song ranks vs. number of listens',legend=None)\n",
    "plt.xlabel('Song\\'s rank')\n",
    "plt.ylabel('Number of listens')\n",
    "plt.xscale('log', nonpositive='clip')\n",
    "plt.yscale('log', nonpositive='clip')"
   ]
  },
  {
   "cell_type": "code",
   "execution_count": 6,
   "metadata": {},
   "outputs": [
    {
     "data": {
      "image/png": "[encoded data removed]",
      "text/plain": [
       "<Figure size 432x288 with 1 Axes>"
      ]
     },
     "metadata": {
      "needs_background": "light"
     },
     "output_type": "display_data"
    }
   ],
   "source": [
    "songRanks.plot(x='rank',y='nr_of_listens',title='Song ranks vs. number of listens (log scales)')\n",
    "#plt.xscale('log', nonpositive='clip')\n",
    "plt.yscale('log', nonpositive='clip')"
   ]
  },
  {
   "cell_type": "markdown",
   "metadata": {},
   "source": [
    "We have created a custom metric to express the intensity of preferential attachment phenomena in the data. We loop over the listenings data ordered by the timestamp. At each step we calculate the random probability (1 divided by total number of songs that appeared so far) and popularity weighted probability (number of songs listenings so far divided by total nunmber of listenings of all songs so far). At the end we compara the sums of these probabilities. If the weighted probability was higher it means the preferential attachment has an influence, if the values are the same songs popularity has no effect, if the weighted is lower then users tend to favour unpopular songs. This method makes use of the precise timestamp information since the song popularities are different at each point in time. Another advantage is it naturally deals with the fact that the number of distinct users in the dataset is rising over time."
   ]
  },
  {
   "cell_type": "code",
   "execution_count": 7,
   "metadata": {},
   "outputs": [],
   "source": [
    "def pref_attach_intensity(listenings,attrName='art_tra_name',attrFilter=None):\n",
    "    listenCntsDict = {} #  song_name -> song_listen_count\n",
    "    listenCntSum = 0 \n",
    "    randomProbList = []\n",
    "    popularityWeightedProbList = []\n",
    "    #maxWeighedProbs = []\n",
    "\n",
    "    for name,attr in tqdm(zip(listenings['art_tra_name'],listenings[attrName]),total=len(listenings),\n",
    "                                                     position=0, leave=True):\n",
    "        # if the song was already listened to at least once\n",
    "        if (name in listenCntsDict):\n",
    "            # optional filter using datasets user attributes\n",
    "            if(attrName=='art_tra_name' or attr==attrFilter):\n",
    "                # completely random probability\n",
    "                randomProb = 1/len(listenCntsDict)\n",
    "                # probability proportional to the number of listenings of the song\n",
    "                popularityWeightedProb = listenCntsDict[name] / listenCntSum\n",
    "                #maxWeighedProbs.append(max(listenCntsDict.values())/ listenCntSum)\n",
    "\n",
    "                randomProbList.append(randomProb)\n",
    "                popularityWeightedProbList.append(popularityWeightedProb)\n",
    "            \n",
    "            listenCntsDict[name] += 1\n",
    "        # if this is the first time the song is being listened to\n",
    "        else:\n",
    "            listenCntsDict[name] = 1\n",
    "\n",
    "        listenCntSum += 1\n",
    "    \n",
    "    return sum(popularityWeightedProbList)/sum(randomProbList)#,sum(maxWeighedProbs)"
   ]
  },
  {
   "cell_type": "markdown",
   "metadata": {},
   "source": [
    "We test the method on artificial dummy data. We generate 1 million of random song listenings of 1000 distinct songs. As mentioned before, if the preferential attachment is not present in the data the value should be close to 1 which is the case here."
   ]
  },
  {
   "cell_type": "code",
   "execution_count": 8,
   "metadata": {},
   "outputs": [
    {
     "data": {
      "text/html": [
       "<div>\n",
       "<style scoped>\n",
       "    .dataframe tbody tr th:only-of-type {\n",
       "        vertical-align: middle;\n",
       "    }\n",
       "\n",
       "    .dataframe tbody tr th {\n",
       "        vertical-align: top;\n",
       "    }\n",
       "\n",
       "    .dataframe thead th {\n",
       "        text-align: right;\n",
       "    }\n",
       "</style>\n",
       "<table border=\"1\" class=\"dataframe\">\n",
       "  <thead>\n",
       "    <tr style=\"text-align: right;\">\n",
       "      <th></th>\n",
       "      <th>art_tra_name</th>\n",
       "    </tr>\n",
       "  </thead>\n",
       "  <tbody>\n",
       "    <tr>\n",
       "      <th>0</th>\n",
       "      <td>865</td>\n",
       "    </tr>\n",
       "    <tr>\n",
       "      <th>1</th>\n",
       "      <td>395</td>\n",
       "    </tr>\n",
       "    <tr>\n",
       "      <th>2</th>\n",
       "      <td>777</td>\n",
       "    </tr>\n",
       "    <tr>\n",
       "      <th>3</th>\n",
       "      <td>912</td>\n",
       "    </tr>\n",
       "    <tr>\n",
       "      <th>4</th>\n",
       "      <td>431</td>\n",
       "    </tr>\n",
       "  </tbody>\n",
       "</table>\n",
       "</div>"
      ],
      "text/plain": [
       "   art_tra_name\n",
       "0           865\n",
       "1           395\n",
       "2           777\n",
       "3           912\n",
       "4           431"
      ]
     },
     "execution_count": 8,
     "metadata": {},
     "output_type": "execute_result"
    }
   ],
   "source": [
    "random.seed(0)\n",
    "N_DISTINCT_SONGS = 1000\n",
    "N_LISTENINGS = 1000000\n",
    "\n",
    "artTraNameTest = [random.randint(1,N_DISTINCT_SONGS) for x in range(N_LISTENINGS)]\n",
    "testDf = pd.DataFrame()\n",
    "testDf['art_tra_name'] = artTraNameTest\n",
    "testDf.head()"
   ]
  },
  {
   "cell_type": "code",
   "execution_count": 9,
   "metadata": {},
   "outputs": [
    {
     "name": "stderr",
     "output_type": "stream",
     "text": [
      "100%|██████████| 1000000/1000000 [00:01<00:00, 862013.27it/s]\n"
     ]
    },
    {
     "data": {
      "text/plain": [
       "0.9999717900756318"
      ]
     },
     "execution_count": 9,
     "metadata": {},
     "output_type": "execute_result"
    }
   ],
   "source": [
    "pref_attach_intensity(testDf)"
   ]
  },
  {
   "cell_type": "code",
   "execution_count": null,
   "metadata": {},
   "outputs": [],
   "source": [
    "random.seed(0)\n",
    "N_DISTINCT_SONGS = 1000\n",
    "N_LISTENINGS = 1000000\n",
    "\n",
    "\n",
    "artTraNameTest = [random.randint(1,N_DISTINCT_SONGS) for x in range(N_LISTENINGS)]\n",
    "testDf = pd.DataFrame()\n",
    "testDf['art_tra_name'] = artTraNameTest\n",
    "testDf.head()"
   ]
  },
  {
   "cell_type": "markdown",
   "metadata": {},
   "source": [
    "We create another random dataset, but this time the probabilities of song listening are proportional its number of listenings. We get a value of 2 indicating the preferential attachment."
   ]
  },
  {
   "cell_type": "code",
   "execution_count": 63,
   "metadata": {
    "scrolled": true
   },
   "outputs": [
    {
     "name": "stderr",
     "output_type": "stream",
     "text": [
      "100%|██████████| 1000000/1000000 [03:43<00:00, 4482.57it/s]\n"
     ]
    },
    {
     "data": {
      "text/html": [
       "<div>\n",
       "<style scoped>\n",
       "    .dataframe tbody tr th:only-of-type {\n",
       "        vertical-align: middle;\n",
       "    }\n",
       "\n",
       "    .dataframe tbody tr th {\n",
       "        vertical-align: top;\n",
       "    }\n",
       "\n",
       "    .dataframe thead th {\n",
       "        text-align: right;\n",
       "    }\n",
       "</style>\n",
       "<table border=\"1\" class=\"dataframe\">\n",
       "  <thead>\n",
       "    <tr style=\"text-align: right;\">\n",
       "      <th></th>\n",
       "      <th>art_tra_name</th>\n",
       "    </tr>\n",
       "  </thead>\n",
       "  <tbody>\n",
       "    <tr>\n",
       "      <th>0</th>\n",
       "      <td>715</td>\n",
       "    </tr>\n",
       "    <tr>\n",
       "      <th>1</th>\n",
       "      <td>995</td>\n",
       "    </tr>\n",
       "    <tr>\n",
       "      <th>2</th>\n",
       "      <td>7</td>\n",
       "    </tr>\n",
       "    <tr>\n",
       "      <th>3</th>\n",
       "      <td>800</td>\n",
       "    </tr>\n",
       "    <tr>\n",
       "      <th>4</th>\n",
       "      <td>977</td>\n",
       "    </tr>\n",
       "  </tbody>\n",
       "</table>\n",
       "</div>"
      ],
      "text/plain": [
       "   art_tra_name\n",
       "0           715\n",
       "1           995\n",
       "2             7\n",
       "3           800\n",
       "4           977"
      ]
     },
     "execution_count": 63,
     "metadata": {},
     "output_type": "execute_result"
    }
   ],
   "source": [
    "listenCnts = [1.0]*N_DISTINCT_SONGS\n",
    "probs = [float(i)/sum(listenCnts) for i in listenCnts]\n",
    "songIds = list(range(N_DISTINCT_SONGS))\n",
    "artTraNameTest = []\n",
    "for i in tqdm(range(N_LISTENINGS)):\n",
    "    song = np.random.choice(songIds, 1, p=probs)[0]\n",
    "    \n",
    "    # increase song count for the song - one listening counts as 2\n",
    "    listenCnts[song] += 1.0\n",
    "    listenCntSum = (1+i)*1 + 1000\n",
    "    # normalize the song selection probabilities to sum to 1\n",
    "    probs = [x/listenCntSum for x in listenCnts]\n",
    "\n",
    "    artTraNameTest.append(song)\n",
    "testDf2 = pd.DataFrame()\n",
    "testDf2['art_tra_name'] = artTraNameTest\n",
    "testDf2.head()"
   ]
  },
  {
   "cell_type": "code",
   "execution_count": 64,
   "metadata": {},
   "outputs": [
    {
     "name": "stderr",
     "output_type": "stream",
     "text": [
      "100%|██████████| 1000000/1000000 [00:01<00:00, 831120.24it/s]\n"
     ]
    },
    {
     "data": {
      "text/plain": [
       "1.967194602656769"
      ]
     },
     "execution_count": 64,
     "metadata": {},
     "output_type": "execute_result"
    }
   ],
   "source": [
    "pref_attach_intensity(testDf2)"
   ]
  },
  {
   "cell_type": "markdown",
   "metadata": {},
   "source": [
    "We generate another dataset - this time we double the preferential attachment by counting each song listening as 2. We get a value of 3 which confirms the custom function results increase linearly."
   ]
  },
  {
   "cell_type": "code",
   "execution_count": 60,
   "metadata": {
    "scrolled": true
   },
   "outputs": [
    {
     "name": "stderr",
     "output_type": "stream",
     "text": [
      "100%|██████████| 1000000/1000000 [03:43<00:00, 4470.70it/s]\n"
     ]
    },
    {
     "data": {
      "text/html": [
       "<div>\n",
       "<style scoped>\n",
       "    .dataframe tbody tr th:only-of-type {\n",
       "        vertical-align: middle;\n",
       "    }\n",
       "\n",
       "    .dataframe tbody tr th {\n",
       "        vertical-align: top;\n",
       "    }\n",
       "\n",
       "    .dataframe thead th {\n",
       "        text-align: right;\n",
       "    }\n",
       "</style>\n",
       "<table border=\"1\" class=\"dataframe\">\n",
       "  <thead>\n",
       "    <tr style=\"text-align: right;\">\n",
       "      <th></th>\n",
       "      <th>art_tra_name</th>\n",
       "    </tr>\n",
       "  </thead>\n",
       "  <tbody>\n",
       "    <tr>\n",
       "      <th>0</th>\n",
       "      <td>51</td>\n",
       "    </tr>\n",
       "    <tr>\n",
       "      <th>1</th>\n",
       "      <td>420</td>\n",
       "    </tr>\n",
       "    <tr>\n",
       "      <th>2</th>\n",
       "      <td>979</td>\n",
       "    </tr>\n",
       "    <tr>\n",
       "      <th>3</th>\n",
       "      <td>34</td>\n",
       "    </tr>\n",
       "    <tr>\n",
       "      <th>4</th>\n",
       "      <td>998</td>\n",
       "    </tr>\n",
       "  </tbody>\n",
       "</table>\n",
       "</div>"
      ],
      "text/plain": [
       "   art_tra_name\n",
       "0            51\n",
       "1           420\n",
       "2           979\n",
       "3            34\n",
       "4           998"
      ]
     },
     "execution_count": 60,
     "metadata": {},
     "output_type": "execute_result"
    }
   ],
   "source": [
    "listenCnts = [1.0]*N_DISTINCT_SONGS\n",
    "probs = [float(i)/sum(listenCnts) for i in listenCnts]\n",
    "songIds = list(range(N_DISTINCT_SONGS))\n",
    "artTraNameTest = []\n",
    "for i in tqdm(range(N_LISTENINGS)):\n",
    "    song = np.random.choice(songIds, 1, p=probs)[0]\n",
    "    \n",
    "    # increase song count for the song - one listening counts as 2\n",
    "    listenCnts[song] += 2.0\n",
    "    listenCntSum = (1+i)*2 + 1000\n",
    "    # normalize the song selection probabilities to sum to 1\n",
    "    probs = [x/listenCntSum for x in listenCnts]\n",
    "\n",
    "    artTraNameTest.append(song)\n",
    "testDf3 = pd.DataFrame()\n",
    "testDf3['art_tra_name'] = artTraNameTest\n",
    "testDf3.head()"
   ]
  },
  {
   "cell_type": "code",
   "execution_count": 61,
   "metadata": {},
   "outputs": [
    {
     "name": "stderr",
     "output_type": "stream",
     "text": [
      "100%|██████████| 1000000/1000000 [00:01<00:00, 834565.79it/s]\n"
     ]
    },
    {
     "data": {
      "text/plain": [
       "3.0143353687063845"
      ]
     },
     "execution_count": 61,
     "metadata": {},
     "output_type": "execute_result"
    }
   ],
   "source": [
    "pref_attach_intensity(testDf3)"
   ]
  },
  {
   "cell_type": "markdown",
   "metadata": {},
   "source": [
    "We calculate the value for the real data, we can see the preferential attachment is a strong phenomenon in this dataset."
   ]
  },
  {
   "cell_type": "code",
   "execution_count": 15,
   "metadata": {},
   "outputs": [
    {
     "name": "stderr",
     "output_type": "stream",
     "text": [
      "100%|██████████| 1726049/1726049 [00:02<00:00, 721665.63it/s]\n"
     ]
    },
    {
     "data": {
      "text/plain": [
       "4.787232306971177"
      ]
     },
     "execution_count": 15,
     "metadata": {},
     "output_type": "execute_result"
    }
   ],
   "source": [
    "pref_attach_intensity(listenings)"
   ]
  },
  {
   "cell_type": "markdown",
   "metadata": {},
   "source": [
    "# Comparing preferential attachment for subsets of the dataset based on the attributes"
   ]
  },
  {
   "cell_type": "markdown",
   "metadata": {},
   "source": [
    "## User's gender"
   ]
  },
  {
   "cell_type": "markdown",
   "metadata": {},
   "source": [
    "When we calculate the values for different genders in the data we can see we get a slightly bigger results for females."
   ]
  },
  {
   "cell_type": "code",
   "execution_count": 16,
   "metadata": {},
   "outputs": [
    {
     "name": "stderr",
     "output_type": "stream",
     "text": [
      "100%|██████████| 1726049/1726049 [00:02<00:00, 775712.91it/s]\n"
     ]
    },
    {
     "data": {
      "text/plain": [
       "4.188388858152285"
      ]
     },
     "execution_count": 16,
     "metadata": {},
     "output_type": "execute_result"
    }
   ],
   "source": [
    "pref_attach_intensity(listenings,'gender','m')"
   ]
  },
  {
   "cell_type": "code",
   "execution_count": 17,
   "metadata": {},
   "outputs": [
    {
     "name": "stderr",
     "output_type": "stream",
     "text": [
      "100%|██████████| 1726049/1726049 [00:02<00:00, 858226.03it/s]\n"
     ]
    },
    {
     "data": {
      "text/plain": [
       "6.517967836182568"
      ]
     },
     "execution_count": 17,
     "metadata": {},
     "output_type": "execute_result"
    }
   ],
   "source": [
    "pref_attach_intensity(listenings,'gender','f')"
   ]
  },
  {
   "cell_type": "markdown",
   "metadata": {},
   "source": [
    "## User's geographical area"
   ]
  },
  {
   "cell_type": "code",
   "execution_count": 18,
   "metadata": {},
   "outputs": [],
   "source": [
    "europeList = ['United Kingdom', 'Finland', 'Germany', 'Sweden', 'Canada', 'Switzerland',\n",
    "    'Norway', 'Poland', 'Netherlands', 'Belgium', 'Italy', 'Romania',\n",
    "       'Russian Federation', 'Spain',\n",
    "       'Ireland','Czech Republic','France', 'China',\n",
    "       'Austria', 'Slovakia', 'Malta',\n",
    "       'Latvia', 'Estonia', 'Lithuania',\n",
    "      'Iceland', 'Bulgaria',\n",
    "      'Portugal', 'Croatia',  'Serbia', 'Greece', 'Hungary',\n",
    "       'Bosnia and Herzegovina', 'Slovenia',\n",
    "       'Belarus',  'Macedonia']"
   ]
  },
  {
   "cell_type": "code",
   "execution_count": 19,
   "metadata": {},
   "outputs": [],
   "source": [
    "# we rename the European countries so that we have a bigger geographical group which we can compare to the United States\n",
    "listenings['country'] = listenings['country'].apply(lambda x: 'Europe' if x in europeList else x)"
   ]
  },
  {
   "cell_type": "markdown",
   "metadata": {},
   "source": [
    "There is almost no difference between the values for users from these two different geographical areas."
   ]
  },
  {
   "cell_type": "code",
   "execution_count": 20,
   "metadata": {},
   "outputs": [
    {
     "name": "stderr",
     "output_type": "stream",
     "text": [
      "100%|██████████| 1726049/1726049 [00:01<00:00, 910247.95it/s]\n"
     ]
    },
    {
     "data": {
      "text/plain": [
       "5.135018026838303"
      ]
     },
     "execution_count": 20,
     "metadata": {},
     "output_type": "execute_result"
    }
   ],
   "source": [
    "pref_attach_intensity(listenings,'country','United States')"
   ]
  },
  {
   "cell_type": "code",
   "execution_count": 21,
   "metadata": {},
   "outputs": [
    {
     "name": "stderr",
     "output_type": "stream",
     "text": [
      "100%|██████████| 1726049/1726049 [00:02<00:00, 799264.00it/s]\n"
     ]
    },
    {
     "data": {
      "text/plain": [
       "4.567035054996103"
      ]
     },
     "execution_count": 21,
     "metadata": {},
     "output_type": "execute_result"
    }
   ],
   "source": [
    "pref_attach_intensity(listenings,'country','Europe')"
   ]
  },
  {
   "cell_type": "markdown",
   "metadata": {},
   "source": [
    "## Song genres"
   ]
  },
  {
   "cell_type": "code",
   "execution_count": 22,
   "metadata": {},
   "outputs": [
    {
     "data": {
      "text/html": [
       "<div>\n",
       "<style scoped>\n",
       "    .dataframe tbody tr th:only-of-type {\n",
       "        vertical-align: middle;\n",
       "    }\n",
       "\n",
       "    .dataframe tbody tr th {\n",
       "        vertical-align: top;\n",
       "    }\n",
       "\n",
       "    .dataframe thead th {\n",
       "        text-align: right;\n",
       "    }\n",
       "</style>\n",
       "<table border=\"1\" class=\"dataframe\">\n",
       "  <thead>\n",
       "    <tr style=\"text-align: right;\">\n",
       "      <th></th>\n",
       "      <th>userid</th>\n",
       "      <th>timestamp</th>\n",
       "      <th>artname</th>\n",
       "      <th>traname</th>\n",
       "      <th>album_id</th>\n",
       "      <th>album_date</th>\n",
       "      <th>tid</th>\n",
       "      <th>tag</th>\n",
       "      <th>art_tra_name</th>\n",
       "    </tr>\n",
       "  </thead>\n",
       "  <tbody>\n",
       "    <tr>\n",
       "      <th>98181</th>\n",
       "      <td>user_000525</td>\n",
       "      <td>2005-02-14 00:07:16+00:00</td>\n",
       "      <td>Muse</td>\n",
       "      <td>The Small Print</td>\n",
       "      <td>1dad9b13-1f02-33f6-815e-7fb2e6af17ea</td>\n",
       "      <td>2003-09-28</td>\n",
       "      <td>TRAZCOX128F42B6555</td>\n",
       "      <td>rock</td>\n",
       "      <td>Muse@The Small Print</td>\n",
       "    </tr>\n",
       "    <tr>\n",
       "      <th>99070</th>\n",
       "      <td>user_000525</td>\n",
       "      <td>2005-02-14 00:07:16+00:00</td>\n",
       "      <td>Muse</td>\n",
       "      <td>The Small Print</td>\n",
       "      <td>1dad9b13-1f02-33f6-815e-7fb2e6af17ea</td>\n",
       "      <td>2003-09-28</td>\n",
       "      <td>TROOXQV128F932B6EF</td>\n",
       "      <td>rock</td>\n",
       "      <td>Muse@The Small Print</td>\n",
       "    </tr>\n",
       "    <tr>\n",
       "      <th>97256</th>\n",
       "      <td>user_000525</td>\n",
       "      <td>2005-02-14 00:10:52+00:00</td>\n",
       "      <td>Muse</td>\n",
       "      <td>Endlessly</td>\n",
       "      <td>1dad9b13-1f02-33f6-815e-7fb2e6af17ea</td>\n",
       "      <td>2003-09-28</td>\n",
       "      <td>TRSFZGX128F932B6F0</td>\n",
       "      <td>rock</td>\n",
       "      <td>Muse@Endlessly</td>\n",
       "    </tr>\n",
       "    <tr>\n",
       "      <th>110586</th>\n",
       "      <td>user_000525</td>\n",
       "      <td>2005-02-14 00:18:16+00:00</td>\n",
       "      <td>Muse</td>\n",
       "      <td>Ruled By Secrecy</td>\n",
       "      <td>1dad9b13-1f02-33f6-815e-7fb2e6af17ea</td>\n",
       "      <td>2003-09-28</td>\n",
       "      <td>TRSXXLJ128F932B6F2</td>\n",
       "      <td>rock</td>\n",
       "      <td>Muse@Ruled By Secrecy</td>\n",
       "    </tr>\n",
       "    <tr>\n",
       "      <th>111358</th>\n",
       "      <td>user_000525</td>\n",
       "      <td>2005-02-14 00:18:16+00:00</td>\n",
       "      <td>Muse</td>\n",
       "      <td>Ruled By Secrecy</td>\n",
       "      <td>1dad9b13-1f02-33f6-815e-7fb2e6af17ea</td>\n",
       "      <td>2003-09-28</td>\n",
       "      <td>TRYYOWT128F42B6558</td>\n",
       "      <td>rock</td>\n",
       "      <td>Muse@Ruled By Secrecy</td>\n",
       "    </tr>\n",
       "  </tbody>\n",
       "</table>\n",
       "</div>"
      ],
      "text/plain": [
       "             userid                  timestamp artname           traname  \\\n",
       "98181   user_000525  2005-02-14 00:07:16+00:00    Muse   The Small Print   \n",
       "99070   user_000525  2005-02-14 00:07:16+00:00    Muse   The Small Print   \n",
       "97256   user_000525  2005-02-14 00:10:52+00:00    Muse         Endlessly   \n",
       "110586  user_000525  2005-02-14 00:18:16+00:00    Muse  Ruled By Secrecy   \n",
       "111358  user_000525  2005-02-14 00:18:16+00:00    Muse  Ruled By Secrecy   \n",
       "\n",
       "                                    album_id  album_date                 tid  \\\n",
       "98181   1dad9b13-1f02-33f6-815e-7fb2e6af17ea  2003-09-28  TRAZCOX128F42B6555   \n",
       "99070   1dad9b13-1f02-33f6-815e-7fb2e6af17ea  2003-09-28  TROOXQV128F932B6EF   \n",
       "97256   1dad9b13-1f02-33f6-815e-7fb2e6af17ea  2003-09-28  TRSFZGX128F932B6F0   \n",
       "110586  1dad9b13-1f02-33f6-815e-7fb2e6af17ea  2003-09-28  TRSXXLJ128F932B6F2   \n",
       "111358  1dad9b13-1f02-33f6-815e-7fb2e6af17ea  2003-09-28  TRYYOWT128F42B6558   \n",
       "\n",
       "         tag           art_tra_name  \n",
       "98181   rock   Muse@The Small Print  \n",
       "99070   rock   Muse@The Small Print  \n",
       "97256   rock         Muse@Endlessly  \n",
       "110586  rock  Muse@Ruled By Secrecy  \n",
       "111358  rock  Muse@Ruled By Secrecy  "
      ]
     },
     "execution_count": 22,
     "metadata": {},
     "output_type": "execute_result"
    }
   ],
   "source": [
    "listeningsWithTags = pd.read_csv('preprocessed_data/listenings_with_years_and_tags.csv')\n",
    "listenings = listenings[listenings['album_date'].apply(lambda x: x.year)>=2005]\n",
    "listeningsWithTags['art_tra_name'] = listeningsWithTags['artname'] + '@' + listeningsWithTags['traname']\n",
    "listeningsWithTags.sort_values(by='timestamp',inplace=True)\n",
    "listeningsWithTags.head()"
   ]
  },
  {
   "cell_type": "code",
   "execution_count": 23,
   "metadata": {},
   "outputs": [
    {
     "data": {
      "text/plain": [
       "array(['rock', 'indie', 'pop', 'alternative', 'electronic'], dtype=object)"
      ]
     },
     "execution_count": 23,
     "metadata": {},
     "output_type": "execute_result"
    }
   ],
   "source": [
    "listeningsWithTags['tag'].unique()"
   ]
  },
  {
   "cell_type": "code",
   "execution_count": 24,
   "metadata": {},
   "outputs": [
    {
     "name": "stderr",
     "output_type": "stream",
     "text": [
      "100%|██████████| 925898/925898 [00:01<00:00, 715564.83it/s]\n",
      "100%|██████████| 530422/530422 [00:00<00:00, 730516.62it/s]\n",
      "100%|██████████| 302398/302398 [00:00<00:00, 759684.29it/s]\n",
      "100%|██████████| 250432/250432 [00:00<00:00, 683757.73it/s]\n",
      "100%|██████████| 417426/417426 [00:00<00:00, 746102.16it/s]\n"
     ]
    }
   ],
   "source": [
    "intensities = []\n",
    "for tag in listeningsWithTags['tag'].unique():\n",
    "    intensities.append(pref_attach_intensity(listeningsWithTags[listeningsWithTags['tag']==tag]))"
   ]
  },
  {
   "cell_type": "markdown",
   "metadata": {},
   "source": [
    "Looking at the results differentiated by songs genre we can clearly see indie genre stands out from the others. It is a bit surprising it is not the pop genre where one would expect the users to be attracted to \"popular\" music the most."
   ]
  },
  {
   "cell_type": "code",
   "execution_count": 25,
   "metadata": {},
   "outputs": [
    {
     "data": {
      "text/plain": [
       "Text(0, 0.5, 'Preferential attachment intensity')"
      ]
     },
     "execution_count": 25,
     "metadata": {},
     "output_type": "execute_result"
    },
    {
     "data": {
      "image/png": "[encoded data removed]",
      "text/plain": [
       "<Figure size 432x288 with 1 Axes>"
      ]
     },
     "metadata": {
      "needs_background": "light"
     },
     "output_type": "display_data"
    }
   ],
   "source": [
    "plt.bar(x=listeningsWithTags['tag'].unique(), height=intensities)\n",
    "plt.xlabel('Song\\'s genre')\n",
    "plt.ylabel('Preferential attachment intensity')"
   ]
  },
  {
   "cell_type": "code",
   "execution_count": null,
   "metadata": {},
   "outputs": [],
   "source": []
  }
 ],
 "metadata": {
  "kernelspec": {
   "display_name": "Python 3",
   "language": "python",
   "name": "python3"
  },
  "language_info": {
   "codemirror_mode": {
    "name": "ipython",
    "version": 3
   },
   "file_extension": ".py",
   "mimetype": "text/x-python",
   "name": "python",
   "nbconvert_exporter": "python",
   "pygments_lexer": "ipython3",
   "version": "3.8.5"
  }
 },
 "nbformat": 4,
 "nbformat_minor": 4
}
