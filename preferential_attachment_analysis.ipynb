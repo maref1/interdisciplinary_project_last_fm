{
 "cells": [
  {
   "cell_type": "code",
   "execution_count": 1,
   "metadata": {},
   "outputs": [],
   "source": [
    "import pandas as pd\n",
    "import networkx as nx\n",
    "from networkx.algorithms.bipartite.basic import density\n",
    "import matplotlib.pyplot as plt\n",
    "import matplotlib\n",
    "from tqdm import tqdm\n",
    "import random"
   ]
  },
  {
   "cell_type": "code",
   "execution_count": 2,
   "metadata": {},
   "outputs": [
    {
     "data": {
      "text/html": [
       "<div>\n",
       "<style scoped>\n",
       "    .dataframe tbody tr th:only-of-type {\n",
       "        vertical-align: middle;\n",
       "    }\n",
       "\n",
       "    .dataframe tbody tr th {\n",
       "        vertical-align: top;\n",
       "    }\n",
       "\n",
       "    .dataframe thead th {\n",
       "        text-align: right;\n",
       "    }\n",
       "</style>\n",
       "<table border=\"1\" class=\"dataframe\">\n",
       "  <thead>\n",
       "    <tr style=\"text-align: right;\">\n",
       "      <th></th>\n",
       "      <th>userid</th>\n",
       "      <th>timestamp</th>\n",
       "      <th>artname</th>\n",
       "      <th>traname</th>\n",
       "      <th>album_id</th>\n",
       "      <th>album_date</th>\n",
       "      <th>gender</th>\n",
       "      <th>country</th>\n",
       "      <th>art_tra_name</th>\n",
       "    </tr>\n",
       "  </thead>\n",
       "  <tbody>\n",
       "    <tr>\n",
       "      <th>9838282</th>\n",
       "      <td>user_000285</td>\n",
       "      <td>2005-02-14 00:02:10+00:00</td>\n",
       "      <td>The Killers</td>\n",
       "      <td>Jenny Was A Friend Of Mine</td>\n",
       "      <td>bc9bd08c-1d1a-4e4e-bd40-8829aa120013</td>\n",
       "      <td>2006-02-24</td>\n",
       "      <td>f</td>\n",
       "      <td>United States</td>\n",
       "      <td>The Killers@Jenny Was A Friend Of Mine</td>\n",
       "    </tr>\n",
       "    <tr>\n",
       "      <th>9117182</th>\n",
       "      <td>user_000966</td>\n",
       "      <td>2005-02-14 00:10:09+00:00</td>\n",
       "      <td>Michael Jackson</td>\n",
       "      <td>Billie Jean</td>\n",
       "      <td>9774b815-8ffa-4fd2-8eb5-c25539322a77</td>\n",
       "      <td>2013-10-17</td>\n",
       "      <td>NaN</td>\n",
       "      <td>United States</td>\n",
       "      <td>Michael Jackson@Billie Jean</td>\n",
       "    </tr>\n",
       "    <tr>\n",
       "      <th>8438442</th>\n",
       "      <td>user_000391</td>\n",
       "      <td>2005-02-14 00:11:37+00:00</td>\n",
       "      <td>The Rolling Stones</td>\n",
       "      <td>Brown Sugar</td>\n",
       "      <td>355d957f-cdd6-4902-aa80-f7bf2c4fff38</td>\n",
       "      <td>2009-05-08</td>\n",
       "      <td>f</td>\n",
       "      <td>Germany</td>\n",
       "      <td>The Rolling Stones@Brown Sugar</td>\n",
       "    </tr>\n",
       "    <tr>\n",
       "      <th>3664114</th>\n",
       "      <td>user_000304</td>\n",
       "      <td>2005-02-14 00:24:25+00:00</td>\n",
       "      <td>The Go! Team</td>\n",
       "      <td>Ladyflash</td>\n",
       "      <td>c76128aa-e003-31e7-8892-f16f2fa87051</td>\n",
       "      <td>2005-10-03</td>\n",
       "      <td>f</td>\n",
       "      <td>United Kingdom</td>\n",
       "      <td>The Go! Team@Ladyflash</td>\n",
       "    </tr>\n",
       "    <tr>\n",
       "      <th>3664122</th>\n",
       "      <td>user_000304</td>\n",
       "      <td>2005-02-14 00:27:30+00:00</td>\n",
       "      <td>The Go! Team</td>\n",
       "      <td>Feelgood By Numbers</td>\n",
       "      <td>c76128aa-e003-31e7-8892-f16f2fa87051</td>\n",
       "      <td>2005-10-03</td>\n",
       "      <td>f</td>\n",
       "      <td>United Kingdom</td>\n",
       "      <td>The Go! Team@Feelgood By Numbers</td>\n",
       "    </tr>\n",
       "  </tbody>\n",
       "</table>\n",
       "</div>"
      ],
      "text/plain": [
       "              userid                 timestamp             artname  \\\n",
       "9838282  user_000285 2005-02-14 00:02:10+00:00         The Killers   \n",
       "9117182  user_000966 2005-02-14 00:10:09+00:00     Michael Jackson   \n",
       "8438442  user_000391 2005-02-14 00:11:37+00:00  The Rolling Stones   \n",
       "3664114  user_000304 2005-02-14 00:24:25+00:00        The Go! Team   \n",
       "3664122  user_000304 2005-02-14 00:27:30+00:00        The Go! Team   \n",
       "\n",
       "                            traname                              album_id  \\\n",
       "9838282  Jenny Was A Friend Of Mine  bc9bd08c-1d1a-4e4e-bd40-8829aa120013   \n",
       "9117182                 Billie Jean  9774b815-8ffa-4fd2-8eb5-c25539322a77   \n",
       "8438442                 Brown Sugar  355d957f-cdd6-4902-aa80-f7bf2c4fff38   \n",
       "3664114                   Ladyflash  c76128aa-e003-31e7-8892-f16f2fa87051   \n",
       "3664122         Feelgood By Numbers  c76128aa-e003-31e7-8892-f16f2fa87051   \n",
       "\n",
       "        album_date gender         country  \\\n",
       "9838282 2006-02-24      f   United States   \n",
       "9117182 2013-10-17    NaN   United States   \n",
       "8438442 2009-05-08      f         Germany   \n",
       "3664114 2005-10-03      f  United Kingdom   \n",
       "3664122 2005-10-03      f  United Kingdom   \n",
       "\n",
       "                                   art_tra_name  \n",
       "9838282  The Killers@Jenny Was A Friend Of Mine  \n",
       "9117182             Michael Jackson@Billie Jean  \n",
       "8438442          The Rolling Stones@Brown Sugar  \n",
       "3664114                  The Go! Team@Ladyflash  \n",
       "3664122        The Go! Team@Feelgood By Numbers  "
      ]
     },
     "execution_count": 2,
     "metadata": {},
     "output_type": "execute_result"
    }
   ],
   "source": [
    "listenings = pd.read_csv('preprocessed_data/listenings_with_years_and_users.csv',parse_dates=['timestamp','album_date'])\n",
    "# we only take a look at songs released in the year 2005 and later (when the dataset begins)\n",
    "listenings = listenings[listenings['album_date'].apply(lambda x: x.year)>=2005]\n",
    "# we create a unique identifier from artist and track name\n",
    "listenings['art_tra_name'] = listenings['artname'] + '@' + listenings['traname']\n",
    "# sort the listenings by time\n",
    "listenings.sort_values(by='timestamp',inplace=True)\n",
    "listenings.head()"
   ]
  },
  {
   "cell_type": "markdown",
   "metadata": {},
   "source": [
    "When we look at the degree distribution we can clearly see the typical preferential attachment pattern."
   ]
  },
  {
   "cell_type": "code",
   "execution_count": 3,
   "metadata": {},
   "outputs": [
    {
     "data": {
      "image/png": "[encoded data removed]",
      "text/plain": [
       "<Figure size 432x288 with 1 Axes>"
      ]
     },
     "metadata": {
      "needs_background": "light"
     },
     "output_type": "display_data"
    }
   ],
   "source": [
    "# log scaled degree distribution for songs \n",
    "\n",
    "G = nx.MultiGraph()\n",
    "G.add_nodes_from(listenings['userid'], isSong=False)\n",
    "G.add_nodes_from(listenings['art_tra_name'], isSong=True)\n",
    "G.add_edges_from(list(zip(listenings['userid'],listenings['art_tra_name'])),time = listenings['timestamp'])\n",
    "songDegrees = [G.degree(n) for n,data in G.nodes(data=True) if data['isSong']==True]\n",
    "plt.hist(songDegrees, bins=20)\n",
    "plt.xlabel('Degree of a song (number of listenings)')\n",
    "plt.ylabel('Song count')\n",
    "plt.yscale('log', nonpositive='clip')\n",
    "plt.show()"
   ]
  },
  {
   "cell_type": "code",
   "execution_count": 4,
   "metadata": {},
   "outputs": [
    {
     "data": {
      "text/html": [
       "<div>\n",
       "<style scoped>\n",
       "    .dataframe tbody tr th:only-of-type {\n",
       "        vertical-align: middle;\n",
       "    }\n",
       "\n",
       "    .dataframe tbody tr th {\n",
       "        vertical-align: top;\n",
       "    }\n",
       "\n",
       "    .dataframe thead th {\n",
       "        text-align: right;\n",
       "    }\n",
       "</style>\n",
       "<table border=\"1\" class=\"dataframe\">\n",
       "  <thead>\n",
       "    <tr style=\"text-align: right;\">\n",
       "      <th></th>\n",
       "      <th>rank</th>\n",
       "      <th>art_tra_name</th>\n",
       "      <th>nr_of_listens</th>\n",
       "    </tr>\n",
       "  </thead>\n",
       "  <tbody>\n",
       "    <tr>\n",
       "      <th>0</th>\n",
       "      <td>0</td>\n",
       "      <td>Radiohead@Karma Police</td>\n",
       "      <td>3510</td>\n",
       "    </tr>\n",
       "    <tr>\n",
       "      <th>1</th>\n",
       "      <td>1</td>\n",
       "      <td>Death Cab For Cutie@Soul Meets Body</td>\n",
       "      <td>3458</td>\n",
       "    </tr>\n",
       "    <tr>\n",
       "      <th>2</th>\n",
       "      <td>2</td>\n",
       "      <td>Muse@Supermassive Black Hole</td>\n",
       "      <td>3436</td>\n",
       "    </tr>\n",
       "    <tr>\n",
       "      <th>3</th>\n",
       "      <td>3</td>\n",
       "      <td>Muse@Starlight</td>\n",
       "      <td>3021</td>\n",
       "    </tr>\n",
       "    <tr>\n",
       "      <th>4</th>\n",
       "      <td>4</td>\n",
       "      <td>Britney Spears@Gimme More</td>\n",
       "      <td>2977</td>\n",
       "    </tr>\n",
       "    <tr>\n",
       "      <th>...</th>\n",
       "      <td>...</td>\n",
       "      <td>...</td>\n",
       "      <td>...</td>\n",
       "    </tr>\n",
       "    <tr>\n",
       "      <th>227740</th>\n",
       "      <td>227740</td>\n",
       "      <td>John Legend@Dance To The Music</td>\n",
       "      <td>1</td>\n",
       "    </tr>\n",
       "    <tr>\n",
       "      <th>227741</th>\n",
       "      <td>227741</td>\n",
       "      <td>Tender Trap@Unputdownable</td>\n",
       "      <td>1</td>\n",
       "    </tr>\n",
       "    <tr>\n",
       "      <th>227742</th>\n",
       "      <td>227742</td>\n",
       "      <td>Tender Trap@¿Como Te Llamas?</td>\n",
       "      <td>1</td>\n",
       "    </tr>\n",
       "    <tr>\n",
       "      <th>227743</th>\n",
       "      <td>227743</td>\n",
       "      <td>Tenderhooks@Armchair Pharmacist</td>\n",
       "      <td>1</td>\n",
       "    </tr>\n",
       "    <tr>\n",
       "      <th>227744</th>\n",
       "      <td>227744</td>\n",
       "      <td>Ｖｅｒｓａｉｌｌｅｓ@The Revenant Choir</td>\n",
       "      <td>1</td>\n",
       "    </tr>\n",
       "  </tbody>\n",
       "</table>\n",
       "<p>227745 rows × 3 columns</p>\n",
       "</div>"
      ],
      "text/plain": [
       "          rank                         art_tra_name  nr_of_listens\n",
       "0            0               Radiohead@Karma Police           3510\n",
       "1            1  Death Cab For Cutie@Soul Meets Body           3458\n",
       "2            2         Muse@Supermassive Black Hole           3436\n",
       "3            3                       Muse@Starlight           3021\n",
       "4            4            Britney Spears@Gimme More           2977\n",
       "...        ...                                  ...            ...\n",
       "227740  227740       John Legend@Dance To The Music              1\n",
       "227741  227741            Tender Trap@Unputdownable              1\n",
       "227742  227742         Tender Trap@¿Como Te Llamas?              1\n",
       "227743  227743      Tenderhooks@Armchair Pharmacist              1\n",
       "227744  227744        Ｖｅｒｓａｉｌｌｅｓ@The Revenant Choir              1\n",
       "\n",
       "[227745 rows x 3 columns]"
      ]
     },
     "execution_count": 4,
     "metadata": {},
     "output_type": "execute_result"
    }
   ],
   "source": [
    "songRanks = listenings.groupby('art_tra_name',as_index=False).count()[['art_tra_name','timestamp']].rename({'timestamp':'nr_of_listens'},axis=1)\\\n",
    "                        .sort_values('nr_of_listens', ascending=False).reset_index(drop=True).reset_index().rename({'index':'rank'},axis=1)\n",
    "songRanks"
   ]
  },
  {
   "cell_type": "code",
   "execution_count": 5,
   "metadata": {},
   "outputs": [
    {
     "data": {
      "text/plain": [
       "<AxesSubplot:title={'center':'Song ranks vs. number of listens'}, xlabel='rank'>"
      ]
     },
     "execution_count": 5,
     "metadata": {},
     "output_type": "execute_result"
    },
    {
     "data": {
      "image/png": "[encoded data removed]",
      "text/plain": [
       "<Figure size 432x288 with 1 Axes>"
      ]
     },
     "metadata": {
      "needs_background": "light"
     },
     "output_type": "display_data"
    }
   ],
   "source": [
    "songRanks.plot(x='rank',y='nr_of_listens',title='Song ranks vs. number of listens')"
   ]
  },
  {
   "cell_type": "markdown",
   "metadata": {},
   "source": [
    "We have created a custom metric to express the intensity of preferential attachment phenomena in the data. We loop over the listenings data ordered by the timestamp. At each step we calculate the random probability (1 divided by total number of songs that appeared so far) and popularity weighted probability (number of songs listenings so far divided by total nunmber of listenings of all songs so far). At the end we compara the sums of these probabilities. If the weighted probability was higher it means the preferential attachment has an influence, if the values are the same songs popularity has no effect, if the weighted is lower then users tend to favour unpopular songs. This method makes use of the precise timestamp information since the song popularities are different at each point in time. Another advantage is it naturally deals with the fact that the number of distinct users in the dataset is rising over time."
   ]
  },
  {
   "cell_type": "code",
   "execution_count": 6,
   "metadata": {},
   "outputs": [],
   "source": [
    "def pref_attach_intensity(listenings,attrName='art_tra_name',attrFilter=None):\n",
    "    listenCntsDict = {} #  song_name -> song_listen_count\n",
    "    listenCntSum = 0 \n",
    "    randomProbList = []\n",
    "    popularityWeightedProbList = []\n",
    "\n",
    "    for name,attr in tqdm(zip(listenings['art_tra_name'],listenings[attrName]),total=len(listenings),\n",
    "                                                     position=0, leave=True):\n",
    "        # if the song was already listened to at least once\n",
    "        if (name in listenCntsDict):\n",
    "            # optional filter using datasets user attributes\n",
    "            if(attrName=='art_tra_name' or attr==attrFilter):\n",
    "                # completely random probability\n",
    "                randomProb = 1/len(listenCntsDict)\n",
    "                # probability proportional to the number of listenings of the song\n",
    "                popularityWeightedProb = listenCntsDict[name] / listenCntSum\n",
    "\n",
    "                randomProbList.append(randomProb)\n",
    "                popularityWeightedProbList.append(popularityWeightedProb)\n",
    "            \n",
    "            listenCntsDict[name] += 1\n",
    "        # if this is the first time the song is being listened to\n",
    "        else:\n",
    "            listenCntsDict[name] = 1\n",
    "\n",
    "        listenCntSum += 1\n",
    "    \n",
    "    return sum(popularityWeightedProbList)/sum(randomProbList)"
   ]
  },
  {
   "cell_type": "markdown",
   "metadata": {},
   "source": [
    "We test the method on artificial dummy data. We generate 1 million of random song listenings of 1000 distinct songs. As mentioned before, if the preferential attachment is not present in the data the value should be close to 1 which is the case here."
   ]
  },
  {
   "cell_type": "code",
   "execution_count": 7,
   "metadata": {},
   "outputs": [
    {
     "data": {
      "text/html": [
       "<div>\n",
       "<style scoped>\n",
       "    .dataframe tbody tr th:only-of-type {\n",
       "        vertical-align: middle;\n",
       "    }\n",
       "\n",
       "    .dataframe tbody tr th {\n",
       "        vertical-align: top;\n",
       "    }\n",
       "\n",
       "    .dataframe thead th {\n",
       "        text-align: right;\n",
       "    }\n",
       "</style>\n",
       "<table border=\"1\" class=\"dataframe\">\n",
       "  <thead>\n",
       "    <tr style=\"text-align: right;\">\n",
       "      <th></th>\n",
       "      <th>art_tra_name</th>\n",
       "    </tr>\n",
       "  </thead>\n",
       "  <tbody>\n",
       "    <tr>\n",
       "      <th>0</th>\n",
       "      <td>865</td>\n",
       "    </tr>\n",
       "    <tr>\n",
       "      <th>1</th>\n",
       "      <td>395</td>\n",
       "    </tr>\n",
       "    <tr>\n",
       "      <th>2</th>\n",
       "      <td>777</td>\n",
       "    </tr>\n",
       "    <tr>\n",
       "      <th>3</th>\n",
       "      <td>912</td>\n",
       "    </tr>\n",
       "    <tr>\n",
       "      <th>4</th>\n",
       "      <td>431</td>\n",
       "    </tr>\n",
       "  </tbody>\n",
       "</table>\n",
       "</div>"
      ],
      "text/plain": [
       "   art_tra_name\n",
       "0           865\n",
       "1           395\n",
       "2           777\n",
       "3           912\n",
       "4           431"
      ]
     },
     "execution_count": 7,
     "metadata": {},
     "output_type": "execute_result"
    }
   ],
   "source": [
    "random.seed(0)\n",
    "N_DISTINCT_SONGS = 1000\n",
    "N_LISTENINGS = 1000000\n",
    "\n",
    "artTraNameTest = [random.randint(1,N_DISTINCT_SONGS) for x in range(N_LISTENINGS)]\n",
    "testDf = pd.DataFrame()\n",
    "testDf['art_tra_name'] = artTraNameTest\n",
    "testDf.head()"
   ]
  },
  {
   "cell_type": "code",
   "execution_count": 8,
   "metadata": {},
   "outputs": [
    {
     "name": "stderr",
     "output_type": "stream",
     "text": [
      "100%|██████████| 1000000/1000000 [00:01<00:00, 789660.97it/s]\n"
     ]
    },
    {
     "data": {
      "text/plain": [
       "0.9999717900756318"
      ]
     },
     "execution_count": 8,
     "metadata": {},
     "output_type": "execute_result"
    }
   ],
   "source": [
    "pref_attach_intensity(testDf)"
   ]
  },
  {
   "cell_type": "markdown",
   "metadata": {},
   "source": [
    "We calculate the value for the real data, we can see the preferential attachment is a strong phenomenon in this dataset."
   ]
  },
  {
   "cell_type": "code",
   "execution_count": 9,
   "metadata": {},
   "outputs": [
    {
     "name": "stderr",
     "output_type": "stream",
     "text": [
      "100%|██████████| 5581135/5581135 [00:09<00:00, 572605.19it/s]\n"
     ]
    },
    {
     "data": {
      "text/plain": [
       "6.524383247647505"
      ]
     },
     "execution_count": 9,
     "metadata": {},
     "output_type": "execute_result"
    }
   ],
   "source": [
    "pref_attach_intensity(listenings)"
   ]
  },
  {
   "cell_type": "markdown",
   "metadata": {},
   "source": [
    "# Comparing preferential attachment for subsets of the dataset based on the attributes"
   ]
  },
  {
   "cell_type": "markdown",
   "metadata": {},
   "source": [
    "## User's gender"
   ]
  },
  {
   "cell_type": "markdown",
   "metadata": {},
   "source": [
    "When we calculate the values for different genders in the data we can see we get a slightly bigger results for males."
   ]
  },
  {
   "cell_type": "code",
   "execution_count": 10,
   "metadata": {},
   "outputs": [
    {
     "name": "stderr",
     "output_type": "stream",
     "text": [
      "100%|██████████| 5581135/5581135 [00:08<00:00, 627329.71it/s]\n"
     ]
    },
    {
     "data": {
      "text/plain": [
       "6.112481243530321"
      ]
     },
     "execution_count": 10,
     "metadata": {},
     "output_type": "execute_result"
    }
   ],
   "source": [
    "pref_attach_intensity(listenings,'gender','m')"
   ]
  },
  {
   "cell_type": "code",
   "execution_count": 11,
   "metadata": {},
   "outputs": [
    {
     "name": "stderr",
     "output_type": "stream",
     "text": [
      "100%|██████████| 5581135/5581135 [00:08<00:00, 684408.75it/s]\n"
     ]
    },
    {
     "data": {
      "text/plain": [
       "7.683770002978276"
      ]
     },
     "execution_count": 11,
     "metadata": {},
     "output_type": "execute_result"
    }
   ],
   "source": [
    "pref_attach_intensity(listenings,'gender','f')"
   ]
  },
  {
   "cell_type": "markdown",
   "metadata": {},
   "source": [
    "## User's geographical area"
   ]
  },
  {
   "cell_type": "code",
   "execution_count": 12,
   "metadata": {},
   "outputs": [],
   "source": [
    "europeList = ['United Kingdom', 'Finland', 'Germany', 'Sweden', 'Canada', 'Switzerland',\n",
    "    'Norway', 'Poland', 'Netherlands', 'Belgium', 'Italy', 'Romania',\n",
    "       'Russian Federation', 'Spain',\n",
    "       'Ireland','Czech Republic','France', 'China',\n",
    "       'Austria', 'Slovakia', 'Malta',\n",
    "       'Latvia', 'Estonia', 'Lithuania',\n",
    "      'Iceland', 'Bulgaria',\n",
    "      'Portugal', 'Croatia',  'Serbia', 'Greece', 'Hungary',\n",
    "       'Bosnia and Herzegovina', 'Slovenia',\n",
    "       'Belarus',  'Macedonia']"
   ]
  },
  {
   "cell_type": "code",
   "execution_count": 13,
   "metadata": {},
   "outputs": [],
   "source": [
    "# we rename the European countries so that we have a bigger geographical group which we can compare to the United States\n",
    "listenings['country'] = listenings['country'].apply(lambda x: 'Europe' if x in europeList else x)"
   ]
  },
  {
   "cell_type": "markdown",
   "metadata": {},
   "source": [
    "There is almost no difference between the values for users from these two different geographical areas."
   ]
  },
  {
   "cell_type": "code",
   "execution_count": 14,
   "metadata": {},
   "outputs": [
    {
     "name": "stderr",
     "output_type": "stream",
     "text": [
      "100%|██████████| 5581135/5581135 [00:07<00:00, 723929.83it/s]\n"
     ]
    },
    {
     "data": {
      "text/plain": [
       "6.598410059979329"
      ]
     },
     "execution_count": 14,
     "metadata": {},
     "output_type": "execute_result"
    }
   ],
   "source": [
    "pref_attach_intensity(listenings,'country','United States')"
   ]
  },
  {
   "cell_type": "code",
   "execution_count": 15,
   "metadata": {},
   "outputs": [
    {
     "name": "stderr",
     "output_type": "stream",
     "text": [
      "100%|██████████| 5581135/5581135 [00:07<00:00, 752609.86it/s]\n"
     ]
    },
    {
     "data": {
      "text/plain": [
       "6.223520776392076"
      ]
     },
     "execution_count": 15,
     "metadata": {},
     "output_type": "execute_result"
    }
   ],
   "source": [
    "pref_attach_intensity(listenings,'country','Europe')"
   ]
  },
  {
   "cell_type": "markdown",
   "metadata": {},
   "source": [
    "## Song genres"
   ]
  },
  {
   "cell_type": "code",
   "execution_count": 16,
   "metadata": {},
   "outputs": [
    {
     "data": {
      "text/html": [
       "<div>\n",
       "<style scoped>\n",
       "    .dataframe tbody tr th:only-of-type {\n",
       "        vertical-align: middle;\n",
       "    }\n",
       "\n",
       "    .dataframe tbody tr th {\n",
       "        vertical-align: top;\n",
       "    }\n",
       "\n",
       "    .dataframe thead th {\n",
       "        text-align: right;\n",
       "    }\n",
       "</style>\n",
       "<table border=\"1\" class=\"dataframe\">\n",
       "  <thead>\n",
       "    <tr style=\"text-align: right;\">\n",
       "      <th></th>\n",
       "      <th>userid</th>\n",
       "      <th>timestamp</th>\n",
       "      <th>artname</th>\n",
       "      <th>traname</th>\n",
       "      <th>album_id</th>\n",
       "      <th>album_date</th>\n",
       "      <th>tid</th>\n",
       "      <th>tag</th>\n",
       "      <th>art_tra_name</th>\n",
       "    </tr>\n",
       "  </thead>\n",
       "  <tbody>\n",
       "    <tr>\n",
       "      <th>728515</th>\n",
       "      <td>user_000285</td>\n",
       "      <td>2005-02-14 00:02:10+00:00</td>\n",
       "      <td>The Killers</td>\n",
       "      <td>Jenny Was A Friend Of Mine</td>\n",
       "      <td>bc9bd08c-1d1a-4e4e-bd40-8829aa120013</td>\n",
       "      <td>2006-02-24</td>\n",
       "      <td>TRZEUSK128F9309A53</td>\n",
       "      <td>rock</td>\n",
       "      <td>The Killers@Jenny Was A Friend Of Mine</td>\n",
       "    </tr>\n",
       "    <tr>\n",
       "      <th>201220</th>\n",
       "      <td>user_000525</td>\n",
       "      <td>2005-02-14 00:07:16+00:00</td>\n",
       "      <td>Muse</td>\n",
       "      <td>The Small Print</td>\n",
       "      <td>1dad9b13-1f02-33f6-815e-7fb2e6af17ea</td>\n",
       "      <td>2003-09-28</td>\n",
       "      <td>TRAZCOX128F42B6555</td>\n",
       "      <td>rock</td>\n",
       "      <td>Muse@The Small Print</td>\n",
       "    </tr>\n",
       "    <tr>\n",
       "      <th>202109</th>\n",
       "      <td>user_000525</td>\n",
       "      <td>2005-02-14 00:07:16+00:00</td>\n",
       "      <td>Muse</td>\n",
       "      <td>The Small Print</td>\n",
       "      <td>1dad9b13-1f02-33f6-815e-7fb2e6af17ea</td>\n",
       "      <td>2003-09-28</td>\n",
       "      <td>TROOXQV128F932B6EF</td>\n",
       "      <td>rock</td>\n",
       "      <td>Muse@The Small Print</td>\n",
       "    </tr>\n",
       "    <tr>\n",
       "      <th>1382661</th>\n",
       "      <td>user_000709</td>\n",
       "      <td>2005-02-14 00:10:04+00:00</td>\n",
       "      <td>Elton John</td>\n",
       "      <td>Your Song</td>\n",
       "      <td>de402eab-3c08-4962-b02f-0790d4f35a26</td>\n",
       "      <td>1974-11-01</td>\n",
       "      <td>TRHIAUB128E078DA89</td>\n",
       "      <td>pop</td>\n",
       "      <td>Elton John@Your Song</td>\n",
       "    </tr>\n",
       "    <tr>\n",
       "      <th>1617862</th>\n",
       "      <td>user_000966</td>\n",
       "      <td>2005-02-14 00:10:09+00:00</td>\n",
       "      <td>Michael Jackson</td>\n",
       "      <td>Billie Jean</td>\n",
       "      <td>9774b815-8ffa-4fd2-8eb5-c25539322a77</td>\n",
       "      <td>2013-10-17</td>\n",
       "      <td>TROTIPO12903CCE92B</td>\n",
       "      <td>pop</td>\n",
       "      <td>Michael Jackson@Billie Jean</td>\n",
       "    </tr>\n",
       "  </tbody>\n",
       "</table>\n",
       "</div>"
      ],
      "text/plain": [
       "              userid                  timestamp          artname  \\\n",
       "728515   user_000285  2005-02-14 00:02:10+00:00      The Killers   \n",
       "201220   user_000525  2005-02-14 00:07:16+00:00             Muse   \n",
       "202109   user_000525  2005-02-14 00:07:16+00:00             Muse   \n",
       "1382661  user_000709  2005-02-14 00:10:04+00:00       Elton John   \n",
       "1617862  user_000966  2005-02-14 00:10:09+00:00  Michael Jackson   \n",
       "\n",
       "                            traname                              album_id  \\\n",
       "728515   Jenny Was A Friend Of Mine  bc9bd08c-1d1a-4e4e-bd40-8829aa120013   \n",
       "201220              The Small Print  1dad9b13-1f02-33f6-815e-7fb2e6af17ea   \n",
       "202109              The Small Print  1dad9b13-1f02-33f6-815e-7fb2e6af17ea   \n",
       "1382661                   Your Song  de402eab-3c08-4962-b02f-0790d4f35a26   \n",
       "1617862                 Billie Jean  9774b815-8ffa-4fd2-8eb5-c25539322a77   \n",
       "\n",
       "         album_date                 tid   tag  \\\n",
       "728515   2006-02-24  TRZEUSK128F9309A53  rock   \n",
       "201220   2003-09-28  TRAZCOX128F42B6555  rock   \n",
       "202109   2003-09-28  TROOXQV128F932B6EF  rock   \n",
       "1382661  1974-11-01  TRHIAUB128E078DA89   pop   \n",
       "1617862  2013-10-17  TROTIPO12903CCE92B   pop   \n",
       "\n",
       "                                   art_tra_name  \n",
       "728515   The Killers@Jenny Was A Friend Of Mine  \n",
       "201220                     Muse@The Small Print  \n",
       "202109                     Muse@The Small Print  \n",
       "1382661                    Elton John@Your Song  \n",
       "1617862             Michael Jackson@Billie Jean  "
      ]
     },
     "execution_count": 16,
     "metadata": {},
     "output_type": "execute_result"
    }
   ],
   "source": [
    "listeningsWithTags = pd.read_csv('preprocessed_data/listenings_with_years_and_tags.csv')\n",
    "listenings = listenings[listenings['album_date'].apply(lambda x: x.year)>=2005]\n",
    "listeningsWithTags['art_tra_name'] = listeningsWithTags['artname'] + '@' + listeningsWithTags['traname']\n",
    "listeningsWithTags.sort_values(by='timestamp',inplace=True)\n",
    "listeningsWithTags.head()"
   ]
  },
  {
   "cell_type": "code",
   "execution_count": 17,
   "metadata": {},
   "outputs": [
    {
     "data": {
      "text/plain": [
       "array(['rock', 'pop', 'indie', 'alternative', 'electronic'], dtype=object)"
      ]
     },
     "execution_count": 17,
     "metadata": {},
     "output_type": "execute_result"
    }
   ],
   "source": [
    "listeningsWithTags['tag'].unique()"
   ]
  },
  {
   "cell_type": "code",
   "execution_count": 18,
   "metadata": {},
   "outputs": [
    {
     "name": "stderr",
     "output_type": "stream",
     "text": [
      "100%|██████████| 1637987/1637987 [00:02<00:00, 658191.76it/s]\n",
      "100%|██████████| 747942/747942 [00:00<00:00, 761177.43it/s]\n",
      "100%|██████████| 1241553/1241553 [00:01<00:00, 692147.70it/s]\n",
      "100%|██████████| 472681/472681 [00:00<00:00, 742400.46it/s]\n",
      "100%|██████████| 775208/775208 [00:01<00:00, 741984.06it/s]\n"
     ]
    }
   ],
   "source": [
    "intensities = []\n",
    "for tag in listeningsWithTags['tag'].unique():\n",
    "    intensities.append(pref_attach_intensity(listeningsWithTags[listeningsWithTags['tag']==tag]))"
   ]
  },
  {
   "cell_type": "markdown",
   "metadata": {},
   "source": [
    "Looking at the results differentiated by songs genre we can clearly see pop genre stands out from the others. Intuitively this is not so surprising as pop music fans are usually the ones that listen to songs which are popular."
   ]
  },
  {
   "cell_type": "code",
   "execution_count": 19,
   "metadata": {},
   "outputs": [
    {
     "data": {
      "text/plain": [
       "<BarContainer object of 5 artists>"
      ]
     },
     "execution_count": 19,
     "metadata": {},
     "output_type": "execute_result"
    },
    {
     "data": {
      "image/png": "[encoded data removed]",
      "text/plain": [
       "<Figure size 432x288 with 1 Axes>"
      ]
     },
     "metadata": {
      "needs_background": "light"
     },
     "output_type": "display_data"
    }
   ],
   "source": [
    "plt.bar(x=listeningsWithTags['tag'].unique(), height=intensities)"
   ]
  },
  {
   "cell_type": "code",
   "execution_count": null,
   "metadata": {},
   "outputs": [],
   "source": []
  }
 ],
 "metadata": {
  "kernelspec": {
   "display_name": "Python 3",
   "language": "python",
   "name": "python3"
  },
  "language_info": {
   "codemirror_mode": {
    "name": "ipython",
    "version": 3
   },
   "file_extension": ".py",
   "mimetype": "text/x-python",
   "name": "python",
   "nbconvert_exporter": "python",
   "pygments_lexer": "ipython3",
   "version": "3.8.5"
  }
 },
 "nbformat": 4,
 "nbformat_minor": 4
}
