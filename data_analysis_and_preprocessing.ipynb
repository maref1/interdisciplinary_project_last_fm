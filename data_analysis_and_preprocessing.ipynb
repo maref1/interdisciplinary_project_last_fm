{
 "cells": [
  {
   "cell_type": "code",
   "execution_count": 1,
   "metadata": {},
   "outputs": [],
   "source": [
    "import pandas as pd\n",
    "import networkx as nx\n",
    "import collections\n",
    "import matplotlib.pyplot as plt\n",
    "import matplotlib\n",
    "from tqdm import tqdm\n",
    "import os\n",
    "import json\n",
    "import sys\n",
    "import sqlite3\n",
    "import urllib.request, json \n",
    "import datetime\n",
    "import glob"
   ]
  },
  {
   "cell_type": "markdown",
   "metadata": {},
   "source": [
    "Library versions:"
   ]
  },
  {
   "cell_type": "code",
   "execution_count": 2,
   "metadata": {},
   "outputs": [
    {
     "data": {
      "text/plain": [
       "'2.5'"
      ]
     },
     "execution_count": 2,
     "metadata": {},
     "output_type": "execute_result"
    }
   ],
   "source": [
    "nx.__version__"
   ]
  },
  {
   "cell_type": "code",
   "execution_count": 3,
   "metadata": {},
   "outputs": [
    {
     "data": {
      "text/plain": [
       "'1.1.3'"
      ]
     },
     "execution_count": 3,
     "metadata": {},
     "output_type": "execute_result"
    }
   ],
   "source": [
    "pd.__version__"
   ]
  },
  {
   "cell_type": "code",
   "execution_count": 4,
   "metadata": {},
   "outputs": [
    {
     "data": {
      "text/plain": [
       "'3.3.2'"
      ]
     },
     "execution_count": 4,
     "metadata": {},
     "output_type": "execute_result"
    }
   ],
   "source": [
    "matplotlib.__version__"
   ]
  },
  {
   "cell_type": "markdown",
   "metadata": {},
   "source": [
    "# Data loading"
   ]
  },
  {
   "cell_type": "markdown",
   "metadata": {},
   "source": [
    "## Last.fm dataset 1K users\n",
    "The main file containing information about individual listenings to music tracks of almost 1000 users in the years 2005-2009.\n",
    "\n",
    "Link: http://ocelma.net/MusicRecommendationDataset/lastfm-1K.html"
   ]
  },
  {
   "cell_type": "code",
   "execution_count": 5,
   "metadata": {},
   "outputs": [],
   "source": [
    "listenings = pd.read_csv('lastfm-dataset-1K/userid-timestamp-artid-artname-traid-traname.tsv',\n",
    "                         sep='\\t',error_bad_lines=False, header= None,\n",
    "                         names=['userid','timestamp','artid','artname','traid','traname'])"
   ]
  },
  {
   "cell_type": "code",
   "execution_count": 6,
   "metadata": {},
   "outputs": [
    {
     "data": {
      "text/html": [
       "<div>\n",
       "<style scoped>\n",
       "    .dataframe tbody tr th:only-of-type {\n",
       "        vertical-align: middle;\n",
       "    }\n",
       "\n",
       "    .dataframe tbody tr th {\n",
       "        vertical-align: top;\n",
       "    }\n",
       "\n",
       "    .dataframe thead th {\n",
       "        text-align: right;\n",
       "    }\n",
       "</style>\n",
       "<table border=\"1\" class=\"dataframe\">\n",
       "  <thead>\n",
       "    <tr style=\"text-align: right;\">\n",
       "      <th></th>\n",
       "      <th>userid</th>\n",
       "      <th>timestamp</th>\n",
       "      <th>artid</th>\n",
       "      <th>artname</th>\n",
       "      <th>traid</th>\n",
       "      <th>traname</th>\n",
       "    </tr>\n",
       "  </thead>\n",
       "  <tbody>\n",
       "    <tr>\n",
       "      <th>0</th>\n",
       "      <td>user_000001</td>\n",
       "      <td>2009-05-04T23:08:57Z</td>\n",
       "      <td>f1b1cf71-bd35-4e99-8624-24a6e15f133a</td>\n",
       "      <td>Deep Dish</td>\n",
       "      <td>NaN</td>\n",
       "      <td>Fuck Me Im Famous (Pacha Ibiza)-09-28-2007</td>\n",
       "    </tr>\n",
       "    <tr>\n",
       "      <th>1</th>\n",
       "      <td>user_000001</td>\n",
       "      <td>2009-05-04T13:54:10Z</td>\n",
       "      <td>a7f7df4a-77d8-4f12-8acd-5c60c93f4de8</td>\n",
       "      <td>坂本龍一</td>\n",
       "      <td>NaN</td>\n",
       "      <td>Composition 0919 (Live_2009_4_15)</td>\n",
       "    </tr>\n",
       "    <tr>\n",
       "      <th>2</th>\n",
       "      <td>user_000001</td>\n",
       "      <td>2009-05-04T13:52:04Z</td>\n",
       "      <td>a7f7df4a-77d8-4f12-8acd-5c60c93f4de8</td>\n",
       "      <td>坂本龍一</td>\n",
       "      <td>NaN</td>\n",
       "      <td>Mc2 (Live_2009_4_15)</td>\n",
       "    </tr>\n",
       "    <tr>\n",
       "      <th>3</th>\n",
       "      <td>user_000001</td>\n",
       "      <td>2009-05-04T13:42:52Z</td>\n",
       "      <td>a7f7df4a-77d8-4f12-8acd-5c60c93f4de8</td>\n",
       "      <td>坂本龍一</td>\n",
       "      <td>NaN</td>\n",
       "      <td>Hibari (Live_2009_4_15)</td>\n",
       "    </tr>\n",
       "    <tr>\n",
       "      <th>4</th>\n",
       "      <td>user_000001</td>\n",
       "      <td>2009-05-04T13:42:11Z</td>\n",
       "      <td>a7f7df4a-77d8-4f12-8acd-5c60c93f4de8</td>\n",
       "      <td>坂本龍一</td>\n",
       "      <td>NaN</td>\n",
       "      <td>Mc1 (Live_2009_4_15)</td>\n",
       "    </tr>\n",
       "    <tr>\n",
       "      <th>...</th>\n",
       "      <td>...</td>\n",
       "      <td>...</td>\n",
       "      <td>...</td>\n",
       "      <td>...</td>\n",
       "      <td>...</td>\n",
       "      <td>...</td>\n",
       "    </tr>\n",
       "    <tr>\n",
       "      <th>19098857</th>\n",
       "      <td>user_001000</td>\n",
       "      <td>2008-01-27T22:02:35Z</td>\n",
       "      <td>9e53f84d-ef44-4c16-9677-5fd4d78cbd7d</td>\n",
       "      <td>Wilco</td>\n",
       "      <td>a490cabc-1e5c-4807-86c7-740c31a50009</td>\n",
       "      <td>Please Be Patient With Me</td>\n",
       "    </tr>\n",
       "    <tr>\n",
       "      <th>19098858</th>\n",
       "      <td>user_001000</td>\n",
       "      <td>2008-01-27T21:56:52Z</td>\n",
       "      <td>9e53f84d-ef44-4c16-9677-5fd4d78cbd7d</td>\n",
       "      <td>Wilco</td>\n",
       "      <td>3e92e447-9e1f-440d-bc00-6734469880c5</td>\n",
       "      <td>Shake It Off</td>\n",
       "    </tr>\n",
       "    <tr>\n",
       "      <th>19098859</th>\n",
       "      <td>user_001000</td>\n",
       "      <td>2008-01-27T21:52:36Z</td>\n",
       "      <td>9e53f84d-ef44-4c16-9677-5fd4d78cbd7d</td>\n",
       "      <td>Wilco</td>\n",
       "      <td>93d044e6-1bbb-46a6-ac8e-283382a89e6f</td>\n",
       "      <td>Side With The Seeds</td>\n",
       "    </tr>\n",
       "    <tr>\n",
       "      <th>19098860</th>\n",
       "      <td>user_001000</td>\n",
       "      <td>2008-01-27T21:49:12Z</td>\n",
       "      <td>9e53f84d-ef44-4c16-9677-5fd4d78cbd7d</td>\n",
       "      <td>Wilco</td>\n",
       "      <td>5ac4386f-6146-4389-a762-4b43f362d2c8</td>\n",
       "      <td>Sky Blue Sky</td>\n",
       "    </tr>\n",
       "    <tr>\n",
       "      <th>19098861</th>\n",
       "      <td>user_001000</td>\n",
       "      <td>2008-01-27T21:43:14Z</td>\n",
       "      <td>9e53f84d-ef44-4c16-9677-5fd4d78cbd7d</td>\n",
       "      <td>Wilco</td>\n",
       "      <td>3acc99bc-a349-420f-ad28-7095eb3533c9</td>\n",
       "      <td>Impossible Germany</td>\n",
       "    </tr>\n",
       "  </tbody>\n",
       "</table>\n",
       "<p>19098862 rows × 6 columns</p>\n",
       "</div>"
      ],
      "text/plain": [
       "               userid             timestamp  \\\n",
       "0         user_000001  2009-05-04T23:08:57Z   \n",
       "1         user_000001  2009-05-04T13:54:10Z   \n",
       "2         user_000001  2009-05-04T13:52:04Z   \n",
       "3         user_000001  2009-05-04T13:42:52Z   \n",
       "4         user_000001  2009-05-04T13:42:11Z   \n",
       "...               ...                   ...   \n",
       "19098857  user_001000  2008-01-27T22:02:35Z   \n",
       "19098858  user_001000  2008-01-27T21:56:52Z   \n",
       "19098859  user_001000  2008-01-27T21:52:36Z   \n",
       "19098860  user_001000  2008-01-27T21:49:12Z   \n",
       "19098861  user_001000  2008-01-27T21:43:14Z   \n",
       "\n",
       "                                         artid    artname  \\\n",
       "0         f1b1cf71-bd35-4e99-8624-24a6e15f133a  Deep Dish   \n",
       "1         a7f7df4a-77d8-4f12-8acd-5c60c93f4de8       坂本龍一   \n",
       "2         a7f7df4a-77d8-4f12-8acd-5c60c93f4de8       坂本龍一   \n",
       "3         a7f7df4a-77d8-4f12-8acd-5c60c93f4de8       坂本龍一   \n",
       "4         a7f7df4a-77d8-4f12-8acd-5c60c93f4de8       坂本龍一   \n",
       "...                                        ...        ...   \n",
       "19098857  9e53f84d-ef44-4c16-9677-5fd4d78cbd7d      Wilco   \n",
       "19098858  9e53f84d-ef44-4c16-9677-5fd4d78cbd7d      Wilco   \n",
       "19098859  9e53f84d-ef44-4c16-9677-5fd4d78cbd7d      Wilco   \n",
       "19098860  9e53f84d-ef44-4c16-9677-5fd4d78cbd7d      Wilco   \n",
       "19098861  9e53f84d-ef44-4c16-9677-5fd4d78cbd7d      Wilco   \n",
       "\n",
       "                                         traid  \\\n",
       "0                                          NaN   \n",
       "1                                          NaN   \n",
       "2                                          NaN   \n",
       "3                                          NaN   \n",
       "4                                          NaN   \n",
       "...                                        ...   \n",
       "19098857  a490cabc-1e5c-4807-86c7-740c31a50009   \n",
       "19098858  3e92e447-9e1f-440d-bc00-6734469880c5   \n",
       "19098859  93d044e6-1bbb-46a6-ac8e-283382a89e6f   \n",
       "19098860  5ac4386f-6146-4389-a762-4b43f362d2c8   \n",
       "19098861  3acc99bc-a349-420f-ad28-7095eb3533c9   \n",
       "\n",
       "                                             traname  \n",
       "0         Fuck Me Im Famous (Pacha Ibiza)-09-28-2007  \n",
       "1                  Composition 0919 (Live_2009_4_15)  \n",
       "2                               Mc2 (Live_2009_4_15)  \n",
       "3                            Hibari (Live_2009_4_15)  \n",
       "4                               Mc1 (Live_2009_4_15)  \n",
       "...                                              ...  \n",
       "19098857                   Please Be Patient With Me  \n",
       "19098858                                Shake It Off  \n",
       "19098859                         Side With The Seeds  \n",
       "19098860                                Sky Blue Sky  \n",
       "19098861                          Impossible Germany  \n",
       "\n",
       "[19098862 rows x 6 columns]"
      ]
     },
     "execution_count": 6,
     "metadata": {},
     "output_type": "execute_result"
    }
   ],
   "source": [
    "listenings"
   ]
  },
  {
   "cell_type": "markdown",
   "metadata": {},
   "source": [
    "## Join realease albums and then realease year \n",
    "(previously collected from last.fm and musicbrainz apis)"
   ]
  },
  {
   "cell_type": "code",
   "execution_count": 7,
   "metadata": {},
   "outputs": [],
   "source": [
    "path = r'api_collected_data_album_dates/' # use your path\n",
    "all_files = glob.glob(path + \"/*.csv\")\n",
    "\n",
    "li = []\n",
    "\n",
    "for filename in all_files:\n",
    "    df = pd.read_csv(filename, index_col=None, header=0)\n",
    "    li.append(df)\n",
    "\n",
    "dates = pd.concat(li, axis=0, ignore_index=True)"
   ]
  },
  {
   "cell_type": "code",
   "execution_count": 8,
   "metadata": {},
   "outputs": [],
   "source": [
    "# at least monthly precision of the album realease date\n",
    "dates = dates[dates['album_date'].apply(lambda x: len(str(x)))>5]\n",
    "# remove dates with \"?\"\n",
    "dates = dates[~dates['album_date'].str.contains('\\?')]"
   ]
  },
  {
   "cell_type": "code",
   "execution_count": 9,
   "metadata": {},
   "outputs": [
    {
     "data": {
      "text/html": [
       "<div>\n",
       "<style scoped>\n",
       "    .dataframe tbody tr th:only-of-type {\n",
       "        vertical-align: middle;\n",
       "    }\n",
       "\n",
       "    .dataframe tbody tr th {\n",
       "        vertical-align: top;\n",
       "    }\n",
       "\n",
       "    .dataframe thead th {\n",
       "        text-align: right;\n",
       "    }\n",
       "</style>\n",
       "<table border=\"1\" class=\"dataframe\">\n",
       "  <thead>\n",
       "    <tr style=\"text-align: right;\">\n",
       "      <th></th>\n",
       "      <th>album_id</th>\n",
       "      <th>album_date</th>\n",
       "    </tr>\n",
       "  </thead>\n",
       "  <tbody>\n",
       "    <tr>\n",
       "      <th>0</th>\n",
       "      <td>c8aec78d-e926-4135-9f12-f3d9d630091b</td>\n",
       "      <td>1993-03-31</td>\n",
       "    </tr>\n",
       "    <tr>\n",
       "      <th>2</th>\n",
       "      <td>8a6dd62e-3d3c-4812-a92a-46235400354f</td>\n",
       "      <td>2007-12-12</td>\n",
       "    </tr>\n",
       "    <tr>\n",
       "      <th>3</th>\n",
       "      <td>9ea773b8-5352-43f7-9da3-f7cf8f47859d</td>\n",
       "      <td>2008-06-25</td>\n",
       "    </tr>\n",
       "    <tr>\n",
       "      <th>4</th>\n",
       "      <td>1fe4b6e8-3d91-4478-bb96-c37f012ab53c</td>\n",
       "      <td>2000-08-29</td>\n",
       "    </tr>\n",
       "    <tr>\n",
       "      <th>5</th>\n",
       "      <td>99ea7364-f051-42c6-b4b4-eec9f01787ed</td>\n",
       "      <td>1997-08-04</td>\n",
       "    </tr>\n",
       "    <tr>\n",
       "      <th>...</th>\n",
       "      <td>...</td>\n",
       "      <td>...</td>\n",
       "    </tr>\n",
       "    <tr>\n",
       "      <th>172742</th>\n",
       "      <td>f5c4dbbb-be5f-45d5-be3b-5269f181f0e0</td>\n",
       "      <td>2000-01</td>\n",
       "    </tr>\n",
       "    <tr>\n",
       "      <th>172744</th>\n",
       "      <td>4e437147-06cb-48bc-a6ce-8366792fc2ec</td>\n",
       "      <td>2005-07-08</td>\n",
       "    </tr>\n",
       "    <tr>\n",
       "      <th>172745</th>\n",
       "      <td>ff7bb1ba-e439-47a1-a4d5-7d4e6e46f9e5</td>\n",
       "      <td>2001-04-30</td>\n",
       "    </tr>\n",
       "    <tr>\n",
       "      <th>172746</th>\n",
       "      <td>b1e6f968-9554-4301-9f24-b8a6acd3608a</td>\n",
       "      <td>2002-11-19</td>\n",
       "    </tr>\n",
       "    <tr>\n",
       "      <th>172747</th>\n",
       "      <td>2a14a954-750b-4515-a11b-6b6f8228d51c</td>\n",
       "      <td>1997-08-16</td>\n",
       "    </tr>\n",
       "  </tbody>\n",
       "</table>\n",
       "<p>96079 rows × 2 columns</p>\n",
       "</div>"
      ],
      "text/plain": [
       "                                    album_id  album_date\n",
       "0       c8aec78d-e926-4135-9f12-f3d9d630091b  1993-03-31\n",
       "2       8a6dd62e-3d3c-4812-a92a-46235400354f  2007-12-12\n",
       "3       9ea773b8-5352-43f7-9da3-f7cf8f47859d  2008-06-25\n",
       "4       1fe4b6e8-3d91-4478-bb96-c37f012ab53c  2000-08-29\n",
       "5       99ea7364-f051-42c6-b4b4-eec9f01787ed  1997-08-04\n",
       "...                                      ...         ...\n",
       "172742  f5c4dbbb-be5f-45d5-be3b-5269f181f0e0     2000-01\n",
       "172744  4e437147-06cb-48bc-a6ce-8366792fc2ec  2005-07-08\n",
       "172745  ff7bb1ba-e439-47a1-a4d5-7d4e6e46f9e5  2001-04-30\n",
       "172746  b1e6f968-9554-4301-9f24-b8a6acd3608a  2002-11-19\n",
       "172747  2a14a954-750b-4515-a11b-6b6f8228d51c  1997-08-16\n",
       "\n",
       "[96079 rows x 2 columns]"
      ]
     },
     "execution_count": 9,
     "metadata": {},
     "output_type": "execute_result"
    }
   ],
   "source": [
    "dates"
   ]
  },
  {
   "cell_type": "code",
   "execution_count": 10,
   "metadata": {},
   "outputs": [
    {
     "data": {
      "text/plain": [
       "True"
      ]
     },
     "execution_count": 10,
     "metadata": {},
     "output_type": "execute_result"
    }
   ],
   "source": [
    "dates['album_id'].is_unique"
   ]
  },
  {
   "cell_type": "code",
   "execution_count": 11,
   "metadata": {},
   "outputs": [
    {
     "data": {
      "text/html": [
       "<div>\n",
       "<style scoped>\n",
       "    .dataframe tbody tr th:only-of-type {\n",
       "        vertical-align: middle;\n",
       "    }\n",
       "\n",
       "    .dataframe tbody tr th {\n",
       "        vertical-align: top;\n",
       "    }\n",
       "\n",
       "    .dataframe thead th {\n",
       "        text-align: right;\n",
       "    }\n",
       "</style>\n",
       "<table border=\"1\" class=\"dataframe\">\n",
       "  <thead>\n",
       "    <tr style=\"text-align: right;\">\n",
       "      <th></th>\n",
       "      <th>art_tra_name</th>\n",
       "      <th>album_id</th>\n",
       "    </tr>\n",
       "  </thead>\n",
       "  <tbody>\n",
       "    <tr>\n",
       "      <th>0</th>\n",
       "      <td>坂本龍一The Last Emperor (Theme)</td>\n",
       "      <td>c8aec78d-e926-4135-9f12-f3d9d630091b</td>\n",
       "    </tr>\n",
       "    <tr>\n",
       "      <th>1</th>\n",
       "      <td>坂本龍一Tibetan Dance (Version)</td>\n",
       "      <td>9157fe6b-5289-47d4-8a2a-c82cb8dcd8e4</td>\n",
       "    </tr>\n",
       "    <tr>\n",
       "      <th>2</th>\n",
       "      <td>UnderworldBoy, Boy, Boy (Switch Remix)</td>\n",
       "      <td>8a6dd62e-3d3c-4812-a92a-46235400354f</td>\n",
       "    </tr>\n",
       "    <tr>\n",
       "      <th>3</th>\n",
       "      <td>UnderworldCrocodile (Innervisions Orchestra Mix)</td>\n",
       "      <td>9ea773b8-5352-43f7-9da3-f7cf8f47859d</td>\n",
       "    </tr>\n",
       "    <tr>\n",
       "      <th>4</th>\n",
       "      <td>Minus 8Elysian Fields</td>\n",
       "      <td>1fe4b6e8-3d91-4478-bb96-c37f012ab53c</td>\n",
       "    </tr>\n",
       "  </tbody>\n",
       "</table>\n",
       "</div>"
      ],
      "text/plain": [
       "                                       art_tra_name  \\\n",
       "0                      坂本龍一The Last Emperor (Theme)   \n",
       "1                       坂本龍一Tibetan Dance (Version)   \n",
       "2            UnderworldBoy, Boy, Boy (Switch Remix)   \n",
       "3  UnderworldCrocodile (Innervisions Orchestra Mix)   \n",
       "4                             Minus 8Elysian Fields   \n",
       "\n",
       "                               album_id  \n",
       "0  c8aec78d-e926-4135-9f12-f3d9d630091b  \n",
       "1  9157fe6b-5289-47d4-8a2a-c82cb8dcd8e4  \n",
       "2  8a6dd62e-3d3c-4812-a92a-46235400354f  \n",
       "3  9ea773b8-5352-43f7-9da3-f7cf8f47859d  \n",
       "4  1fe4b6e8-3d91-4478-bb96-c37f012ab53c  "
      ]
     },
     "execution_count": 11,
     "metadata": {},
     "output_type": "execute_result"
    }
   ],
   "source": [
    "path = r'api_collected_data_album_ids/' # use your path\n",
    "all_files = glob.glob(path + \"/*.csv\")\n",
    "\n",
    "li = []\n",
    "\n",
    "for filename in all_files:\n",
    "    df = pd.read_csv(filename, index_col=None, header=0)\n",
    "    li.append(df)\n",
    "\n",
    "albums = pd.concat(li, axis=0, ignore_index=True)\n",
    "albums.head()"
   ]
  },
  {
   "cell_type": "code",
   "execution_count": 12,
   "metadata": {},
   "outputs": [
    {
     "data": {
      "text/plain": [
       "True"
      ]
     },
     "execution_count": 12,
     "metadata": {},
     "output_type": "execute_result"
    }
   ],
   "source": [
    "albums['art_tra_name'].is_unique"
   ]
  },
  {
   "cell_type": "code",
   "execution_count": 13,
   "metadata": {},
   "outputs": [
    {
     "data": {
      "text/plain": [
       "19098862"
      ]
     },
     "execution_count": 13,
     "metadata": {},
     "output_type": "execute_result"
    }
   ],
   "source": [
    "len(listenings)"
   ]
  },
  {
   "cell_type": "code",
   "execution_count": 14,
   "metadata": {},
   "outputs": [],
   "source": [
    "listenings['art_tra_name'] = listenings['artname'] + listenings['traname']"
   ]
  },
  {
   "cell_type": "code",
   "execution_count": 15,
   "metadata": {},
   "outputs": [],
   "source": [
    "listenings = listenings.merge(albums).merge(dates)"
   ]
  },
  {
   "cell_type": "code",
   "execution_count": 16,
   "metadata": {},
   "outputs": [
    {
     "data": {
      "text/plain": [
       "10737770"
      ]
     },
     "execution_count": 16,
     "metadata": {},
     "output_type": "execute_result"
    }
   ],
   "source": [
    "len(listenings)"
   ]
  },
  {
   "cell_type": "code",
   "execution_count": 17,
   "metadata": {},
   "outputs": [],
   "source": [
    "listenings.drop('art_tra_name',axis=1,inplace=True)"
   ]
  },
  {
   "cell_type": "code",
   "execution_count": 18,
   "metadata": {},
   "outputs": [],
   "source": [
    "# convert timestamp's datatype and use it as index\n",
    "listenings['timestamp'] = pd.to_datetime(listenings['timestamp'])\n",
    "listenings.index = listenings['timestamp']"
   ]
  },
  {
   "cell_type": "code",
   "execution_count": 19,
   "metadata": {},
   "outputs": [
    {
     "data": {
      "text/plain": [
       "0.05986494402469041"
      ]
     },
     "execution_count": 19,
     "metadata": {},
     "output_type": "execute_result"
    }
   ],
   "source": [
    "# how many percent are only monthly precision (for those we will assume 1. day of that month so we don't loose the data\n",
    "len(listenings[listenings['album_date'].apply(lambda x: len(x))< 9 ])/ len(listenings)"
   ]
  },
  {
   "cell_type": "code",
   "execution_count": 20,
   "metadata": {},
   "outputs": [],
   "source": [
    "listenings = listenings[listenings['album_date'].apply(lambda x: len(x))>= 9 ]"
   ]
  },
  {
   "cell_type": "code",
   "execution_count": 21,
   "metadata": {},
   "outputs": [],
   "source": [
    "listenings['album_date'] = pd.to_datetime(listenings['album_date'])"
   ]
  },
  {
   "cell_type": "code",
   "execution_count": 22,
   "metadata": {},
   "outputs": [
    {
     "data": {
      "text/html": [
       "<div>\n",
       "<style scoped>\n",
       "    .dataframe tbody tr th:only-of-type {\n",
       "        vertical-align: middle;\n",
       "    }\n",
       "\n",
       "    .dataframe tbody tr th {\n",
       "        vertical-align: top;\n",
       "    }\n",
       "\n",
       "    .dataframe thead th {\n",
       "        text-align: right;\n",
       "    }\n",
       "</style>\n",
       "<table border=\"1\" class=\"dataframe\">\n",
       "  <thead>\n",
       "    <tr style=\"text-align: right;\">\n",
       "      <th></th>\n",
       "      <th>userid</th>\n",
       "      <th>timestamp</th>\n",
       "      <th>artid</th>\n",
       "      <th>artname</th>\n",
       "      <th>traid</th>\n",
       "      <th>traname</th>\n",
       "      <th>album_id</th>\n",
       "      <th>album_date</th>\n",
       "    </tr>\n",
       "    <tr>\n",
       "      <th>timestamp</th>\n",
       "      <th></th>\n",
       "      <th></th>\n",
       "      <th></th>\n",
       "      <th></th>\n",
       "      <th></th>\n",
       "      <th></th>\n",
       "      <th></th>\n",
       "      <th></th>\n",
       "    </tr>\n",
       "  </thead>\n",
       "  <tbody>\n",
       "    <tr>\n",
       "      <th>2009-05-04 13:06:09+00:00</th>\n",
       "      <td>user_000001</td>\n",
       "      <td>2009-05-04 13:06:09+00:00</td>\n",
       "      <td>a7f7df4a-77d8-4f12-8acd-5c60c93f4de8</td>\n",
       "      <td>坂本龍一</td>\n",
       "      <td>f7c1f8f8-b935-45ed-8fc8-7def69d92a10</td>\n",
       "      <td>The Last Emperor (Theme)</td>\n",
       "      <td>c8aec78d-e926-4135-9f12-f3d9d630091b</td>\n",
       "      <td>1993-03-31</td>\n",
       "    </tr>\n",
       "    <tr>\n",
       "      <th>2009-04-25 15:19:10+00:00</th>\n",
       "      <td>user_000001</td>\n",
       "      <td>2009-04-25 15:19:10+00:00</td>\n",
       "      <td>a7f7df4a-77d8-4f12-8acd-5c60c93f4de8</td>\n",
       "      <td>坂本龍一</td>\n",
       "      <td>f7c1f8f8-b935-45ed-8fc8-7def69d92a10</td>\n",
       "      <td>The Last Emperor (Theme)</td>\n",
       "      <td>c8aec78d-e926-4135-9f12-f3d9d630091b</td>\n",
       "      <td>1993-03-31</td>\n",
       "    </tr>\n",
       "    <tr>\n",
       "      <th>2009-04-25 13:21:17+00:00</th>\n",
       "      <td>user_000001</td>\n",
       "      <td>2009-04-25 13:21:17+00:00</td>\n",
       "      <td>a7f7df4a-77d8-4f12-8acd-5c60c93f4de8</td>\n",
       "      <td>坂本龍一</td>\n",
       "      <td>f7c1f8f8-b935-45ed-8fc8-7def69d92a10</td>\n",
       "      <td>The Last Emperor (Theme)</td>\n",
       "      <td>c8aec78d-e926-4135-9f12-f3d9d630091b</td>\n",
       "      <td>1993-03-31</td>\n",
       "    </tr>\n",
       "    <tr>\n",
       "      <th>2009-04-22 14:48:07+00:00</th>\n",
       "      <td>user_000001</td>\n",
       "      <td>2009-04-22 14:48:07+00:00</td>\n",
       "      <td>a7f7df4a-77d8-4f12-8acd-5c60c93f4de8</td>\n",
       "      <td>坂本龍一</td>\n",
       "      <td>f7c1f8f8-b935-45ed-8fc8-7def69d92a10</td>\n",
       "      <td>The Last Emperor (Theme)</td>\n",
       "      <td>c8aec78d-e926-4135-9f12-f3d9d630091b</td>\n",
       "      <td>1993-03-31</td>\n",
       "    </tr>\n",
       "    <tr>\n",
       "      <th>2009-04-21 17:35:33+00:00</th>\n",
       "      <td>user_000001</td>\n",
       "      <td>2009-04-21 17:35:33+00:00</td>\n",
       "      <td>a7f7df4a-77d8-4f12-8acd-5c60c93f4de8</td>\n",
       "      <td>坂本龍一</td>\n",
       "      <td>f7c1f8f8-b935-45ed-8fc8-7def69d92a10</td>\n",
       "      <td>The Last Emperor (Theme)</td>\n",
       "      <td>c8aec78d-e926-4135-9f12-f3d9d630091b</td>\n",
       "      <td>1993-03-31</td>\n",
       "    </tr>\n",
       "  </tbody>\n",
       "</table>\n",
       "</div>"
      ],
      "text/plain": [
       "                                userid                 timestamp  \\\n",
       "timestamp                                                          \n",
       "2009-05-04 13:06:09+00:00  user_000001 2009-05-04 13:06:09+00:00   \n",
       "2009-04-25 15:19:10+00:00  user_000001 2009-04-25 15:19:10+00:00   \n",
       "2009-04-25 13:21:17+00:00  user_000001 2009-04-25 13:21:17+00:00   \n",
       "2009-04-22 14:48:07+00:00  user_000001 2009-04-22 14:48:07+00:00   \n",
       "2009-04-21 17:35:33+00:00  user_000001 2009-04-21 17:35:33+00:00   \n",
       "\n",
       "                                                          artid artname  \\\n",
       "timestamp                                                                 \n",
       "2009-05-04 13:06:09+00:00  a7f7df4a-77d8-4f12-8acd-5c60c93f4de8    坂本龍一   \n",
       "2009-04-25 15:19:10+00:00  a7f7df4a-77d8-4f12-8acd-5c60c93f4de8    坂本龍一   \n",
       "2009-04-25 13:21:17+00:00  a7f7df4a-77d8-4f12-8acd-5c60c93f4de8    坂本龍一   \n",
       "2009-04-22 14:48:07+00:00  a7f7df4a-77d8-4f12-8acd-5c60c93f4de8    坂本龍一   \n",
       "2009-04-21 17:35:33+00:00  a7f7df4a-77d8-4f12-8acd-5c60c93f4de8    坂本龍一   \n",
       "\n",
       "                                                          traid  \\\n",
       "timestamp                                                         \n",
       "2009-05-04 13:06:09+00:00  f7c1f8f8-b935-45ed-8fc8-7def69d92a10   \n",
       "2009-04-25 15:19:10+00:00  f7c1f8f8-b935-45ed-8fc8-7def69d92a10   \n",
       "2009-04-25 13:21:17+00:00  f7c1f8f8-b935-45ed-8fc8-7def69d92a10   \n",
       "2009-04-22 14:48:07+00:00  f7c1f8f8-b935-45ed-8fc8-7def69d92a10   \n",
       "2009-04-21 17:35:33+00:00  f7c1f8f8-b935-45ed-8fc8-7def69d92a10   \n",
       "\n",
       "                                            traname  \\\n",
       "timestamp                                             \n",
       "2009-05-04 13:06:09+00:00  The Last Emperor (Theme)   \n",
       "2009-04-25 15:19:10+00:00  The Last Emperor (Theme)   \n",
       "2009-04-25 13:21:17+00:00  The Last Emperor (Theme)   \n",
       "2009-04-22 14:48:07+00:00  The Last Emperor (Theme)   \n",
       "2009-04-21 17:35:33+00:00  The Last Emperor (Theme)   \n",
       "\n",
       "                                                       album_id album_date  \n",
       "timestamp                                                                   \n",
       "2009-05-04 13:06:09+00:00  c8aec78d-e926-4135-9f12-f3d9d630091b 1993-03-31  \n",
       "2009-04-25 15:19:10+00:00  c8aec78d-e926-4135-9f12-f3d9d630091b 1993-03-31  \n",
       "2009-04-25 13:21:17+00:00  c8aec78d-e926-4135-9f12-f3d9d630091b 1993-03-31  \n",
       "2009-04-22 14:48:07+00:00  c8aec78d-e926-4135-9f12-f3d9d630091b 1993-03-31  \n",
       "2009-04-21 17:35:33+00:00  c8aec78d-e926-4135-9f12-f3d9d630091b 1993-03-31  "
      ]
     },
     "execution_count": 22,
     "metadata": {},
     "output_type": "execute_result"
    }
   ],
   "source": [
    "listenings.head()"
   ]
  },
  {
   "cell_type": "code",
   "execution_count": 23,
   "metadata": {},
   "outputs": [],
   "source": [
    "listenings['art_tra_name'] = listenings['artname'] + listenings['traname']"
   ]
  },
  {
   "cell_type": "code",
   "execution_count": 24,
   "metadata": {},
   "outputs": [
    {
     "data": {
      "text/html": [
       "<div>\n",
       "<style scoped>\n",
       "    .dataframe tbody tr th:only-of-type {\n",
       "        vertical-align: middle;\n",
       "    }\n",
       "\n",
       "    .dataframe tbody tr th {\n",
       "        vertical-align: top;\n",
       "    }\n",
       "\n",
       "    .dataframe thead th {\n",
       "        text-align: right;\n",
       "    }\n",
       "</style>\n",
       "<table border=\"1\" class=\"dataframe\">\n",
       "  <thead>\n",
       "    <tr style=\"text-align: right;\">\n",
       "      <th></th>\n",
       "      <th>art_tra_name</th>\n",
       "      <th>timestamp</th>\n",
       "      <th>album_date</th>\n",
       "    </tr>\n",
       "  </thead>\n",
       "  <tbody>\n",
       "    <tr>\n",
       "      <th>0</th>\n",
       "      <td>! Www.Polskie-Mp3.Tk ! Katarzyna Groniec02. Ta...</td>\n",
       "      <td>2006-04-23 20:55:00+00:00</td>\n",
       "      <td>2000-10-09</td>\n",
       "    </tr>\n",
       "    <tr>\n",
       "      <th>1</th>\n",
       "      <td>!!! Vs LfoMe &amp; Giuliani Down By The Schoolyard...</td>\n",
       "      <td>2009-04-30 02:55:44+00:00</td>\n",
       "      <td>2004-10-25</td>\n",
       "    </tr>\n",
       "    <tr>\n",
       "      <th>2</th>\n",
       "      <td>!!!A New Name</td>\n",
       "      <td>2006-12-28 20:58:59+00:00</td>\n",
       "      <td>2007-03-06</td>\n",
       "    </tr>\n",
       "    <tr>\n",
       "      <th>3</th>\n",
       "      <td>!!!All My Heroes Are Weirdos</td>\n",
       "      <td>2006-12-28 20:49:31+00:00</td>\n",
       "      <td>2007-03-06</td>\n",
       "    </tr>\n",
       "    <tr>\n",
       "      <th>4</th>\n",
       "      <td>!!!Bend Over Beethoven</td>\n",
       "      <td>2006-12-28 21:17:07+00:00</td>\n",
       "      <td>2007-03-06</td>\n",
       "    </tr>\n",
       "  </tbody>\n",
       "</table>\n",
       "</div>"
      ],
      "text/plain": [
       "                                        art_tra_name  \\\n",
       "0  ! Www.Polskie-Mp3.Tk ! Katarzyna Groniec02. Ta...   \n",
       "1  !!! Vs LfoMe & Giuliani Down By The Schoolyard...   \n",
       "2                                      !!!A New Name   \n",
       "3                       !!!All My Heroes Are Weirdos   \n",
       "4                             !!!Bend Over Beethoven   \n",
       "\n",
       "                  timestamp album_date  \n",
       "0 2006-04-23 20:55:00+00:00 2000-10-09  \n",
       "1 2009-04-30 02:55:44+00:00 2004-10-25  \n",
       "2 2006-12-28 20:58:59+00:00 2007-03-06  \n",
       "3 2006-12-28 20:49:31+00:00 2007-03-06  \n",
       "4 2006-12-28 21:17:07+00:00 2007-03-06  "
      ]
     },
     "execution_count": 24,
     "metadata": {},
     "output_type": "execute_result"
    }
   ],
   "source": [
    "firstListenings = listenings.groupby('art_tra_name',as_index=False)[['art_tra_name','timestamp','album_date']].min()\n",
    "firstListenings.head()"
   ]
  },
  {
   "cell_type": "code",
   "execution_count": 25,
   "metadata": {},
   "outputs": [],
   "source": [
    "# remove timezone so the dates are comparable\n",
    "firstListenings['timestamp'] = firstListenings['timestamp'].dt.tz_localize(None)"
   ]
  },
  {
   "cell_type": "code",
   "execution_count": 26,
   "metadata": {},
   "outputs": [
    {
     "data": {
      "text/plain": [
       "0.15732665256247752"
      ]
     },
     "execution_count": 26,
     "metadata": {},
     "output_type": "execute_result"
    }
   ],
   "source": [
    "len(firstListenings.query('album_date > timestamp')) / len(firstListenings)"
   ]
  },
  {
   "cell_type": "code",
   "execution_count": 27,
   "metadata": {},
   "outputs": [],
   "source": [
    "listenings = listenings[listenings['art_tra_name'].isin(firstListenings.query('album_date <= timestamp').art_tra_name)].drop('art_tra_name',axis=1)"
   ]
  },
  {
   "cell_type": "markdown",
   "metadata": {},
   "source": [
    "# Data exploration and check for possible anomailies/problems in the data"
   ]
  },
  {
   "cell_type": "code",
   "execution_count": 28,
   "metadata": {},
   "outputs": [
    {
     "data": {
      "text/plain": [
       "(6419084, 8)"
      ]
     },
     "execution_count": 28,
     "metadata": {},
     "output_type": "execute_result"
    }
   ],
   "source": [
    "listenings.shape"
   ]
  },
  {
   "cell_type": "code",
   "execution_count": 29,
   "metadata": {},
   "outputs": [
    {
     "data": {
      "text/plain": [
       "userid            0\n",
       "timestamp         0\n",
       "artid         19628\n",
       "artname           0\n",
       "traid         78935\n",
       "traname           0\n",
       "album_id          0\n",
       "album_date        0\n",
       "dtype: int64"
      ]
     },
     "execution_count": 29,
     "metadata": {},
     "output_type": "execute_result"
    }
   ],
   "source": [
    "# number of null values\n",
    "listenings.isnull().sum()"
   ]
  },
  {
   "cell_type": "code",
   "execution_count": 30,
   "metadata": {},
   "outputs": [],
   "source": [
    "# drop the few rows where track name is missing - these would be useless for future analysis\n",
    "listenings.dropna(subset=['traname'],inplace=True)"
   ]
  },
  {
   "cell_type": "code",
   "execution_count": 31,
   "metadata": {},
   "outputs": [
    {
     "data": {
      "text/plain": [
       "991"
      ]
     },
     "execution_count": 31,
     "metadata": {},
     "output_type": "execute_result"
    }
   ],
   "source": [
    "# number of distinct users\n",
    "listenings['userid'].nunique()"
   ]
  },
  {
   "cell_type": "code",
   "execution_count": 32,
   "metadata": {
    "scrolled": true
   },
   "outputs": [
    {
     "data": {
      "text/plain": [
       "286478"
      ]
     },
     "execution_count": 32,
     "metadata": {},
     "output_type": "execute_result"
    }
   ],
   "source": [
    "# number of distinct songs\n",
    "listenings['traname'].nunique()"
   ]
  },
  {
   "cell_type": "code",
   "execution_count": 33,
   "metadata": {},
   "outputs": [
    {
     "data": {
      "image/png": "[encoded data removed]",
      "text/plain": [
       "<Figure size 720x288 with 1 Axes>"
      ]
     },
     "metadata": {
      "needs_background": "light"
     },
     "output_type": "display_data"
    }
   ],
   "source": [
    "ax = listenings.resample('Y')[['userid']].count()\\\n",
    "    .plot.bar(y='userid',use_index=True,legend=False,figsize=(10,4), title='Number of samples per year')\n",
    "\n",
    "for p in ax.patches:\n",
    "    ax.annotate(str(p.get_height()), xy=(p.get_x(), p.get_height()))"
   ]
  },
  {
   "cell_type": "code",
   "execution_count": 34,
   "metadata": {},
   "outputs": [],
   "source": [
    "# we remove the records in 2010 and 2013 which are obviously errors\n",
    "listenings = listenings[listenings['timestamp'].dt.year<2010]"
   ]
  },
  {
   "cell_type": "code",
   "execution_count": 52,
   "metadata": {},
   "outputs": [
    {
     "data": {
      "text/plain": [
       "<AxesSubplot:title={'center':'Number of samples monthly'}, xlabel='timestamp'>"
      ]
     },
     "execution_count": 52,
     "metadata": {},
     "output_type": "execute_result"
    },
    {
     "data": {
      "image/png": "[encoded data removed]",
      "text/plain": [
       "<Figure size 1296x288 with 1 Axes>"
      ]
     },
     "metadata": {
      "needs_background": "light"
     },
     "output_type": "display_data"
    }
   ],
   "source": [
    "tmp = listenings.resample('M')[['userid']].count().reset_index().copy()\n",
    "tmp['timestamp'] = tmp['timestamp'].apply(lambda x: str(x.year)) +'-' + tmp['timestamp'].apply(lambda x: str(x.month))\n",
    "tmp.plot.bar(x='timestamp',y='userid',use_index=True,legend=False,figsize=(18,4), title='Number of samples monthly')"
   ]
  },
  {
   "cell_type": "code",
   "execution_count": 36,
   "metadata": {},
   "outputs": [
    {
     "data": {
      "text/plain": [
       "<AxesSubplot:title={'center':'May 2009 daily count of samples'}, xlabel='timestamp'>"
      ]
     },
     "execution_count": 36,
     "metadata": {},
     "output_type": "execute_result"
    },
    {
     "data": {
      "image/png": "[encoded data removed]",
      "text/plain": [
       "<Figure size 1296x288 with 1 Axes>"
      ]
     },
     "metadata": {
      "needs_background": "light"
     },
     "output_type": "display_data"
    }
   ],
   "source": [
    "listenings[(listenings['timestamp'].dt.year==2009) & (listenings['timestamp'].dt.month==5)]\\\n",
    "    .resample('d')[['userid']].count()\\\n",
    "    .plot.bar(y='userid',use_index=True,legend=False,figsize=(18,4), title='May 2009 daily count of samples')"
   ]
  },
  {
   "cell_type": "markdown",
   "metadata": {},
   "source": [
    "Despite the documentation saying the latest data point in the dataset should be from May 5th the data continues a bit further. The problem is there are a lot less samples for this time period when check the monthly counts so we rather remove both May and June 2009."
   ]
  },
  {
   "cell_type": "code",
   "execution_count": 37,
   "metadata": {},
   "outputs": [],
   "source": [
    "listenings = listenings[~((listenings['timestamp'].dt.year==2009) & (listenings['timestamp'].dt.month.isin((5,6))))]"
   ]
  },
  {
   "cell_type": "code",
   "execution_count": 38,
   "metadata": {},
   "outputs": [
    {
     "data": {
      "text/plain": [
       "989"
      ]
     },
     "execution_count": 38,
     "metadata": {},
     "output_type": "execute_result"
    }
   ],
   "source": [
    "# number of distinct users\n",
    "listenings['userid'].nunique()"
   ]
  },
  {
   "cell_type": "code",
   "execution_count": 39,
   "metadata": {
    "scrolled": true
   },
   "outputs": [
    {
     "data": {
      "text/plain": [
       "284719"
      ]
     },
     "execution_count": 39,
     "metadata": {},
     "output_type": "execute_result"
    }
   ],
   "source": [
    "# number of distinct songs\n",
    "listenings['traname'].nunique()"
   ]
  },
  {
   "cell_type": "code",
   "execution_count": 40,
   "metadata": {},
   "outputs": [
    {
     "data": {
      "text/plain": [
       "<AxesSubplot:title={'center':'Number of distinct users yearly'}, xlabel='timestamp'>"
      ]
     },
     "execution_count": 40,
     "metadata": {},
     "output_type": "execute_result"
    },
    {
     "data": {
      "image/png": "[encoded data removed]",
      "text/plain": [
       "<Figure size 720x288 with 1 Axes>"
      ]
     },
     "metadata": {
      "needs_background": "light"
     },
     "output_type": "display_data"
    }
   ],
   "source": [
    "listenings.resample('Y').userid.nunique()\\\n",
    "    .plot.bar(y='userid',use_index=True,legend=False,figsize=(10,4), title='Number of distinct users yearly')"
   ]
  },
  {
   "cell_type": "markdown",
   "metadata": {},
   "source": [
    "We see number of users in the dataset is rising over time so we might need to take this into account when we will be analyzing the number of song listenings."
   ]
  },
  {
   "cell_type": "code",
   "execution_count": 41,
   "metadata": {},
   "outputs": [
    {
     "data": {
      "text/plain": [
       "<AxesSubplot:title={'center':'Number of distinct users monthly'}, xlabel='timestamp'>"
      ]
     },
     "execution_count": 41,
     "metadata": {},
     "output_type": "execute_result"
    },
    {
     "data": {
      "image/png": "[encoded data removed]",
      "text/plain": [
       "<Figure size 1296x288 with 1 Axes>"
      ]
     },
     "metadata": {
      "needs_background": "light"
     },
     "output_type": "display_data"
    }
   ],
   "source": [
    "listenings.resample('M').userid.nunique()\\\n",
    "    .plot.bar(y='userid',use_index=True,legend=False,figsize=(18,4), title='Number of distinct users monthly')"
   ]
  },
  {
   "cell_type": "code",
   "execution_count": 42,
   "metadata": {},
   "outputs": [
    {
     "data": {
      "text/plain": [
       "6357883"
      ]
     },
     "execution_count": 42,
     "metadata": {},
     "output_type": "execute_result"
    }
   ],
   "source": [
    "len(listenings)"
   ]
  },
  {
   "cell_type": "markdown",
   "metadata": {},
   "source": [
    "# Join with other datasets"
   ]
  },
  {
   "cell_type": "markdown",
   "metadata": {},
   "source": [
    "## userid-profile.tsv\n",
    "A file provided together with the listenings data containing some information about the users.\n",
    "\n",
    "Link: http://ocelma.net/MusicRecommendationDataset/lastfm-1K.html"
   ]
  },
  {
   "cell_type": "code",
   "execution_count": 43,
   "metadata": {},
   "outputs": [
    {
     "data": {
      "text/html": [
       "<div>\n",
       "<style scoped>\n",
       "    .dataframe tbody tr th:only-of-type {\n",
       "        vertical-align: middle;\n",
       "    }\n",
       "\n",
       "    .dataframe tbody tr th {\n",
       "        vertical-align: top;\n",
       "    }\n",
       "\n",
       "    .dataframe thead th {\n",
       "        text-align: right;\n",
       "    }\n",
       "</style>\n",
       "<table border=\"1\" class=\"dataframe\">\n",
       "  <thead>\n",
       "    <tr style=\"text-align: right;\">\n",
       "      <th></th>\n",
       "      <th>userid</th>\n",
       "      <th>gender</th>\n",
       "      <th>age</th>\n",
       "      <th>country</th>\n",
       "      <th>registered</th>\n",
       "    </tr>\n",
       "  </thead>\n",
       "  <tbody>\n",
       "    <tr>\n",
       "      <th>0</th>\n",
       "      <td>user_000001</td>\n",
       "      <td>m</td>\n",
       "      <td>NaN</td>\n",
       "      <td>Japan</td>\n",
       "      <td>Aug 13, 2006</td>\n",
       "    </tr>\n",
       "    <tr>\n",
       "      <th>1</th>\n",
       "      <td>user_000002</td>\n",
       "      <td>f</td>\n",
       "      <td>NaN</td>\n",
       "      <td>Peru</td>\n",
       "      <td>Feb 24, 2006</td>\n",
       "    </tr>\n",
       "    <tr>\n",
       "      <th>2</th>\n",
       "      <td>user_000003</td>\n",
       "      <td>m</td>\n",
       "      <td>22.0</td>\n",
       "      <td>United States</td>\n",
       "      <td>Oct 30, 2005</td>\n",
       "    </tr>\n",
       "    <tr>\n",
       "      <th>3</th>\n",
       "      <td>user_000004</td>\n",
       "      <td>f</td>\n",
       "      <td>NaN</td>\n",
       "      <td>NaN</td>\n",
       "      <td>Apr 26, 2006</td>\n",
       "    </tr>\n",
       "    <tr>\n",
       "      <th>4</th>\n",
       "      <td>user_000005</td>\n",
       "      <td>m</td>\n",
       "      <td>NaN</td>\n",
       "      <td>Bulgaria</td>\n",
       "      <td>Jun 29, 2006</td>\n",
       "    </tr>\n",
       "  </tbody>\n",
       "</table>\n",
       "</div>"
      ],
      "text/plain": [
       "        userid gender   age        country    registered\n",
       "0  user_000001      m   NaN          Japan  Aug 13, 2006\n",
       "1  user_000002      f   NaN           Peru  Feb 24, 2006\n",
       "2  user_000003      m  22.0  United States  Oct 30, 2005\n",
       "3  user_000004      f   NaN            NaN  Apr 26, 2006\n",
       "4  user_000005      m   NaN       Bulgaria  Jun 29, 2006"
      ]
     },
     "execution_count": 43,
     "metadata": {},
     "output_type": "execute_result"
    }
   ],
   "source": [
    "users = pd.read_csv('lastfm-dataset-1K/userid-profile.tsv',sep='\\t')\n",
    "users.rename({'#id':'userid'},axis=1,inplace=True)\n",
    "users.head()"
   ]
  },
  {
   "cell_type": "code",
   "execution_count": 44,
   "metadata": {},
   "outputs": [
    {
     "data": {
      "text/plain": [
       "(992, 5)"
      ]
     },
     "execution_count": 44,
     "metadata": {},
     "output_type": "execute_result"
    }
   ],
   "source": [
    "users.shape"
   ]
  },
  {
   "cell_type": "code",
   "execution_count": 45,
   "metadata": {},
   "outputs": [
    {
     "data": {
      "text/plain": [
       "True"
      ]
     },
     "execution_count": 45,
     "metadata": {},
     "output_type": "execute_result"
    }
   ],
   "source": [
    "# check if id attribute is unique\n",
    "users['userid'].is_unique"
   ]
  },
  {
   "cell_type": "markdown",
   "metadata": {},
   "source": [
    "Users data can be perfectly joined to the listenings data:"
   ]
  },
  {
   "cell_type": "code",
   "execution_count": 46,
   "metadata": {},
   "outputs": [
    {
     "data": {
      "text/plain": [
       "(6357883, 12)"
      ]
     },
     "execution_count": 46,
     "metadata": {},
     "output_type": "execute_result"
    }
   ],
   "source": [
    "listenings.merge(users).shape"
   ]
  },
  {
   "cell_type": "code",
   "execution_count": 47,
   "metadata": {},
   "outputs": [
    {
     "data": {
      "text/plain": [
       "(6357883, 8)"
      ]
     },
     "execution_count": 47,
     "metadata": {},
     "output_type": "execute_result"
    }
   ],
   "source": [
    "listenings.shape"
   ]
  },
  {
   "cell_type": "markdown",
   "metadata": {},
   "source": [
    "Age has too many null values, only gender and country will be usable:"
   ]
  },
  {
   "cell_type": "code",
   "execution_count": 48,
   "metadata": {},
   "outputs": [
    {
     "data": {
      "text/plain": [
       "userid          0\n",
       "gender        108\n",
       "age           706\n",
       "country        85\n",
       "registered      8\n",
       "dtype: int64"
      ]
     },
     "execution_count": 48,
     "metadata": {},
     "output_type": "execute_result"
    }
   ],
   "source": [
    "# number of null values\n",
    "users.isnull().sum()"
   ]
  },
  {
   "cell_type": "code",
   "execution_count": 49,
   "metadata": {},
   "outputs": [
    {
     "data": {
      "text/plain": [
       "<AxesSubplot:title={'center':'Gender ratio in the data'}, ylabel='userid'>"
      ]
     },
     "execution_count": 49,
     "metadata": {},
     "output_type": "execute_result"
    },
    {
     "data": {
      "image/png": "[encoded data removed]",
      "text/plain": [
       "<Figure size 432x288 with 1 Axes>"
      ]
     },
     "metadata": {},
     "output_type": "display_data"
    }
   ],
   "source": [
    "users.groupby('gender').count()[['userid']].plot.pie(y='userid',title='Gender ratio in the data')"
   ]
  },
  {
   "cell_type": "code",
   "execution_count": 50,
   "metadata": {},
   "outputs": [
    {
     "data": {
      "text/plain": [
       "<AxesSubplot:title={'center':'Number of distinct users per countries'}, xlabel='country'>"
      ]
     },
     "execution_count": 50,
     "metadata": {},
     "output_type": "execute_result"
    },
    {
     "data": {
      "image/png": "[encoded data removed]",
      "text/plain": [
       "<Figure size 1296x288 with 1 Axes>"
      ]
     },
     "metadata": {
      "needs_background": "light"
     },
     "output_type": "display_data"
    }
   ],
   "source": [
    "users.groupby('country').count()[['userid']].sort_values('userid',ascending=False)\\\n",
    "    .plot.bar(y='userid',figsize=(18,4),title='Number of distinct users per countries')"
   ]
  },
  {
   "cell_type": "markdown",
   "metadata": {},
   "source": [
    "## Million Song Dataset - tags"
   ]
  },
  {
   "cell_type": "markdown",
   "metadata": {},
   "source": [
    "A dataset conating tags(music genres) for the songs, the form of sqllite database is used. A song can have more tags - each associated with some value expressing how strongly the tag applies to the particular song. For the purpose of this analysis we will use only the tags with the highest value for each of the songs and followingly we will only consider the top 5 most common tags in the dataset so that we have reasonable number of samples in each of the tag's values (music genres).\n",
    "\n",
    "Link: http://millionsongdataset.com/lastfm/"
   ]
  },
  {
   "cell_type": "code",
   "execution_count": 51,
   "metadata": {},
   "outputs": [],
   "source": [
    "dbfile = 'lastfm_tags.db'\n",
    "\n",
    "# open connection\n",
    "conn = sqlite3.connect(dbfile)"
   ]
  },
  {
   "cell_type": "markdown",
   "metadata": {},
   "source": [
    "The database contains the following 3 tables:"
   ]
  },
  {
   "cell_type": "code",
   "execution_count": 52,
   "metadata": {},
   "outputs": [
    {
     "data": {
      "text/html": [
       "<div>\n",
       "<style scoped>\n",
       "    .dataframe tbody tr th:only-of-type {\n",
       "        vertical-align: middle;\n",
       "    }\n",
       "\n",
       "    .dataframe tbody tr th {\n",
       "        vertical-align: top;\n",
       "    }\n",
       "\n",
       "    .dataframe thead th {\n",
       "        text-align: right;\n",
       "    }\n",
       "</style>\n",
       "<table border=\"1\" class=\"dataframe\">\n",
       "  <thead>\n",
       "    <tr style=\"text-align: right;\">\n",
       "      <th></th>\n",
       "      <th>tag</th>\n",
       "    </tr>\n",
       "  </thead>\n",
       "  <tbody>\n",
       "    <tr>\n",
       "      <th>0</th>\n",
       "      <td>classic rock</td>\n",
       "    </tr>\n",
       "    <tr>\n",
       "      <th>1</th>\n",
       "      <td>Progressive rock</td>\n",
       "    </tr>\n",
       "    <tr>\n",
       "      <th>2</th>\n",
       "      <td>blues</td>\n",
       "    </tr>\n",
       "  </tbody>\n",
       "</table>\n",
       "</div>"
      ],
      "text/plain": [
       "                tag\n",
       "0      classic rock\n",
       "1  Progressive rock\n",
       "2             blues"
      ]
     },
     "execution_count": 52,
     "metadata": {},
     "output_type": "execute_result"
    }
   ],
   "source": [
    "pd.read_sql_query(\"\"\"select * from tags LIMIT 3;\"\"\", conn)"
   ]
  },
  {
   "cell_type": "code",
   "execution_count": 53,
   "metadata": {},
   "outputs": [
    {
     "data": {
      "text/html": [
       "<div>\n",
       "<style scoped>\n",
       "    .dataframe tbody tr th:only-of-type {\n",
       "        vertical-align: middle;\n",
       "    }\n",
       "\n",
       "    .dataframe tbody tr th {\n",
       "        vertical-align: top;\n",
       "    }\n",
       "\n",
       "    .dataframe thead th {\n",
       "        text-align: right;\n",
       "    }\n",
       "</style>\n",
       "<table border=\"1\" class=\"dataframe\">\n",
       "  <thead>\n",
       "    <tr style=\"text-align: right;\">\n",
       "      <th></th>\n",
       "      <th>tid</th>\n",
       "    </tr>\n",
       "  </thead>\n",
       "  <tbody>\n",
       "    <tr>\n",
       "      <th>0</th>\n",
       "      <td>TRCCCYE12903CFF0E9</td>\n",
       "    </tr>\n",
       "    <tr>\n",
       "      <th>1</th>\n",
       "      <td>TRCCCFH12903CEBC70</td>\n",
       "    </tr>\n",
       "    <tr>\n",
       "      <th>2</th>\n",
       "      <td>TRCCCJT128F429FFF6</td>\n",
       "    </tr>\n",
       "  </tbody>\n",
       "</table>\n",
       "</div>"
      ],
      "text/plain": [
       "                  tid\n",
       "0  TRCCCYE12903CFF0E9\n",
       "1  TRCCCFH12903CEBC70\n",
       "2  TRCCCJT128F429FFF6"
      ]
     },
     "execution_count": 53,
     "metadata": {},
     "output_type": "execute_result"
    }
   ],
   "source": [
    "pd.read_sql_query(\"\"\"select * from tids LIMIT 3;\"\"\", conn)"
   ]
  },
  {
   "cell_type": "code",
   "execution_count": 54,
   "metadata": {},
   "outputs": [
    {
     "data": {
      "text/html": [
       "<div>\n",
       "<style scoped>\n",
       "    .dataframe tbody tr th:only-of-type {\n",
       "        vertical-align: middle;\n",
       "    }\n",
       "\n",
       "    .dataframe tbody tr th {\n",
       "        vertical-align: top;\n",
       "    }\n",
       "\n",
       "    .dataframe thead th {\n",
       "        text-align: right;\n",
       "    }\n",
       "</style>\n",
       "<table border=\"1\" class=\"dataframe\">\n",
       "  <thead>\n",
       "    <tr style=\"text-align: right;\">\n",
       "      <th></th>\n",
       "      <th>tid</th>\n",
       "      <th>tag</th>\n",
       "      <th>val</th>\n",
       "    </tr>\n",
       "  </thead>\n",
       "  <tbody>\n",
       "    <tr>\n",
       "      <th>0</th>\n",
       "      <td>1</td>\n",
       "      <td>1</td>\n",
       "      <td>100.0</td>\n",
       "    </tr>\n",
       "    <tr>\n",
       "      <th>1</th>\n",
       "      <td>1</td>\n",
       "      <td>2</td>\n",
       "      <td>100.0</td>\n",
       "    </tr>\n",
       "    <tr>\n",
       "      <th>2</th>\n",
       "      <td>2</td>\n",
       "      <td>3</td>\n",
       "      <td>100.0</td>\n",
       "    </tr>\n",
       "  </tbody>\n",
       "</table>\n",
       "</div>"
      ],
      "text/plain": [
       "   tid  tag    val\n",
       "0    1    1  100.0\n",
       "1    1    2  100.0\n",
       "2    2    3  100.0"
      ]
     },
     "execution_count": 54,
     "metadata": {},
     "output_type": "execute_result"
    }
   ],
   "source": [
    "pd.read_sql_query(\"\"\"select * from tid_tag LIMIT 3;\"\"\", conn)"
   ]
  },
  {
   "cell_type": "code",
   "execution_count": 55,
   "metadata": {},
   "outputs": [
    {
     "data": {
      "text/html": [
       "<div>\n",
       "<style scoped>\n",
       "    .dataframe tbody tr th:only-of-type {\n",
       "        vertical-align: middle;\n",
       "    }\n",
       "\n",
       "    .dataframe tbody tr th {\n",
       "        vertical-align: top;\n",
       "    }\n",
       "\n",
       "    .dataframe thead th {\n",
       "        text-align: right;\n",
       "    }\n",
       "</style>\n",
       "<table border=\"1\" class=\"dataframe\">\n",
       "  <thead>\n",
       "    <tr style=\"text-align: right;\">\n",
       "      <th></th>\n",
       "      <th>tag</th>\n",
       "      <th>COUNT(tid_tag.tid)</th>\n",
       "    </tr>\n",
       "  </thead>\n",
       "  <tbody>\n",
       "    <tr>\n",
       "      <th>419585</th>\n",
       "      <td>rock</td>\n",
       "      <td>101071</td>\n",
       "    </tr>\n",
       "    <tr>\n",
       "      <th>397948</th>\n",
       "      <td>pop</td>\n",
       "      <td>69159</td>\n",
       "    </tr>\n",
       "    <tr>\n",
       "      <th>153075</th>\n",
       "      <td>alternative</td>\n",
       "      <td>55777</td>\n",
       "    </tr>\n",
       "    <tr>\n",
       "      <th>299442</th>\n",
       "      <td>indie</td>\n",
       "      <td>48175</td>\n",
       "    </tr>\n",
       "    <tr>\n",
       "      <th>233524</th>\n",
       "      <td>electronic</td>\n",
       "      <td>46270</td>\n",
       "    </tr>\n",
       "    <tr>\n",
       "      <th>248252</th>\n",
       "      <td>female vocalists</td>\n",
       "      <td>42565</td>\n",
       "    </tr>\n",
       "    <tr>\n",
       "      <th>245839</th>\n",
       "      <td>favorites</td>\n",
       "      <td>39921</td>\n",
       "    </tr>\n",
       "    <tr>\n",
       "      <th>80295</th>\n",
       "      <td>Love</td>\n",
       "      <td>34901</td>\n",
       "    </tr>\n",
       "    <tr>\n",
       "      <th>211486</th>\n",
       "      <td>dance</td>\n",
       "      <td>33618</td>\n",
       "    </tr>\n",
       "    <tr>\n",
       "      <th>919</th>\n",
       "      <td>00s</td>\n",
       "      <td>31432</td>\n",
       "    </tr>\n",
       "  </tbody>\n",
       "</table>\n",
       "</div>"
      ],
      "text/plain": [
       "                     tag  COUNT(tid_tag.tid)\n",
       "419585              rock              101071\n",
       "397948               pop               69159\n",
       "153075       alternative               55777\n",
       "299442             indie               48175\n",
       "233524        electronic               46270\n",
       "248252  female vocalists               42565\n",
       "245839         favorites               39921\n",
       "80295               Love               34901\n",
       "211486             dance               33618\n",
       "919                  00s               31432"
      ]
     },
     "execution_count": 55,
     "metadata": {},
     "output_type": "execute_result"
    }
   ],
   "source": [
    "# we check what the most common tags are\n",
    "tags = pd.read_sql_query(\"\"\"SELECT tags.tag, COUNT(tid_tag.tid) \n",
    "                        FROM tid_tag, tags \n",
    "                        WHERE tid_tag.tag=tags.ROWID \n",
    "                        GROUP BY tags.tag;\"\"\", conn)\n",
    "topTags = tags.sort_values('COUNT(tid_tag.tid)',ascending=False)[:10]\n",
    "topTags"
   ]
  },
  {
   "cell_type": "code",
   "execution_count": 56,
   "metadata": {},
   "outputs": [],
   "source": [
    "# we will only use the top 5\n",
    "topTagsStr = str(tuple(topTags['tag'][:5]))"
   ]
  },
  {
   "cell_type": "code",
   "execution_count": 57,
   "metadata": {},
   "outputs": [],
   "source": [
    "# get the tags with values for each of the track ids\n",
    "trackGenres = pd.read_sql_query(f\"\"\"SELECT tids.tid,tags.tag,tid_tag.val, \n",
    "                                           ROW_NUMBER () OVER (PARTITION BY tids.tid ORDER BY val DESC) rn\n",
    "                                     FROM tid_tag \n",
    "                                     JOIN tids ON tid_tag.tid=tids.ROWID\n",
    "                                     JOIN tags ON tags.ROWID=tid_tag.tag\n",
    "                                     WHERE tags.tag IN {topTagsStr};\"\"\", conn)"
   ]
  },
  {
   "cell_type": "code",
   "execution_count": 58,
   "metadata": {},
   "outputs": [],
   "source": [
    "# get only the genre with highest val for each track\n",
    "trackGenres = trackGenres[trackGenres['rn']==1]"
   ]
  },
  {
   "cell_type": "code",
   "execution_count": 59,
   "metadata": {},
   "outputs": [
    {
     "data": {
      "text/html": [
       "<div>\n",
       "<style scoped>\n",
       "    .dataframe tbody tr th:only-of-type {\n",
       "        vertical-align: middle;\n",
       "    }\n",
       "\n",
       "    .dataframe tbody tr th {\n",
       "        vertical-align: top;\n",
       "    }\n",
       "\n",
       "    .dataframe thead th {\n",
       "        text-align: right;\n",
       "    }\n",
       "</style>\n",
       "<table border=\"1\" class=\"dataframe\">\n",
       "  <thead>\n",
       "    <tr style=\"text-align: right;\">\n",
       "      <th></th>\n",
       "      <th>tid</th>\n",
       "      <th>tag</th>\n",
       "      <th>val</th>\n",
       "      <th>rn</th>\n",
       "    </tr>\n",
       "  </thead>\n",
       "  <tbody>\n",
       "    <tr>\n",
       "      <th>0</th>\n",
       "      <td>TRAAAAK128F9318786</td>\n",
       "      <td>rock</td>\n",
       "      <td>60.0</td>\n",
       "      <td>1</td>\n",
       "    </tr>\n",
       "    <tr>\n",
       "      <th>1</th>\n",
       "      <td>TRAAABD128F429CF47</td>\n",
       "      <td>pop</td>\n",
       "      <td>41.0</td>\n",
       "      <td>1</td>\n",
       "    </tr>\n",
       "    <tr>\n",
       "      <th>3</th>\n",
       "      <td>TRAAADJ128F4287B47</td>\n",
       "      <td>rock</td>\n",
       "      <td>100.0</td>\n",
       "      <td>1</td>\n",
       "    </tr>\n",
       "    <tr>\n",
       "      <th>4</th>\n",
       "      <td>TRAAAED128E0783FAB</td>\n",
       "      <td>pop</td>\n",
       "      <td>17.0</td>\n",
       "      <td>1</td>\n",
       "    </tr>\n",
       "    <tr>\n",
       "      <th>6</th>\n",
       "      <td>TRAAAGR128F425B14B</td>\n",
       "      <td>pop</td>\n",
       "      <td>82.0</td>\n",
       "      <td>1</td>\n",
       "    </tr>\n",
       "  </tbody>\n",
       "</table>\n",
       "</div>"
      ],
      "text/plain": [
       "                  tid   tag    val  rn\n",
       "0  TRAAAAK128F9318786  rock   60.0   1\n",
       "1  TRAAABD128F429CF47   pop   41.0   1\n",
       "3  TRAAADJ128F4287B47  rock  100.0   1\n",
       "4  TRAAAED128E0783FAB   pop   17.0   1\n",
       "6  TRAAAGR128F425B14B   pop   82.0   1"
      ]
     },
     "execution_count": 59,
     "metadata": {},
     "output_type": "execute_result"
    }
   ],
   "source": [
    "trackGenres.head()"
   ]
  },
  {
   "cell_type": "markdown",
   "metadata": {},
   "source": [
    "The track ids are a different kind than in the listenings data so we need to join another file (from million songs) providing use with artist name and track names which we will use for joining the the tags to the listeings data"
   ]
  },
  {
   "cell_type": "code",
   "execution_count": 60,
   "metadata": {},
   "outputs": [
    {
     "data": {
      "text/html": [
       "<div>\n",
       "<style scoped>\n",
       "    .dataframe tbody tr th:only-of-type {\n",
       "        vertical-align: middle;\n",
       "    }\n",
       "\n",
       "    .dataframe tbody tr th {\n",
       "        vertical-align: top;\n",
       "    }\n",
       "\n",
       "    .dataframe thead th {\n",
       "        text-align: right;\n",
       "    }\n",
       "</style>\n",
       "<table border=\"1\" class=\"dataframe\">\n",
       "  <thead>\n",
       "    <tr style=\"text-align: right;\">\n",
       "      <th></th>\n",
       "      <th>tid</th>\n",
       "      <th>song id</th>\n",
       "      <th>artname</th>\n",
       "      <th>traname</th>\n",
       "    </tr>\n",
       "  </thead>\n",
       "  <tbody>\n",
       "    <tr>\n",
       "      <th>0</th>\n",
       "      <td>TRMMMYQ128F932D901</td>\n",
       "      <td>SOQMMHC12AB0180CB8</td>\n",
       "      <td>Faster Pussy cat</td>\n",
       "      <td>Silent Night</td>\n",
       "    </tr>\n",
       "    <tr>\n",
       "      <th>1</th>\n",
       "      <td>TRMMMKD128F425225D</td>\n",
       "      <td>SOVFVAK12A8C1350D9</td>\n",
       "      <td>Karkkiautomaatti</td>\n",
       "      <td>Tanssi vaan</td>\n",
       "    </tr>\n",
       "    <tr>\n",
       "      <th>2</th>\n",
       "      <td>TRMMMRX128F93187D9</td>\n",
       "      <td>SOGTUKN12AB017F4F1</td>\n",
       "      <td>Hudson Mohawke</td>\n",
       "      <td>No One Could Ever</td>\n",
       "    </tr>\n",
       "    <tr>\n",
       "      <th>3</th>\n",
       "      <td>TRMMMCH128F425532C</td>\n",
       "      <td>SOBNYVR12A8C13558C</td>\n",
       "      <td>Yerba Brava</td>\n",
       "      <td>Si Vos QuerĂ©s</td>\n",
       "    </tr>\n",
       "    <tr>\n",
       "      <th>4</th>\n",
       "      <td>TRMMMWA128F426B589</td>\n",
       "      <td>SOHSBXH12A8C13B0DF</td>\n",
       "      <td>Der Mystic</td>\n",
       "      <td>Tangle Of Aspens</td>\n",
       "    </tr>\n",
       "  </tbody>\n",
       "</table>\n",
       "</div>"
      ],
      "text/plain": [
       "                  tid             song id           artname            traname\n",
       "0  TRMMMYQ128F932D901  SOQMMHC12AB0180CB8  Faster Pussy cat       Silent Night\n",
       "1  TRMMMKD128F425225D  SOVFVAK12A8C1350D9  Karkkiautomaatti        Tanssi vaan\n",
       "2  TRMMMRX128F93187D9  SOGTUKN12AB017F4F1    Hudson Mohawke  No One Could Ever\n",
       "3  TRMMMCH128F425532C  SOBNYVR12A8C13558C       Yerba Brava     Si Vos QuerĂ©s\n",
       "4  TRMMMWA128F426B589  SOHSBXH12A8C13B0DF        Der Mystic   Tangle Of Aspens"
      ]
     },
     "execution_count": 60,
     "metadata": {},
     "output_type": "execute_result"
    }
   ],
   "source": [
    "uniqueTracks = pd.read_csv('unique_tracks.txt',sep='<SEP>',engine='python',header= None,\n",
    "                         names=['tid','song id','artname','traname'])\n",
    "uniqueTracks.head()"
   ]
  },
  {
   "cell_type": "code",
   "execution_count": 61,
   "metadata": {},
   "outputs": [
    {
     "data": {
      "text/plain": [
       "(1000000, 4)"
      ]
     },
     "execution_count": 61,
     "metadata": {},
     "output_type": "execute_result"
    }
   ],
   "source": [
    "uniqueTracks.shape"
   ]
  },
  {
   "cell_type": "code",
   "execution_count": 62,
   "metadata": {},
   "outputs": [
    {
     "data": {
      "text/html": [
       "<div>\n",
       "<style scoped>\n",
       "    .dataframe tbody tr th:only-of-type {\n",
       "        vertical-align: middle;\n",
       "    }\n",
       "\n",
       "    .dataframe tbody tr th {\n",
       "        vertical-align: top;\n",
       "    }\n",
       "\n",
       "    .dataframe thead th {\n",
       "        text-align: right;\n",
       "    }\n",
       "</style>\n",
       "<table border=\"1\" class=\"dataframe\">\n",
       "  <thead>\n",
       "    <tr style=\"text-align: right;\">\n",
       "      <th></th>\n",
       "      <th>userid</th>\n",
       "      <th>timestamp</th>\n",
       "      <th>artid</th>\n",
       "      <th>artname</th>\n",
       "      <th>traid</th>\n",
       "      <th>traname</th>\n",
       "      <th>album_id</th>\n",
       "      <th>album_date</th>\n",
       "      <th>tid</th>\n",
       "    </tr>\n",
       "  </thead>\n",
       "  <tbody>\n",
       "    <tr>\n",
       "      <th>0</th>\n",
       "      <td>user_000001</td>\n",
       "      <td>2009-04-28 13:25:52+00:00</td>\n",
       "      <td>463a94f1-2713-40b1-9c88-dcc9c0170cae</td>\n",
       "      <td>Minus 8</td>\n",
       "      <td>f78c95a8-9256-4757-9a9f-213df5c6854e</td>\n",
       "      <td>Cold Fusion</td>\n",
       "      <td>1fe4b6e8-3d91-4478-bb96-c37f012ab53c</td>\n",
       "      <td>2000-08-29</td>\n",
       "      <td>TRYCCBQ12903CBBBCB</td>\n",
       "    </tr>\n",
       "    <tr>\n",
       "      <th>1</th>\n",
       "      <td>user_000001</td>\n",
       "      <td>2009-04-26 18:44:16+00:00</td>\n",
       "      <td>463a94f1-2713-40b1-9c88-dcc9c0170cae</td>\n",
       "      <td>Minus 8</td>\n",
       "      <td>f78c95a8-9256-4757-9a9f-213df5c6854e</td>\n",
       "      <td>Cold Fusion</td>\n",
       "      <td>1fe4b6e8-3d91-4478-bb96-c37f012ab53c</td>\n",
       "      <td>2000-08-29</td>\n",
       "      <td>TRYCCBQ12903CBBBCB</td>\n",
       "    </tr>\n",
       "    <tr>\n",
       "      <th>2</th>\n",
       "      <td>user_000001</td>\n",
       "      <td>2009-04-26 17:14:17+00:00</td>\n",
       "      <td>463a94f1-2713-40b1-9c88-dcc9c0170cae</td>\n",
       "      <td>Minus 8</td>\n",
       "      <td>f78c95a8-9256-4757-9a9f-213df5c6854e</td>\n",
       "      <td>Cold Fusion</td>\n",
       "      <td>1fe4b6e8-3d91-4478-bb96-c37f012ab53c</td>\n",
       "      <td>2000-08-29</td>\n",
       "      <td>TRYCCBQ12903CBBBCB</td>\n",
       "    </tr>\n",
       "    <tr>\n",
       "      <th>3</th>\n",
       "      <td>user_000001</td>\n",
       "      <td>2009-04-26 15:51:02+00:00</td>\n",
       "      <td>463a94f1-2713-40b1-9c88-dcc9c0170cae</td>\n",
       "      <td>Minus 8</td>\n",
       "      <td>f78c95a8-9256-4757-9a9f-213df5c6854e</td>\n",
       "      <td>Cold Fusion</td>\n",
       "      <td>1fe4b6e8-3d91-4478-bb96-c37f012ab53c</td>\n",
       "      <td>2000-08-29</td>\n",
       "      <td>TRYCCBQ12903CBBBCB</td>\n",
       "    </tr>\n",
       "    <tr>\n",
       "      <th>4</th>\n",
       "      <td>user_000001</td>\n",
       "      <td>2009-04-11 16:00:12+00:00</td>\n",
       "      <td>463a94f1-2713-40b1-9c88-dcc9c0170cae</td>\n",
       "      <td>Minus 8</td>\n",
       "      <td>f78c95a8-9256-4757-9a9f-213df5c6854e</td>\n",
       "      <td>Cold Fusion</td>\n",
       "      <td>1fe4b6e8-3d91-4478-bb96-c37f012ab53c</td>\n",
       "      <td>2000-08-29</td>\n",
       "      <td>TRYCCBQ12903CBBBCB</td>\n",
       "    </tr>\n",
       "  </tbody>\n",
       "</table>\n",
       "</div>"
      ],
      "text/plain": [
       "        userid                 timestamp  \\\n",
       "0  user_000001 2009-04-28 13:25:52+00:00   \n",
       "1  user_000001 2009-04-26 18:44:16+00:00   \n",
       "2  user_000001 2009-04-26 17:14:17+00:00   \n",
       "3  user_000001 2009-04-26 15:51:02+00:00   \n",
       "4  user_000001 2009-04-11 16:00:12+00:00   \n",
       "\n",
       "                                  artid  artname  \\\n",
       "0  463a94f1-2713-40b1-9c88-dcc9c0170cae  Minus 8   \n",
       "1  463a94f1-2713-40b1-9c88-dcc9c0170cae  Minus 8   \n",
       "2  463a94f1-2713-40b1-9c88-dcc9c0170cae  Minus 8   \n",
       "3  463a94f1-2713-40b1-9c88-dcc9c0170cae  Minus 8   \n",
       "4  463a94f1-2713-40b1-9c88-dcc9c0170cae  Minus 8   \n",
       "\n",
       "                                  traid      traname  \\\n",
       "0  f78c95a8-9256-4757-9a9f-213df5c6854e  Cold Fusion   \n",
       "1  f78c95a8-9256-4757-9a9f-213df5c6854e  Cold Fusion   \n",
       "2  f78c95a8-9256-4757-9a9f-213df5c6854e  Cold Fusion   \n",
       "3  f78c95a8-9256-4757-9a9f-213df5c6854e  Cold Fusion   \n",
       "4  f78c95a8-9256-4757-9a9f-213df5c6854e  Cold Fusion   \n",
       "\n",
       "                               album_id album_date                 tid  \n",
       "0  1fe4b6e8-3d91-4478-bb96-c37f012ab53c 2000-08-29  TRYCCBQ12903CBBBCB  \n",
       "1  1fe4b6e8-3d91-4478-bb96-c37f012ab53c 2000-08-29  TRYCCBQ12903CBBBCB  \n",
       "2  1fe4b6e8-3d91-4478-bb96-c37f012ab53c 2000-08-29  TRYCCBQ12903CBBBCB  \n",
       "3  1fe4b6e8-3d91-4478-bb96-c37f012ab53c 2000-08-29  TRYCCBQ12903CBBBCB  \n",
       "4  1fe4b6e8-3d91-4478-bb96-c37f012ab53c 2000-08-29  TRYCCBQ12903CBBBCB  "
      ]
     },
     "execution_count": 62,
     "metadata": {},
     "output_type": "execute_result"
    }
   ],
   "source": [
    "listeningsWithTid = listenings.merge(uniqueTracks.drop('song id',axis=1))\n",
    "listeningsWithTid.head()"
   ]
  },
  {
   "cell_type": "code",
   "execution_count": 63,
   "metadata": {},
   "outputs": [
    {
     "data": {
      "text/plain": [
       "(2780720, 9)"
      ]
     },
     "execution_count": 63,
     "metadata": {},
     "output_type": "execute_result"
    }
   ],
   "source": [
    "# as we can see we loose quite a lot of data in the join\n",
    "listeningsWithTid.shape"
   ]
  },
  {
   "cell_type": "code",
   "execution_count": 64,
   "metadata": {
    "scrolled": true
   },
   "outputs": [
    {
     "data": {
      "text/plain": [
       "(6357883, 8)"
      ]
     },
     "execution_count": 64,
     "metadata": {},
     "output_type": "execute_result"
    }
   ],
   "source": [
    "listenings.shape"
   ]
  },
  {
   "cell_type": "code",
   "execution_count": 65,
   "metadata": {},
   "outputs": [],
   "source": [
    "listeningsWithTags = listeningsWithTid.merge(trackGenres)"
   ]
  },
  {
   "cell_type": "code",
   "execution_count": 66,
   "metadata": {},
   "outputs": [
    {
     "data": {
      "text/html": [
       "<div>\n",
       "<style scoped>\n",
       "    .dataframe tbody tr th:only-of-type {\n",
       "        vertical-align: middle;\n",
       "    }\n",
       "\n",
       "    .dataframe tbody tr th {\n",
       "        vertical-align: top;\n",
       "    }\n",
       "\n",
       "    .dataframe thead th {\n",
       "        text-align: right;\n",
       "    }\n",
       "</style>\n",
       "<table border=\"1\" class=\"dataframe\">\n",
       "  <thead>\n",
       "    <tr style=\"text-align: right;\">\n",
       "      <th></th>\n",
       "      <th>userid</th>\n",
       "      <th>timestamp</th>\n",
       "      <th>artid</th>\n",
       "      <th>artname</th>\n",
       "      <th>traid</th>\n",
       "      <th>traname</th>\n",
       "      <th>album_id</th>\n",
       "      <th>album_date</th>\n",
       "      <th>tid</th>\n",
       "      <th>tag</th>\n",
       "      <th>val</th>\n",
       "      <th>rn</th>\n",
       "    </tr>\n",
       "  </thead>\n",
       "  <tbody>\n",
       "    <tr>\n",
       "      <th>0</th>\n",
       "      <td>user_000001</td>\n",
       "      <td>2009-04-28 13:25:52+00:00</td>\n",
       "      <td>463a94f1-2713-40b1-9c88-dcc9c0170cae</td>\n",
       "      <td>Minus 8</td>\n",
       "      <td>f78c95a8-9256-4757-9a9f-213df5c6854e</td>\n",
       "      <td>Cold Fusion</td>\n",
       "      <td>1fe4b6e8-3d91-4478-bb96-c37f012ab53c</td>\n",
       "      <td>2000-08-29</td>\n",
       "      <td>TRYCCBQ12903CBBBCB</td>\n",
       "      <td>electronic</td>\n",
       "      <td>5.0</td>\n",
       "      <td>1</td>\n",
       "    </tr>\n",
       "    <tr>\n",
       "      <th>1</th>\n",
       "      <td>user_000001</td>\n",
       "      <td>2009-04-26 18:44:16+00:00</td>\n",
       "      <td>463a94f1-2713-40b1-9c88-dcc9c0170cae</td>\n",
       "      <td>Minus 8</td>\n",
       "      <td>f78c95a8-9256-4757-9a9f-213df5c6854e</td>\n",
       "      <td>Cold Fusion</td>\n",
       "      <td>1fe4b6e8-3d91-4478-bb96-c37f012ab53c</td>\n",
       "      <td>2000-08-29</td>\n",
       "      <td>TRYCCBQ12903CBBBCB</td>\n",
       "      <td>electronic</td>\n",
       "      <td>5.0</td>\n",
       "      <td>1</td>\n",
       "    </tr>\n",
       "    <tr>\n",
       "      <th>2</th>\n",
       "      <td>user_000001</td>\n",
       "      <td>2009-04-26 17:14:17+00:00</td>\n",
       "      <td>463a94f1-2713-40b1-9c88-dcc9c0170cae</td>\n",
       "      <td>Minus 8</td>\n",
       "      <td>f78c95a8-9256-4757-9a9f-213df5c6854e</td>\n",
       "      <td>Cold Fusion</td>\n",
       "      <td>1fe4b6e8-3d91-4478-bb96-c37f012ab53c</td>\n",
       "      <td>2000-08-29</td>\n",
       "      <td>TRYCCBQ12903CBBBCB</td>\n",
       "      <td>electronic</td>\n",
       "      <td>5.0</td>\n",
       "      <td>1</td>\n",
       "    </tr>\n",
       "    <tr>\n",
       "      <th>3</th>\n",
       "      <td>user_000001</td>\n",
       "      <td>2009-04-26 15:51:02+00:00</td>\n",
       "      <td>463a94f1-2713-40b1-9c88-dcc9c0170cae</td>\n",
       "      <td>Minus 8</td>\n",
       "      <td>f78c95a8-9256-4757-9a9f-213df5c6854e</td>\n",
       "      <td>Cold Fusion</td>\n",
       "      <td>1fe4b6e8-3d91-4478-bb96-c37f012ab53c</td>\n",
       "      <td>2000-08-29</td>\n",
       "      <td>TRYCCBQ12903CBBBCB</td>\n",
       "      <td>electronic</td>\n",
       "      <td>5.0</td>\n",
       "      <td>1</td>\n",
       "    </tr>\n",
       "    <tr>\n",
       "      <th>4</th>\n",
       "      <td>user_000001</td>\n",
       "      <td>2009-04-11 16:00:12+00:00</td>\n",
       "      <td>463a94f1-2713-40b1-9c88-dcc9c0170cae</td>\n",
       "      <td>Minus 8</td>\n",
       "      <td>f78c95a8-9256-4757-9a9f-213df5c6854e</td>\n",
       "      <td>Cold Fusion</td>\n",
       "      <td>1fe4b6e8-3d91-4478-bb96-c37f012ab53c</td>\n",
       "      <td>2000-08-29</td>\n",
       "      <td>TRYCCBQ12903CBBBCB</td>\n",
       "      <td>electronic</td>\n",
       "      <td>5.0</td>\n",
       "      <td>1</td>\n",
       "    </tr>\n",
       "  </tbody>\n",
       "</table>\n",
       "</div>"
      ],
      "text/plain": [
       "        userid                 timestamp  \\\n",
       "0  user_000001 2009-04-28 13:25:52+00:00   \n",
       "1  user_000001 2009-04-26 18:44:16+00:00   \n",
       "2  user_000001 2009-04-26 17:14:17+00:00   \n",
       "3  user_000001 2009-04-26 15:51:02+00:00   \n",
       "4  user_000001 2009-04-11 16:00:12+00:00   \n",
       "\n",
       "                                  artid  artname  \\\n",
       "0  463a94f1-2713-40b1-9c88-dcc9c0170cae  Minus 8   \n",
       "1  463a94f1-2713-40b1-9c88-dcc9c0170cae  Minus 8   \n",
       "2  463a94f1-2713-40b1-9c88-dcc9c0170cae  Minus 8   \n",
       "3  463a94f1-2713-40b1-9c88-dcc9c0170cae  Minus 8   \n",
       "4  463a94f1-2713-40b1-9c88-dcc9c0170cae  Minus 8   \n",
       "\n",
       "                                  traid      traname  \\\n",
       "0  f78c95a8-9256-4757-9a9f-213df5c6854e  Cold Fusion   \n",
       "1  f78c95a8-9256-4757-9a9f-213df5c6854e  Cold Fusion   \n",
       "2  f78c95a8-9256-4757-9a9f-213df5c6854e  Cold Fusion   \n",
       "3  f78c95a8-9256-4757-9a9f-213df5c6854e  Cold Fusion   \n",
       "4  f78c95a8-9256-4757-9a9f-213df5c6854e  Cold Fusion   \n",
       "\n",
       "                               album_id album_date                 tid  \\\n",
       "0  1fe4b6e8-3d91-4478-bb96-c37f012ab53c 2000-08-29  TRYCCBQ12903CBBBCB   \n",
       "1  1fe4b6e8-3d91-4478-bb96-c37f012ab53c 2000-08-29  TRYCCBQ12903CBBBCB   \n",
       "2  1fe4b6e8-3d91-4478-bb96-c37f012ab53c 2000-08-29  TRYCCBQ12903CBBBCB   \n",
       "3  1fe4b6e8-3d91-4478-bb96-c37f012ab53c 2000-08-29  TRYCCBQ12903CBBBCB   \n",
       "4  1fe4b6e8-3d91-4478-bb96-c37f012ab53c 2000-08-29  TRYCCBQ12903CBBBCB   \n",
       "\n",
       "          tag  val  rn  \n",
       "0  electronic  5.0   1  \n",
       "1  electronic  5.0   1  \n",
       "2  electronic  5.0   1  \n",
       "3  electronic  5.0   1  \n",
       "4  electronic  5.0   1  "
      ]
     },
     "execution_count": 66,
     "metadata": {},
     "output_type": "execute_result"
    }
   ],
   "source": [
    "listeningsWithTags.head()"
   ]
  },
  {
   "cell_type": "code",
   "execution_count": 67,
   "metadata": {},
   "outputs": [
    {
     "data": {
      "text/plain": [
       "(2426576, 12)"
      ]
     },
     "execution_count": 67,
     "metadata": {},
     "output_type": "execute_result"
    }
   ],
   "source": [
    "listeningsWithTags.shape"
   ]
  },
  {
   "cell_type": "code",
   "execution_count": 68,
   "metadata": {},
   "outputs": [
    {
     "data": {
      "text/plain": [
       "<AxesSubplot:title={'center':'Number of sample per music genre (top 5 genres only)'}, xlabel='tag'>"
      ]
     },
     "execution_count": 68,
     "metadata": {},
     "output_type": "execute_result"
    },
    {
     "data": {
      "image/png": "[encoded data removed]",
      "text/plain": [
       "<Figure size 1296x288 with 1 Axes>"
      ]
     },
     "metadata": {
      "needs_background": "light"
     },
     "output_type": "display_data"
    }
   ],
   "source": [
    "listeningsWithTags.groupby('tag').count()[['userid']].sort_values('userid',ascending=False)\\\n",
    "    .plot.bar(y='userid',figsize=(18,4),title='Number of sample per music genre (top 5 genres only)')"
   ]
  },
  {
   "cell_type": "markdown",
   "metadata": {},
   "source": [
    "## Release years of the songs (UNUSED - api collected releases instead)\n",
    "The dataset provides release years of part of the songs.\n",
    "\n",
    "Link: http://millionsongdataset.com/sites/default/files/AdditionalFiles/tracks_per_year.txt"
   ]
  },
  {
   "cell_type": "code",
   "execution_count": 69,
   "metadata": {},
   "outputs": [],
   "source": [
    "# songYears = pd.read_csv('tracks_per_year.txt',sep='<SEP>',header= None, engine='python',\n",
    "#                          names=['year','tid','artname','traname'])\n",
    "# songYears.head()"
   ]
  },
  {
   "cell_type": "code",
   "execution_count": 70,
   "metadata": {},
   "outputs": [],
   "source": [
    "# songYears.isnull().sum()"
   ]
  },
  {
   "cell_type": "code",
   "execution_count": 71,
   "metadata": {},
   "outputs": [],
   "source": [
    "# songYears.shape"
   ]
  },
  {
   "cell_type": "code",
   "execution_count": 72,
   "metadata": {},
   "outputs": [],
   "source": [
    "# # in this case we would get the same join results with using artname and traname on the orginal listenings df\n",
    "# listeningsWithYears = listeningsWithTid.drop(['artname','traname'],axis=1).merge(songYears,on=['tid'])\n",
    "# listeningsWithYears.head()"
   ]
  },
  {
   "cell_type": "code",
   "execution_count": 73,
   "metadata": {},
   "outputs": [],
   "source": [
    "# We can see we unfortunately loose a bit part of the data:"
   ]
  },
  {
   "cell_type": "code",
   "execution_count": 74,
   "metadata": {},
   "outputs": [],
   "source": [
    "# listenings.shape"
   ]
  },
  {
   "cell_type": "code",
   "execution_count": 75,
   "metadata": {},
   "outputs": [],
   "source": [
    "# listeningsWithYears.shape"
   ]
  },
  {
   "cell_type": "markdown",
   "metadata": {},
   "source": [
    "# Store the preprocessed data in csv files"
   ]
  },
  {
   "cell_type": "code",
   "execution_count": 76,
   "metadata": {},
   "outputs": [],
   "source": [
    "# drop ids which we will not use later\n",
    "listenings.drop(['artid','traid'],axis=1).to_csv('preprocessed_data/listenings.csv',index=False)"
   ]
  },
  {
   "cell_type": "code",
   "execution_count": 77,
   "metadata": {},
   "outputs": [],
   "source": [
    "# users are a perfect join so we can use the csv even if we don't need the user info\n",
    "listenings.merge(users).drop(['artid','traid','registered','age'],axis=1).to_csv('preprocessed_data/listenings_with_years_and_users.csv',index=False)"
   ]
  },
  {
   "cell_type": "code",
   "execution_count": 78,
   "metadata": {},
   "outputs": [
    {
     "data": {
      "text/html": [
       "<div>\n",
       "<style scoped>\n",
       "    .dataframe tbody tr th:only-of-type {\n",
       "        vertical-align: middle;\n",
       "    }\n",
       "\n",
       "    .dataframe tbody tr th {\n",
       "        vertical-align: top;\n",
       "    }\n",
       "\n",
       "    .dataframe thead th {\n",
       "        text-align: right;\n",
       "    }\n",
       "</style>\n",
       "<table border=\"1\" class=\"dataframe\">\n",
       "  <thead>\n",
       "    <tr style=\"text-align: right;\">\n",
       "      <th></th>\n",
       "      <th>userid</th>\n",
       "      <th>timestamp</th>\n",
       "      <th>artname</th>\n",
       "      <th>traname</th>\n",
       "      <th>album_id</th>\n",
       "      <th>album_date</th>\n",
       "      <th>tid</th>\n",
       "      <th>tag</th>\n",
       "    </tr>\n",
       "  </thead>\n",
       "  <tbody>\n",
       "    <tr>\n",
       "      <th>0</th>\n",
       "      <td>user_000001</td>\n",
       "      <td>2009-04-28 13:25:52+00:00</td>\n",
       "      <td>Minus 8</td>\n",
       "      <td>Cold Fusion</td>\n",
       "      <td>1fe4b6e8-3d91-4478-bb96-c37f012ab53c</td>\n",
       "      <td>2000-08-29</td>\n",
       "      <td>TRYCCBQ12903CBBBCB</td>\n",
       "      <td>electronic</td>\n",
       "    </tr>\n",
       "    <tr>\n",
       "      <th>1</th>\n",
       "      <td>user_000001</td>\n",
       "      <td>2009-04-26 18:44:16+00:00</td>\n",
       "      <td>Minus 8</td>\n",
       "      <td>Cold Fusion</td>\n",
       "      <td>1fe4b6e8-3d91-4478-bb96-c37f012ab53c</td>\n",
       "      <td>2000-08-29</td>\n",
       "      <td>TRYCCBQ12903CBBBCB</td>\n",
       "      <td>electronic</td>\n",
       "    </tr>\n",
       "    <tr>\n",
       "      <th>2</th>\n",
       "      <td>user_000001</td>\n",
       "      <td>2009-04-26 17:14:17+00:00</td>\n",
       "      <td>Minus 8</td>\n",
       "      <td>Cold Fusion</td>\n",
       "      <td>1fe4b6e8-3d91-4478-bb96-c37f012ab53c</td>\n",
       "      <td>2000-08-29</td>\n",
       "      <td>TRYCCBQ12903CBBBCB</td>\n",
       "      <td>electronic</td>\n",
       "    </tr>\n",
       "    <tr>\n",
       "      <th>3</th>\n",
       "      <td>user_000001</td>\n",
       "      <td>2009-04-26 15:51:02+00:00</td>\n",
       "      <td>Minus 8</td>\n",
       "      <td>Cold Fusion</td>\n",
       "      <td>1fe4b6e8-3d91-4478-bb96-c37f012ab53c</td>\n",
       "      <td>2000-08-29</td>\n",
       "      <td>TRYCCBQ12903CBBBCB</td>\n",
       "      <td>electronic</td>\n",
       "    </tr>\n",
       "    <tr>\n",
       "      <th>4</th>\n",
       "      <td>user_000001</td>\n",
       "      <td>2009-04-11 16:00:12+00:00</td>\n",
       "      <td>Minus 8</td>\n",
       "      <td>Cold Fusion</td>\n",
       "      <td>1fe4b6e8-3d91-4478-bb96-c37f012ab53c</td>\n",
       "      <td>2000-08-29</td>\n",
       "      <td>TRYCCBQ12903CBBBCB</td>\n",
       "      <td>electronic</td>\n",
       "    </tr>\n",
       "  </tbody>\n",
       "</table>\n",
       "</div>"
      ],
      "text/plain": [
       "        userid                 timestamp  artname      traname  \\\n",
       "0  user_000001 2009-04-28 13:25:52+00:00  Minus 8  Cold Fusion   \n",
       "1  user_000001 2009-04-26 18:44:16+00:00  Minus 8  Cold Fusion   \n",
       "2  user_000001 2009-04-26 17:14:17+00:00  Minus 8  Cold Fusion   \n",
       "3  user_000001 2009-04-26 15:51:02+00:00  Minus 8  Cold Fusion   \n",
       "4  user_000001 2009-04-11 16:00:12+00:00  Minus 8  Cold Fusion   \n",
       "\n",
       "                               album_id album_date                 tid  \\\n",
       "0  1fe4b6e8-3d91-4478-bb96-c37f012ab53c 2000-08-29  TRYCCBQ12903CBBBCB   \n",
       "1  1fe4b6e8-3d91-4478-bb96-c37f012ab53c 2000-08-29  TRYCCBQ12903CBBBCB   \n",
       "2  1fe4b6e8-3d91-4478-bb96-c37f012ab53c 2000-08-29  TRYCCBQ12903CBBBCB   \n",
       "3  1fe4b6e8-3d91-4478-bb96-c37f012ab53c 2000-08-29  TRYCCBQ12903CBBBCB   \n",
       "4  1fe4b6e8-3d91-4478-bb96-c37f012ab53c 2000-08-29  TRYCCBQ12903CBBBCB   \n",
       "\n",
       "          tag  \n",
       "0  electronic  \n",
       "1  electronic  \n",
       "2  electronic  \n",
       "3  electronic  \n",
       "4  electronic  "
      ]
     },
     "execution_count": 78,
     "metadata": {},
     "output_type": "execute_result"
    }
   ],
   "source": [
    "# users are a perfect join\n",
    "listeningsWithTags = listeningsWithTags.drop(['artid','traid','val','rn'],axis=1)\n",
    "listeningsWithTags.head()"
   ]
  },
  {
   "cell_type": "markdown",
   "metadata": {},
   "source": [
    "We loose some data in the join:"
   ]
  },
  {
   "cell_type": "code",
   "execution_count": 79,
   "metadata": {},
   "outputs": [
    {
     "data": {
      "text/plain": [
       "(2426576, 8)"
      ]
     },
     "execution_count": 79,
     "metadata": {},
     "output_type": "execute_result"
    }
   ],
   "source": [
    "listeningsWithTags.shape"
   ]
  },
  {
   "cell_type": "code",
   "execution_count": 80,
   "metadata": {},
   "outputs": [],
   "source": [
    "listeningsWithTags.to_csv('preprocessed_data/listenings_with_years_and_tags.csv',index=False)"
   ]
  },
  {
   "cell_type": "code",
   "execution_count": null,
   "metadata": {},
   "outputs": [],
   "source": []
  }
 ],
 "metadata": {
  "kernelspec": {
   "display_name": "Python 3",
   "language": "python",
   "name": "python3"
  },
  "language_info": {
   "codemirror_mode": {
    "name": "ipython",
    "version": 3
   },
   "file_extension": ".py",
   "mimetype": "text/x-python",
   "name": "python",
   "nbconvert_exporter": "python",
   "pygments_lexer": "ipython3",
   "version": "3.8.5"
  }
 },
 "nbformat": 4,
 "nbformat_minor": 4
}
