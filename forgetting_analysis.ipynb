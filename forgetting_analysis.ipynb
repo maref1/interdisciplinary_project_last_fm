{
 "cells": [
  {
   "cell_type": "code",
   "execution_count": 11,
   "metadata": {},
   "outputs": [],
   "source": [
    "import pandas as pd\n",
    "import networkx as nx\n",
    "from networkx.algorithms.bipartite.basic import density\n",
    "import matplotlib.pyplot as plt\n",
    "import matplotlib\n",
    "from tqdm import tqdm\n",
    "import random\n",
    "import seaborn as sns\n",
    "\n",
    "from random import randrange\n",
    "from datetime import timedelta\n",
    "from datetime import datetime\n",
    "import numpy as np"
   ]
  },
  {
   "cell_type": "code",
   "execution_count": 2,
   "metadata": {},
   "outputs": [
    {
     "data": {
      "text/html": [
       "<div>\n",
       "<style scoped>\n",
       "    .dataframe tbody tr th:only-of-type {\n",
       "        vertical-align: middle;\n",
       "    }\n",
       "\n",
       "    .dataframe tbody tr th {\n",
       "        vertical-align: top;\n",
       "    }\n",
       "\n",
       "    .dataframe thead th {\n",
       "        text-align: right;\n",
       "    }\n",
       "</style>\n",
       "<table border=\"1\" class=\"dataframe\">\n",
       "  <thead>\n",
       "    <tr style=\"text-align: right;\">\n",
       "      <th></th>\n",
       "      <th>userid</th>\n",
       "      <th>timestamp</th>\n",
       "      <th>artname</th>\n",
       "      <th>traname</th>\n",
       "      <th>album_id</th>\n",
       "      <th>album_date</th>\n",
       "      <th>gender</th>\n",
       "      <th>country</th>\n",
       "      <th>art_tra_name</th>\n",
       "    </tr>\n",
       "    <tr>\n",
       "      <th>timestamp</th>\n",
       "      <th></th>\n",
       "      <th></th>\n",
       "      <th></th>\n",
       "      <th></th>\n",
       "      <th></th>\n",
       "      <th></th>\n",
       "      <th></th>\n",
       "      <th></th>\n",
       "      <th></th>\n",
       "    </tr>\n",
       "  </thead>\n",
       "  <tbody>\n",
       "    <tr>\n",
       "      <th>2005-02-14 11:33:33</th>\n",
       "      <td>user_000745</td>\n",
       "      <td>2005-02-14 11:33:33</td>\n",
       "      <td>Dark Tranquillity</td>\n",
       "      <td>Am I 1?</td>\n",
       "      <td>6e4c7e0b-bb52-4376-a6a1-a7d55a836f38</td>\n",
       "      <td>2005-01-19</td>\n",
       "      <td>m</td>\n",
       "      <td>NaN</td>\n",
       "      <td>Dark Tranquillity@Am I 1?</td>\n",
       "    </tr>\n",
       "    <tr>\n",
       "      <th>2005-02-14 11:37:23</th>\n",
       "      <td>user_000745</td>\n",
       "      <td>2005-02-14 11:37:23</td>\n",
       "      <td>Dark Tranquillity</td>\n",
       "      <td>Dry Run</td>\n",
       "      <td>6e4c7e0b-bb52-4376-a6a1-a7d55a836f38</td>\n",
       "      <td>2005-01-19</td>\n",
       "      <td>m</td>\n",
       "      <td>NaN</td>\n",
       "      <td>Dark Tranquillity@Dry Run</td>\n",
       "    </tr>\n",
       "    <tr>\n",
       "      <th>2005-02-14 11:41:33</th>\n",
       "      <td>user_000745</td>\n",
       "      <td>2005-02-14 11:41:33</td>\n",
       "      <td>Dark Tranquillity</td>\n",
       "      <td>Lost To Apathy</td>\n",
       "      <td>6e4c7e0b-bb52-4376-a6a1-a7d55a836f38</td>\n",
       "      <td>2005-01-19</td>\n",
       "      <td>m</td>\n",
       "      <td>NaN</td>\n",
       "      <td>Dark Tranquillity@Lost To Apathy</td>\n",
       "    </tr>\n",
       "    <tr>\n",
       "      <th>2005-02-14 11:45:43</th>\n",
       "      <td>user_000745</td>\n",
       "      <td>2005-02-14 11:45:43</td>\n",
       "      <td>Dark Tranquillity</td>\n",
       "      <td>Mind Matters</td>\n",
       "      <td>6e4c7e0b-bb52-4376-a6a1-a7d55a836f38</td>\n",
       "      <td>2005-01-19</td>\n",
       "      <td>m</td>\n",
       "      <td>NaN</td>\n",
       "      <td>Dark Tranquillity@Mind Matters</td>\n",
       "    </tr>\n",
       "    <tr>\n",
       "      <th>2005-02-14 11:50:43</th>\n",
       "      <td>user_000745</td>\n",
       "      <td>2005-02-14 11:50:43</td>\n",
       "      <td>Dark Tranquillity</td>\n",
       "      <td>My Negation</td>\n",
       "      <td>6e4c7e0b-bb52-4376-a6a1-a7d55a836f38</td>\n",
       "      <td>2005-01-19</td>\n",
       "      <td>m</td>\n",
       "      <td>NaN</td>\n",
       "      <td>Dark Tranquillity@My Negation</td>\n",
       "    </tr>\n",
       "  </tbody>\n",
       "</table>\n",
       "</div>"
      ],
      "text/plain": [
       "                          userid           timestamp            artname  \\\n",
       "timestamp                                                                 \n",
       "2005-02-14 11:33:33  user_000745 2005-02-14 11:33:33  Dark Tranquillity   \n",
       "2005-02-14 11:37:23  user_000745 2005-02-14 11:37:23  Dark Tranquillity   \n",
       "2005-02-14 11:41:33  user_000745 2005-02-14 11:41:33  Dark Tranquillity   \n",
       "2005-02-14 11:45:43  user_000745 2005-02-14 11:45:43  Dark Tranquillity   \n",
       "2005-02-14 11:50:43  user_000745 2005-02-14 11:50:43  Dark Tranquillity   \n",
       "\n",
       "                            traname                              album_id  \\\n",
       "timestamp                                                                   \n",
       "2005-02-14 11:33:33         Am I 1?  6e4c7e0b-bb52-4376-a6a1-a7d55a836f38   \n",
       "2005-02-14 11:37:23         Dry Run  6e4c7e0b-bb52-4376-a6a1-a7d55a836f38   \n",
       "2005-02-14 11:41:33  Lost To Apathy  6e4c7e0b-bb52-4376-a6a1-a7d55a836f38   \n",
       "2005-02-14 11:45:43    Mind Matters  6e4c7e0b-bb52-4376-a6a1-a7d55a836f38   \n",
       "2005-02-14 11:50:43     My Negation  6e4c7e0b-bb52-4376-a6a1-a7d55a836f38   \n",
       "\n",
       "                    album_date gender country  \\\n",
       "timestamp                                       \n",
       "2005-02-14 11:33:33 2005-01-19      m     NaN   \n",
       "2005-02-14 11:37:23 2005-01-19      m     NaN   \n",
       "2005-02-14 11:41:33 2005-01-19      m     NaN   \n",
       "2005-02-14 11:45:43 2005-01-19      m     NaN   \n",
       "2005-02-14 11:50:43 2005-01-19      m     NaN   \n",
       "\n",
       "                                         art_tra_name  \n",
       "timestamp                                              \n",
       "2005-02-14 11:33:33         Dark Tranquillity@Am I 1?  \n",
       "2005-02-14 11:37:23         Dark Tranquillity@Dry Run  \n",
       "2005-02-14 11:41:33  Dark Tranquillity@Lost To Apathy  \n",
       "2005-02-14 11:45:43    Dark Tranquillity@Mind Matters  \n",
       "2005-02-14 11:50:43     Dark Tranquillity@My Negation  "
      ]
     },
     "execution_count": 2,
     "metadata": {},
     "output_type": "execute_result"
    }
   ],
   "source": [
    "listenings = pd.read_csv('preprocessed_data/listenings_with_years_and_users.csv',parse_dates=['timestamp','album_date'])\n",
    "# no timezones needed\n",
    "listenings['timestamp'] = listenings['timestamp'].dt.tz_localize(None)\n",
    "listenings['album_date'] = listenings['album_date'].dt.tz_localize(None)\n",
    "\n",
    "# we only take a look at songs released in the year 2005 and later (when the dataset begins)\n",
    "listenings = listenings[listenings['album_date'].apply(lambda x: x.year)>=2005]\n",
    "listenings = listenings[listenings['album_date'].apply(lambda x: x.year)!=2010]\n",
    "\n",
    "# we create a unique identifier from artist and track name\n",
    "listenings['art_tra_name'] = listenings['artname'] + '@' + listenings['traname']\n",
    "\n",
    "# sort the listenings by time\n",
    "listenings.sort_values(by='timestamp',inplace=True)\n",
    "listenings.index=listenings['timestamp']\n",
    "listenings.head()"
   ]
  },
  {
   "cell_type": "code",
   "execution_count": 28,
   "metadata": {},
   "outputs": [
    {
     "data": {
      "text/plain": [
       "['The Knife@The Captain',\n",
       " 'The Knife@From Off To On',\n",
       " 'Tenacious D@Beelzeboss (The Final Showdown)',\n",
       " 'Hellogoodbye@Here (In Your Arms)',\n",
       " \"The Kooks@You Don'T Love Me\"]"
      ]
     },
     "execution_count": 28,
     "metadata": {},
     "output_type": "execute_result"
    }
   ],
   "source": [
    "top10Songs2005 = list(listenings[listenings['album_date'].apply(lambda x: x.year)==2006].groupby('art_tra_name').count().sort_values('userid',ascending=False)[:5].index)\n",
    "top10Songs2005"
   ]
  },
  {
   "cell_type": "code",
   "execution_count": 29,
   "metadata": {},
   "outputs": [],
   "source": [
    "aggregatedTop10 = listenings[listenings['art_tra_name'].isin(top10Songs2005)].groupby([pd.Grouper(freq=\"M\"), \"art_tra_name\"]).count()[['userid']].reset_index()"
   ]
  },
  {
   "cell_type": "code",
   "execution_count": 30,
   "metadata": {},
   "outputs": [
    {
     "data": {
      "image/png": "[encoded data removed]",
      "text/plain": [
       "<Figure size 1440x432 with 1 Axes>"
      ]
     },
     "metadata": {
      "needs_background": "light"
     },
     "output_type": "display_data"
    }
   ],
   "source": [
    "fig, ax= plt.subplots(figsize=(20,6))\n",
    "\n",
    "colors = sns.color_palette(\"coolwarm\", aggregatedTop10.art_tra_name.nunique())\n",
    "ax.set_prop_cycle('color', colors)\n",
    "\n",
    "for idx, gp in aggregatedTop10.groupby('art_tra_name'):\n",
    "    gp.plot(x='timestamp', y='userid', ax=ax, legend=False)\n",
    "plt.yscale('log', nonpositive='clip')\n",
    "plt.title('Top 5 songs from 2006 - number of listens over time')\n",
    "plt.show()"
   ]
  },
  {
   "cell_type": "code",
   "execution_count": 3,
   "metadata": {},
   "outputs": [],
   "source": [
    "listenings.rename({'album_date':'release_date'},axis=1,inplace=True)"
   ]
  },
  {
   "cell_type": "code",
   "execution_count": 5,
   "metadata": {},
   "outputs": [
    {
     "data": {
      "text/html": [
       "<div>\n",
       "<style scoped>\n",
       "    .dataframe tbody tr th:only-of-type {\n",
       "        vertical-align: middle;\n",
       "    }\n",
       "\n",
       "    .dataframe tbody tr th {\n",
       "        vertical-align: top;\n",
       "    }\n",
       "\n",
       "    .dataframe thead th {\n",
       "        text-align: right;\n",
       "    }\n",
       "</style>\n",
       "<table border=\"1\" class=\"dataframe\">\n",
       "  <thead>\n",
       "    <tr style=\"text-align: right;\">\n",
       "      <th></th>\n",
       "      <th>userid</th>\n",
       "      <th>timestamp</th>\n",
       "      <th>artname</th>\n",
       "      <th>traname</th>\n",
       "      <th>album_id</th>\n",
       "      <th>release_date</th>\n",
       "      <th>gender</th>\n",
       "      <th>country</th>\n",
       "      <th>art_tra_name</th>\n",
       "    </tr>\n",
       "    <tr>\n",
       "      <th>timestamp</th>\n",
       "      <th></th>\n",
       "      <th></th>\n",
       "      <th></th>\n",
       "      <th></th>\n",
       "      <th></th>\n",
       "      <th></th>\n",
       "      <th></th>\n",
       "      <th></th>\n",
       "      <th></th>\n",
       "    </tr>\n",
       "  </thead>\n",
       "  <tbody>\n",
       "    <tr>\n",
       "      <th>2005-02-14 11:33:33</th>\n",
       "      <td>user_000745</td>\n",
       "      <td>2005-02-14 11:33:33</td>\n",
       "      <td>Dark Tranquillity</td>\n",
       "      <td>Am I 1?</td>\n",
       "      <td>6e4c7e0b-bb52-4376-a6a1-a7d55a836f38</td>\n",
       "      <td>2005-01-19</td>\n",
       "      <td>m</td>\n",
       "      <td>NaN</td>\n",
       "      <td>Dark Tranquillity@Am I 1?</td>\n",
       "    </tr>\n",
       "    <tr>\n",
       "      <th>2005-02-14 11:37:23</th>\n",
       "      <td>user_000745</td>\n",
       "      <td>2005-02-14 11:37:23</td>\n",
       "      <td>Dark Tranquillity</td>\n",
       "      <td>Dry Run</td>\n",
       "      <td>6e4c7e0b-bb52-4376-a6a1-a7d55a836f38</td>\n",
       "      <td>2005-01-19</td>\n",
       "      <td>m</td>\n",
       "      <td>NaN</td>\n",
       "      <td>Dark Tranquillity@Dry Run</td>\n",
       "    </tr>\n",
       "    <tr>\n",
       "      <th>2005-02-14 11:41:33</th>\n",
       "      <td>user_000745</td>\n",
       "      <td>2005-02-14 11:41:33</td>\n",
       "      <td>Dark Tranquillity</td>\n",
       "      <td>Lost To Apathy</td>\n",
       "      <td>6e4c7e0b-bb52-4376-a6a1-a7d55a836f38</td>\n",
       "      <td>2005-01-19</td>\n",
       "      <td>m</td>\n",
       "      <td>NaN</td>\n",
       "      <td>Dark Tranquillity@Lost To Apathy</td>\n",
       "    </tr>\n",
       "    <tr>\n",
       "      <th>2005-02-14 11:45:43</th>\n",
       "      <td>user_000745</td>\n",
       "      <td>2005-02-14 11:45:43</td>\n",
       "      <td>Dark Tranquillity</td>\n",
       "      <td>Mind Matters</td>\n",
       "      <td>6e4c7e0b-bb52-4376-a6a1-a7d55a836f38</td>\n",
       "      <td>2005-01-19</td>\n",
       "      <td>m</td>\n",
       "      <td>NaN</td>\n",
       "      <td>Dark Tranquillity@Mind Matters</td>\n",
       "    </tr>\n",
       "    <tr>\n",
       "      <th>2005-02-14 11:50:43</th>\n",
       "      <td>user_000745</td>\n",
       "      <td>2005-02-14 11:50:43</td>\n",
       "      <td>Dark Tranquillity</td>\n",
       "      <td>My Negation</td>\n",
       "      <td>6e4c7e0b-bb52-4376-a6a1-a7d55a836f38</td>\n",
       "      <td>2005-01-19</td>\n",
       "      <td>m</td>\n",
       "      <td>NaN</td>\n",
       "      <td>Dark Tranquillity@My Negation</td>\n",
       "    </tr>\n",
       "  </tbody>\n",
       "</table>\n",
       "</div>"
      ],
      "text/plain": [
       "                          userid           timestamp            artname  \\\n",
       "timestamp                                                                 \n",
       "2005-02-14 11:33:33  user_000745 2005-02-14 11:33:33  Dark Tranquillity   \n",
       "2005-02-14 11:37:23  user_000745 2005-02-14 11:37:23  Dark Tranquillity   \n",
       "2005-02-14 11:41:33  user_000745 2005-02-14 11:41:33  Dark Tranquillity   \n",
       "2005-02-14 11:45:43  user_000745 2005-02-14 11:45:43  Dark Tranquillity   \n",
       "2005-02-14 11:50:43  user_000745 2005-02-14 11:50:43  Dark Tranquillity   \n",
       "\n",
       "                            traname                              album_id  \\\n",
       "timestamp                                                                   \n",
       "2005-02-14 11:33:33         Am I 1?  6e4c7e0b-bb52-4376-a6a1-a7d55a836f38   \n",
       "2005-02-14 11:37:23         Dry Run  6e4c7e0b-bb52-4376-a6a1-a7d55a836f38   \n",
       "2005-02-14 11:41:33  Lost To Apathy  6e4c7e0b-bb52-4376-a6a1-a7d55a836f38   \n",
       "2005-02-14 11:45:43    Mind Matters  6e4c7e0b-bb52-4376-a6a1-a7d55a836f38   \n",
       "2005-02-14 11:50:43     My Negation  6e4c7e0b-bb52-4376-a6a1-a7d55a836f38   \n",
       "\n",
       "                    release_date gender country  \\\n",
       "timestamp                                         \n",
       "2005-02-14 11:33:33   2005-01-19      m     NaN   \n",
       "2005-02-14 11:37:23   2005-01-19      m     NaN   \n",
       "2005-02-14 11:41:33   2005-01-19      m     NaN   \n",
       "2005-02-14 11:45:43   2005-01-19      m     NaN   \n",
       "2005-02-14 11:50:43   2005-01-19      m     NaN   \n",
       "\n",
       "                                         art_tra_name  \n",
       "timestamp                                              \n",
       "2005-02-14 11:33:33         Dark Tranquillity@Am I 1?  \n",
       "2005-02-14 11:37:23         Dark Tranquillity@Dry Run  \n",
       "2005-02-14 11:41:33  Dark Tranquillity@Lost To Apathy  \n",
       "2005-02-14 11:45:43    Dark Tranquillity@Mind Matters  \n",
       "2005-02-14 11:50:43     Dark Tranquillity@My Negation  "
      ]
     },
     "execution_count": 5,
     "metadata": {},
     "output_type": "execute_result"
    }
   ],
   "source": [
    "listenings.head()"
   ]
  },
  {
   "cell_type": "markdown",
   "metadata": {},
   "source": [
    "We create a custom function evaluating the strength of the forgetting phenomenon in the dataset similar to the custom function for the preferential attachment. For each of the listenings we calculate the random probability of the song being listened to (1/nr_of_songs_that_appeared_so_far) and the probabiliy proportional to the songs age (song_age/total_age_of_all_songs). In the end we compare the sums of the different probability types- the higher the result the stronger the forgetting is in the dataset."
   ]
  },
  {
   "cell_type": "code",
   "execution_count": 4,
   "metadata": {},
   "outputs": [],
   "source": [
    "def forgetting_intensity(listenings,attrName='art_tra_name',attrFilter=None,songWise=False):\n",
    "\n",
    "    songsAppearedSet = set() #  song_name -> song_release_Date\n",
    "    totalSongAge = 0 \n",
    "    randomProbList = []\n",
    "    ageWeightedProbList = []\n",
    "    songDict = {}\n",
    "\n",
    "    listenedTimeBefore = listenings['timestamp'].iloc[0]\n",
    "    for name,attr,listenedTime, releaseTime in tqdm(zip(listenings['art_tra_name'],listenings[attrName], listenings['timestamp'], listenings['release_date']),total=len(listenings),\n",
    "                                                     position=0, leave=True):\n",
    "\n",
    "        songAge = (listenedTime - releaseTime).total_seconds()\n",
    "        # ignore if song is song age is negative\n",
    "        if(songAge<0):\n",
    "            continue\n",
    "\n",
    "        # time elapsed from the last litening \n",
    "        timeElapsed = (listenedTime - listenedTimeBefore).total_seconds()\n",
    "        listenedTimeBefore = listenedTime\n",
    "\n",
    "        # all the songs got older\n",
    "        totalSongAge += timeElapsed*len(songsAppearedSet)\n",
    "        \n",
    "        # if this was the first time for a song we add its initial age\n",
    "        if(name not in songsAppearedSet):\n",
    "            totalSongAge += songAge\n",
    "        \n",
    "        # update set of songs that appeared so far\n",
    "        songsAppearedSet.add(name)\n",
    "\n",
    "        # optional filter using datasets user attributes\n",
    "        if(attrName=='art_tra_name' or attr==attrFilter):\n",
    "            # completely random probability\n",
    "            randomProb = 1/len(songsAppearedSet)\n",
    "            # probability proportional to the song age normalized by the total age of all songs listened to so far\n",
    "            ageWeightedProb = songAge / totalSongAge\n",
    "\n",
    "            randomProbList.append(randomProb)\n",
    "            ageWeightedProbList.append(ageWeightedProb)\n",
    "            \n",
    "            if(songWise):\n",
    "                if(name in songDict):\n",
    "                    songDict[name]['age'] += ageWeightedProb\n",
    "                    songDict[name]['rand'] += randomProb\n",
    "                else:\n",
    "                    songDict[name] = {}\n",
    "                    songDict[name]['age'] = 0\n",
    "                    songDict[name]['rand'] = 0\n",
    "    \n",
    "    if (songWise):\n",
    "        return songDict\n",
    "    else:\n",
    "        return sum(randomProbList)/sum(ageWeightedProbList)"
   ]
  },
  {
   "cell_type": "code",
   "execution_count": 9,
   "metadata": {},
   "outputs": [
    {
     "data": {
      "text/html": [
       "<div>\n",
       "<style scoped>\n",
       "    .dataframe tbody tr th:only-of-type {\n",
       "        vertical-align: middle;\n",
       "    }\n",
       "\n",
       "    .dataframe tbody tr th {\n",
       "        vertical-align: top;\n",
       "    }\n",
       "\n",
       "    .dataframe thead th {\n",
       "        text-align: right;\n",
       "    }\n",
       "</style>\n",
       "<table border=\"1\" class=\"dataframe\">\n",
       "  <thead>\n",
       "    <tr style=\"text-align: right;\">\n",
       "      <th></th>\n",
       "      <th>userid</th>\n",
       "      <th>timestamp</th>\n",
       "      <th>artname</th>\n",
       "      <th>traname</th>\n",
       "      <th>album_id</th>\n",
       "      <th>release_date</th>\n",
       "      <th>gender</th>\n",
       "      <th>country</th>\n",
       "      <th>art_tra_name</th>\n",
       "    </tr>\n",
       "    <tr>\n",
       "      <th>timestamp</th>\n",
       "      <th></th>\n",
       "      <th></th>\n",
       "      <th></th>\n",
       "      <th></th>\n",
       "      <th></th>\n",
       "      <th></th>\n",
       "      <th></th>\n",
       "      <th></th>\n",
       "      <th></th>\n",
       "    </tr>\n",
       "  </thead>\n",
       "  <tbody>\n",
       "    <tr>\n",
       "      <th>2005-02-14 11:33:33</th>\n",
       "      <td>user_000745</td>\n",
       "      <td>2005-02-14 11:33:33</td>\n",
       "      <td>Dark Tranquillity</td>\n",
       "      <td>Am I 1?</td>\n",
       "      <td>6e4c7e0b-bb52-4376-a6a1-a7d55a836f38</td>\n",
       "      <td>2005-01-19</td>\n",
       "      <td>m</td>\n",
       "      <td>NaN</td>\n",
       "      <td>Dark Tranquillity@Am I 1?</td>\n",
       "    </tr>\n",
       "    <tr>\n",
       "      <th>2005-02-14 11:37:23</th>\n",
       "      <td>user_000745</td>\n",
       "      <td>2005-02-14 11:37:23</td>\n",
       "      <td>Dark Tranquillity</td>\n",
       "      <td>Dry Run</td>\n",
       "      <td>6e4c7e0b-bb52-4376-a6a1-a7d55a836f38</td>\n",
       "      <td>2005-01-19</td>\n",
       "      <td>m</td>\n",
       "      <td>NaN</td>\n",
       "      <td>Dark Tranquillity@Dry Run</td>\n",
       "    </tr>\n",
       "    <tr>\n",
       "      <th>2005-02-14 11:41:33</th>\n",
       "      <td>user_000745</td>\n",
       "      <td>2005-02-14 11:41:33</td>\n",
       "      <td>Dark Tranquillity</td>\n",
       "      <td>Lost To Apathy</td>\n",
       "      <td>6e4c7e0b-bb52-4376-a6a1-a7d55a836f38</td>\n",
       "      <td>2005-01-19</td>\n",
       "      <td>m</td>\n",
       "      <td>NaN</td>\n",
       "      <td>Dark Tranquillity@Lost To Apathy</td>\n",
       "    </tr>\n",
       "    <tr>\n",
       "      <th>2005-02-14 11:45:43</th>\n",
       "      <td>user_000745</td>\n",
       "      <td>2005-02-14 11:45:43</td>\n",
       "      <td>Dark Tranquillity</td>\n",
       "      <td>Mind Matters</td>\n",
       "      <td>6e4c7e0b-bb52-4376-a6a1-a7d55a836f38</td>\n",
       "      <td>2005-01-19</td>\n",
       "      <td>m</td>\n",
       "      <td>NaN</td>\n",
       "      <td>Dark Tranquillity@Mind Matters</td>\n",
       "    </tr>\n",
       "    <tr>\n",
       "      <th>2005-02-14 11:50:43</th>\n",
       "      <td>user_000745</td>\n",
       "      <td>2005-02-14 11:50:43</td>\n",
       "      <td>Dark Tranquillity</td>\n",
       "      <td>My Negation</td>\n",
       "      <td>6e4c7e0b-bb52-4376-a6a1-a7d55a836f38</td>\n",
       "      <td>2005-01-19</td>\n",
       "      <td>m</td>\n",
       "      <td>NaN</td>\n",
       "      <td>Dark Tranquillity@My Negation</td>\n",
       "    </tr>\n",
       "  </tbody>\n",
       "</table>\n",
       "</div>"
      ],
      "text/plain": [
       "                          userid           timestamp            artname  \\\n",
       "timestamp                                                                 \n",
       "2005-02-14 11:33:33  user_000745 2005-02-14 11:33:33  Dark Tranquillity   \n",
       "2005-02-14 11:37:23  user_000745 2005-02-14 11:37:23  Dark Tranquillity   \n",
       "2005-02-14 11:41:33  user_000745 2005-02-14 11:41:33  Dark Tranquillity   \n",
       "2005-02-14 11:45:43  user_000745 2005-02-14 11:45:43  Dark Tranquillity   \n",
       "2005-02-14 11:50:43  user_000745 2005-02-14 11:50:43  Dark Tranquillity   \n",
       "\n",
       "                            traname                              album_id  \\\n",
       "timestamp                                                                   \n",
       "2005-02-14 11:33:33         Am I 1?  6e4c7e0b-bb52-4376-a6a1-a7d55a836f38   \n",
       "2005-02-14 11:37:23         Dry Run  6e4c7e0b-bb52-4376-a6a1-a7d55a836f38   \n",
       "2005-02-14 11:41:33  Lost To Apathy  6e4c7e0b-bb52-4376-a6a1-a7d55a836f38   \n",
       "2005-02-14 11:45:43    Mind Matters  6e4c7e0b-bb52-4376-a6a1-a7d55a836f38   \n",
       "2005-02-14 11:50:43     My Negation  6e4c7e0b-bb52-4376-a6a1-a7d55a836f38   \n",
       "\n",
       "                    release_date gender country  \\\n",
       "timestamp                                         \n",
       "2005-02-14 11:33:33   2005-01-19      m     NaN   \n",
       "2005-02-14 11:37:23   2005-01-19      m     NaN   \n",
       "2005-02-14 11:41:33   2005-01-19      m     NaN   \n",
       "2005-02-14 11:45:43   2005-01-19      m     NaN   \n",
       "2005-02-14 11:50:43   2005-01-19      m     NaN   \n",
       "\n",
       "                                         art_tra_name  \n",
       "timestamp                                              \n",
       "2005-02-14 11:33:33         Dark Tranquillity@Am I 1?  \n",
       "2005-02-14 11:37:23         Dark Tranquillity@Dry Run  \n",
       "2005-02-14 11:41:33  Dark Tranquillity@Lost To Apathy  \n",
       "2005-02-14 11:45:43    Dark Tranquillity@Mind Matters  \n",
       "2005-02-14 11:50:43     Dark Tranquillity@My Negation  "
      ]
     },
     "execution_count": 9,
     "metadata": {},
     "output_type": "execute_result"
    }
   ],
   "source": [
    "listenings.head()"
   ]
  },
  {
   "cell_type": "code",
   "execution_count": 10,
   "metadata": {},
   "outputs": [],
   "source": [
    "# utility funciton generates a randonm date between the specified range\n",
    "def random_date(start, end):\n",
    "    \"\"\"\n",
    "    This function will return a random datetime between two datetime \n",
    "    objects.\n",
    "    \"\"\"\n",
    "    delta = end - start\n",
    "    int_delta = (delta.days * 24 * 60 * 60) + delta.seconds\n",
    "    random_second = randrange(int_delta)\n",
    "    return start + timedelta(seconds=random_second)"
   ]
  },
  {
   "cell_type": "markdown",
   "metadata": {},
   "source": [
    "We test the function by generating random data of 1 million listeings of 1000 songs with corresponding listening timestamps and release dates."
   ]
  },
  {
   "cell_type": "code",
   "execution_count": 11,
   "metadata": {},
   "outputs": [
    {
     "data": {
      "text/html": [
       "<div>\n",
       "<style scoped>\n",
       "    .dataframe tbody tr th:only-of-type {\n",
       "        vertical-align: middle;\n",
       "    }\n",
       "\n",
       "    .dataframe tbody tr th {\n",
       "        vertical-align: top;\n",
       "    }\n",
       "\n",
       "    .dataframe thead th {\n",
       "        text-align: right;\n",
       "    }\n",
       "</style>\n",
       "<table border=\"1\" class=\"dataframe\">\n",
       "  <thead>\n",
       "    <tr style=\"text-align: right;\">\n",
       "      <th></th>\n",
       "      <th>art_tra_name</th>\n",
       "      <th>timestamp</th>\n",
       "      <th>release_date</th>\n",
       "    </tr>\n",
       "  </thead>\n",
       "  <tbody>\n",
       "    <tr>\n",
       "      <th>0</th>\n",
       "      <td>865</td>\n",
       "      <td>2005-01-01 00:01:17</td>\n",
       "      <td>2005-01-01 00:01:08</td>\n",
       "    </tr>\n",
       "    <tr>\n",
       "      <th>1</th>\n",
       "      <td>395</td>\n",
       "      <td>2005-01-01 00:03:46</td>\n",
       "      <td>2005-01-01 00:02:58</td>\n",
       "    </tr>\n",
       "    <tr>\n",
       "      <th>2</th>\n",
       "      <td>777</td>\n",
       "      <td>2005-01-01 00:04:38</td>\n",
       "      <td>2005-01-01 00:04:30</td>\n",
       "    </tr>\n",
       "    <tr>\n",
       "      <th>3</th>\n",
       "      <td>912</td>\n",
       "      <td>2005-01-01 00:11:10</td>\n",
       "      <td>2005-01-01 00:02:12</td>\n",
       "    </tr>\n",
       "    <tr>\n",
       "      <th>4</th>\n",
       "      <td>431</td>\n",
       "      <td>2005-01-01 00:11:16</td>\n",
       "      <td>2005-01-01 00:01:31</td>\n",
       "    </tr>\n",
       "  </tbody>\n",
       "</table>\n",
       "</div>"
      ],
      "text/plain": [
       "   art_tra_name           timestamp        release_date\n",
       "0           865 2005-01-01 00:01:17 2005-01-01 00:01:08\n",
       "1           395 2005-01-01 00:03:46 2005-01-01 00:02:58\n",
       "2           777 2005-01-01 00:04:38 2005-01-01 00:04:30\n",
       "3           912 2005-01-01 00:11:10 2005-01-01 00:02:12\n",
       "4           431 2005-01-01 00:11:16 2005-01-01 00:01:31"
      ]
     },
     "execution_count": 11,
     "metadata": {},
     "output_type": "execute_result"
    }
   ],
   "source": [
    "random.seed(0)\n",
    "N_DISTINCT_SONGS = 1000\n",
    "N_LISTENINGS = 1000000\n",
    "\n",
    "artTraNameTest = [random.randint(1,N_DISTINCT_SONGS) for x in range(N_LISTENINGS)]\n",
    "\n",
    "d1 = datetime.strptime('01/01/2005 00:01', '%m/%d/%Y %H:%M')\n",
    "d2 = datetime.strptime('12/31/2009 23:59', '%m/%d/%Y %H:%M')\n",
    "listeningTimesTest = sorted([random_date(d1, d2) for x in range(N_LISTENINGS)])\n",
    "\n",
    "releaseDateTestDict = {}\n",
    "releaseDatesTest = []\n",
    "\n",
    "for name,lisTime in zip(artTraNameTest,listeningTimesTest):\n",
    "    if(name in releaseDateTestDict):\n",
    "        releaseDatesTest.append(releaseDateTestDict[name])\n",
    "    else:\n",
    "        releaseDateTestDict[name] = random_date(d1, lisTime)\n",
    "        releaseDatesTest.append(releaseDateTestDict[name])\n",
    "\n",
    "testDf = pd.DataFrame()\n",
    "testDf['art_tra_name'] = artTraNameTest\n",
    "testDf['timestamp'] = listeningTimesTest\n",
    "testDf['release_date'] = releaseDatesTest\n",
    "\n",
    "testDf.head()"
   ]
  },
  {
   "cell_type": "code",
   "execution_count": 12,
   "metadata": {},
   "outputs": [
    {
     "name": "stderr",
     "output_type": "stream",
     "text": [
      "100%|██████████| 1000000/1000000 [00:21<00:00, 46598.66it/s]\n"
     ]
    },
    {
     "data": {
      "text/plain": [
       "1.002491175190483"
      ]
     },
     "execution_count": 12,
     "metadata": {},
     "output_type": "execute_result"
    }
   ],
   "source": [
    "# as expected - with random data where listenings are not related to the songs age we get a value near 1\n",
    "forgetting_intensity(testDf)"
   ]
  },
  {
   "cell_type": "code",
   "execution_count": 13,
   "metadata": {},
   "outputs": [
    {
     "name": "stderr",
     "output_type": "stream",
     "text": [
      "100%|██████████| 1726049/1726049 [00:37<00:00, 45777.12it/s]\n"
     ]
    },
    {
     "data": {
      "text/plain": [
       "1.1286469934817787"
      ]
     },
     "execution_count": 13,
     "metadata": {},
     "output_type": "execute_result"
    }
   ],
   "source": [
    "# with the actual data we see there is the forgetting phenomenon\n",
    "forgetting_intensity(listenings)"
   ]
  },
  {
   "cell_type": "markdown",
   "metadata": {},
   "source": [
    "# Comparing preferential attachment for subsets of the dataset based on the attributes"
   ]
  },
  {
   "cell_type": "markdown",
   "metadata": {},
   "source": [
    "## User's gender"
   ]
  },
  {
   "cell_type": "markdown",
   "metadata": {},
   "source": [
    "When we calculate the values for different genders in the data we can see we get a slightly bigger results for males."
   ]
  },
  {
   "cell_type": "code",
   "execution_count": 14,
   "metadata": {},
   "outputs": [
    {
     "name": "stderr",
     "output_type": "stream",
     "text": [
      "100%|██████████| 1726049/1726049 [00:37<00:00, 46395.76it/s]\n"
     ]
    },
    {
     "data": {
      "text/plain": [
       "1.1549931144768377"
      ]
     },
     "execution_count": 14,
     "metadata": {},
     "output_type": "execute_result"
    }
   ],
   "source": [
    "forgetting_intensity(listenings,'gender','m')"
   ]
  },
  {
   "cell_type": "code",
   "execution_count": 15,
   "metadata": {},
   "outputs": [
    {
     "name": "stderr",
     "output_type": "stream",
     "text": [
      "100%|██████████| 1726049/1726049 [00:37<00:00, 45568.81it/s]\n"
     ]
    },
    {
     "data": {
      "text/plain": [
       "1.0732118900642762"
      ]
     },
     "execution_count": 15,
     "metadata": {},
     "output_type": "execute_result"
    }
   ],
   "source": [
    "forgetting_intensity(listenings,'gender','f')"
   ]
  },
  {
   "cell_type": "markdown",
   "metadata": {},
   "source": [
    "## User's geographical area"
   ]
  },
  {
   "cell_type": "code",
   "execution_count": 16,
   "metadata": {},
   "outputs": [],
   "source": [
    "europeList = ['United Kingdom', 'Finland', 'Germany', 'Sweden', 'Canada', 'Switzerland',\n",
    "    'Norway', 'Poland', 'Netherlands', 'Belgium', 'Italy', 'Romania',\n",
    "       'Russian Federation', 'Spain',\n",
    "       'Ireland','Czech Republic','France', 'China',\n",
    "       'Austria', 'Slovakia', 'Malta',\n",
    "       'Latvia', 'Estonia', 'Lithuania',\n",
    "      'Iceland', 'Bulgaria',\n",
    "      'Portugal', 'Croatia',  'Serbia', 'Greece', 'Hungary',\n",
    "       'Bosnia and Herzegovina', 'Slovenia',\n",
    "       'Belarus',  'Macedonia']"
   ]
  },
  {
   "cell_type": "code",
   "execution_count": 17,
   "metadata": {},
   "outputs": [],
   "source": [
    "# we rename the European countries so that we have a bigger geographical group which we can compare to the United States\n",
    "listenings['country'] = listenings['country'].apply(lambda x: 'Europe' if x in europeList else x)"
   ]
  },
  {
   "cell_type": "markdown",
   "metadata": {},
   "source": [
    "There is almost no difference between the values for users from these two different geographical areas."
   ]
  },
  {
   "cell_type": "code",
   "execution_count": 18,
   "metadata": {},
   "outputs": [
    {
     "name": "stderr",
     "output_type": "stream",
     "text": [
      "100%|██████████| 1726049/1726049 [00:36<00:00, 47324.74it/s]\n"
     ]
    },
    {
     "data": {
      "text/plain": [
       "1.137491792023415"
      ]
     },
     "execution_count": 18,
     "metadata": {},
     "output_type": "execute_result"
    }
   ],
   "source": [
    "forgetting_intensity(listenings,'country','United States')"
   ]
  },
  {
   "cell_type": "code",
   "execution_count": 19,
   "metadata": {},
   "outputs": [
    {
     "name": "stderr",
     "output_type": "stream",
     "text": [
      "100%|██████████| 1726049/1726049 [00:38<00:00, 45201.70it/s]\n"
     ]
    },
    {
     "data": {
      "text/plain": [
       "1.1111523318967729"
      ]
     },
     "execution_count": 19,
     "metadata": {},
     "output_type": "execute_result"
    }
   ],
   "source": [
    "forgetting_intensity(listenings,'country','Europe')"
   ]
  },
  {
   "cell_type": "markdown",
   "metadata": {},
   "source": [
    "## Song genres"
   ]
  },
  {
   "cell_type": "code",
   "execution_count": 36,
   "metadata": {},
   "outputs": [
    {
     "data": {
      "text/html": [
       "<div>\n",
       "<style scoped>\n",
       "    .dataframe tbody tr th:only-of-type {\n",
       "        vertical-align: middle;\n",
       "    }\n",
       "\n",
       "    .dataframe tbody tr th {\n",
       "        vertical-align: top;\n",
       "    }\n",
       "\n",
       "    .dataframe thead th {\n",
       "        text-align: right;\n",
       "    }\n",
       "</style>\n",
       "<table border=\"1\" class=\"dataframe\">\n",
       "  <thead>\n",
       "    <tr style=\"text-align: right;\">\n",
       "      <th></th>\n",
       "      <th>userid</th>\n",
       "      <th>timestamp</th>\n",
       "      <th>artname</th>\n",
       "      <th>traname</th>\n",
       "      <th>album_id</th>\n",
       "      <th>album_date</th>\n",
       "      <th>tid</th>\n",
       "      <th>tag</th>\n",
       "      <th>art_tra_name</th>\n",
       "    </tr>\n",
       "  </thead>\n",
       "  <tbody>\n",
       "    <tr>\n",
       "      <th>509628</th>\n",
       "      <td>user_000678</td>\n",
       "      <td>2005-02-14 12:20:30</td>\n",
       "      <td>Franz Ferdinand</td>\n",
       "      <td>Michael</td>\n",
       "      <td>875df70e-ae87-430a-9a31-c89b139eac06</td>\n",
       "      <td>2005-01-25</td>\n",
       "      <td>TRPLKZM128F9317135</td>\n",
       "      <td>indie</td>\n",
       "      <td>Franz Ferdinand@Michael</td>\n",
       "    </tr>\n",
       "    <tr>\n",
       "      <th>508500</th>\n",
       "      <td>user_000678</td>\n",
       "      <td>2005-02-14 12:20:30</td>\n",
       "      <td>Franz Ferdinand</td>\n",
       "      <td>Michael</td>\n",
       "      <td>875df70e-ae87-430a-9a31-c89b139eac06</td>\n",
       "      <td>2005-01-25</td>\n",
       "      <td>TRCSLZJ128F4260352</td>\n",
       "      <td>indie</td>\n",
       "      <td>Franz Ferdinand@Michael</td>\n",
       "    </tr>\n",
       "    <tr>\n",
       "      <th>509627</th>\n",
       "      <td>user_000678</td>\n",
       "      <td>2005-02-14 12:59:24</td>\n",
       "      <td>Franz Ferdinand</td>\n",
       "      <td>Michael</td>\n",
       "      <td>875df70e-ae87-430a-9a31-c89b139eac06</td>\n",
       "      <td>2005-01-25</td>\n",
       "      <td>TRPLKZM128F9317135</td>\n",
       "      <td>indie</td>\n",
       "      <td>Franz Ferdinand@Michael</td>\n",
       "    </tr>\n",
       "    <tr>\n",
       "      <th>508499</th>\n",
       "      <td>user_000678</td>\n",
       "      <td>2005-02-14 12:59:24</td>\n",
       "      <td>Franz Ferdinand</td>\n",
       "      <td>Michael</td>\n",
       "      <td>875df70e-ae87-430a-9a31-c89b139eac06</td>\n",
       "      <td>2005-01-25</td>\n",
       "      <td>TRCSLZJ128F4260352</td>\n",
       "      <td>indie</td>\n",
       "      <td>Franz Ferdinand@Michael</td>\n",
       "    </tr>\n",
       "    <tr>\n",
       "      <th>509626</th>\n",
       "      <td>user_000678</td>\n",
       "      <td>2005-02-14 15:50:41</td>\n",
       "      <td>Franz Ferdinand</td>\n",
       "      <td>Michael</td>\n",
       "      <td>875df70e-ae87-430a-9a31-c89b139eac06</td>\n",
       "      <td>2005-01-25</td>\n",
       "      <td>TRPLKZM128F9317135</td>\n",
       "      <td>indie</td>\n",
       "      <td>Franz Ferdinand@Michael</td>\n",
       "    </tr>\n",
       "  </tbody>\n",
       "</table>\n",
       "</div>"
      ],
      "text/plain": [
       "             userid           timestamp          artname  traname  \\\n",
       "509628  user_000678 2005-02-14 12:20:30  Franz Ferdinand  Michael   \n",
       "508500  user_000678 2005-02-14 12:20:30  Franz Ferdinand  Michael   \n",
       "509627  user_000678 2005-02-14 12:59:24  Franz Ferdinand  Michael   \n",
       "508499  user_000678 2005-02-14 12:59:24  Franz Ferdinand  Michael   \n",
       "509626  user_000678 2005-02-14 15:50:41  Franz Ferdinand  Michael   \n",
       "\n",
       "                                    album_id album_date                 tid  \\\n",
       "509628  875df70e-ae87-430a-9a31-c89b139eac06 2005-01-25  TRPLKZM128F9317135   \n",
       "508500  875df70e-ae87-430a-9a31-c89b139eac06 2005-01-25  TRCSLZJ128F4260352   \n",
       "509627  875df70e-ae87-430a-9a31-c89b139eac06 2005-01-25  TRPLKZM128F9317135   \n",
       "508499  875df70e-ae87-430a-9a31-c89b139eac06 2005-01-25  TRCSLZJ128F4260352   \n",
       "509626  875df70e-ae87-430a-9a31-c89b139eac06 2005-01-25  TRPLKZM128F9317135   \n",
       "\n",
       "          tag             art_tra_name  \n",
       "509628  indie  Franz Ferdinand@Michael  \n",
       "508500  indie  Franz Ferdinand@Michael  \n",
       "509627  indie  Franz Ferdinand@Michael  \n",
       "508499  indie  Franz Ferdinand@Michael  \n",
       "509626  indie  Franz Ferdinand@Michael  "
      ]
     },
     "execution_count": 36,
     "metadata": {},
     "output_type": "execute_result"
    }
   ],
   "source": [
    "listeningsWithTags = pd.read_csv('preprocessed_data/listenings_with_years_and_tags.csv',parse_dates=['timestamp','album_date'])\n",
    "# no timezones needed\n",
    "listeningsWithTags['timestamp'] = listeningsWithTags['timestamp'].dt.tz_localize(None)\n",
    "listeningsWithTags['album_date'] = listeningsWithTags['album_date'].dt.tz_localize(None)\n",
    "\n",
    "# we only take a look at songs released in the year 2005 and later (when the dataset begins)\n",
    "listeningsWithTags = listeningsWithTags[listeningsWithTags['album_date'].apply(lambda x: x.year)>=2005]\n",
    "listeningsWithTags = listeningsWithTags[listeningsWithTags['album_date'].apply(lambda x: x.year)!=2010]\n",
    "\n",
    "\n",
    "# we create a unique identifier from artist and track name\n",
    "listeningsWithTags['art_tra_name'] = listeningsWithTags['artname'] + '@' + listeningsWithTags['traname']\n",
    "listeningsWithTags.sort_values(by='timestamp',inplace=True)\n",
    "listeningsWithTags.head()"
   ]
  },
  {
   "cell_type": "code",
   "execution_count": 37,
   "metadata": {},
   "outputs": [],
   "source": [
    "listeningsWithTags.rename({'album_date':'release_date'},axis=1,inplace=True)"
   ]
  },
  {
   "cell_type": "code",
   "execution_count": 38,
   "metadata": {},
   "outputs": [
    {
     "data": {
      "text/plain": [
       "array(['indie', 'alternative', 'rock', 'electronic', 'pop'], dtype=object)"
      ]
     },
     "execution_count": 38,
     "metadata": {},
     "output_type": "execute_result"
    }
   ],
   "source": [
    "listeningsWithTags['tag'].unique()"
   ]
  },
  {
   "cell_type": "code",
   "execution_count": 42,
   "metadata": {},
   "outputs": [
    {
     "name": "stderr",
     "output_type": "stream",
     "text": [
      "100%|██████████| 126646/126646 [00:02<00:00, 45785.05it/s]\n",
      "100%|██████████| 75453/75453 [00:01<00:00, 45413.39it/s]\n",
      "100%|██████████| 143205/143205 [00:03<00:00, 45745.34it/s]\n",
      "100%|██████████| 101299/101299 [00:02<00:00, 46974.84it/s]\n",
      "100%|██████████| 45667/45667 [00:01<00:00, 45005.52it/s]\n"
     ]
    }
   ],
   "source": [
    "intensities = []\n",
    "for tag in listeningsWithTags['tag'].unique():\n",
    "    intensities.append(forgetting_intensity(listeningsWithTags[listeningsWithTags['tag']==tag]))"
   ]
  },
  {
   "cell_type": "markdown",
   "metadata": {},
   "source": [
    "Looking at the results differentiated by songs genre we can clearly see pop genre stands out from the others. Intuitively this is not so surprising as most of pop music gets usually forgotten relatively quickly."
   ]
  },
  {
   "cell_type": "code",
   "execution_count": 46,
   "metadata": {},
   "outputs": [
    {
     "data": {
      "text/plain": [
       "(0.8, 1.232435211419218)"
      ]
     },
     "execution_count": 46,
     "metadata": {},
     "output_type": "execute_result"
    },
    {
     "data": {
      "image/png": "[encoded data removed]",
      "text/plain": [
       "<Figure size 432x288 with 1 Axes>"
      ]
     },
     "metadata": {
      "needs_background": "light"
     },
     "output_type": "display_data"
    }
   ],
   "source": [
    "plt.bar(x=listeningsWithTags['tag'].unique(), height=intensities)\n",
    "plt.ylim(bottom=0.8)"
   ]
  },
  {
   "cell_type": "code",
   "execution_count": 59,
   "metadata": {},
   "outputs": [
    {
     "data": {
      "text/html": [
       "<div>\n",
       "<style scoped>\n",
       "    .dataframe tbody tr th:only-of-type {\n",
       "        vertical-align: middle;\n",
       "    }\n",
       "\n",
       "    .dataframe tbody tr th {\n",
       "        vertical-align: top;\n",
       "    }\n",
       "\n",
       "    .dataframe thead th {\n",
       "        text-align: right;\n",
       "    }\n",
       "</style>\n",
       "<table border=\"1\" class=\"dataframe\">\n",
       "  <thead>\n",
       "    <tr style=\"text-align: right;\">\n",
       "      <th></th>\n",
       "      <th></th>\n",
       "      <th>userid</th>\n",
       "      <th>timestamp</th>\n",
       "      <th>artname</th>\n",
       "      <th>traname</th>\n",
       "      <th>album_id</th>\n",
       "      <th>tid</th>\n",
       "      <th>tag</th>\n",
       "    </tr>\n",
       "    <tr>\n",
       "      <th>art_tra_name</th>\n",
       "      <th>release_date</th>\n",
       "      <th></th>\n",
       "      <th></th>\n",
       "      <th></th>\n",
       "      <th></th>\n",
       "      <th></th>\n",
       "      <th></th>\n",
       "      <th></th>\n",
       "    </tr>\n",
       "  </thead>\n",
       "  <tbody>\n",
       "    <tr>\n",
       "      <th>Hinder@Lips Of An Angel</th>\n",
       "      <th>2005-09-27</th>\n",
       "      <td>822</td>\n",
       "      <td>822</td>\n",
       "      <td>822</td>\n",
       "      <td>822</td>\n",
       "      <td>822</td>\n",
       "      <td>822</td>\n",
       "      <td>822</td>\n",
       "    </tr>\n",
       "    <tr>\n",
       "      <th>Janis Joplin@Get It While You Can</th>\n",
       "      <th>2005-06-20</th>\n",
       "      <td>854</td>\n",
       "      <td>854</td>\n",
       "      <td>854</td>\n",
       "      <td>854</td>\n",
       "      <td>854</td>\n",
       "      <td>854</td>\n",
       "      <td>854</td>\n",
       "    </tr>\n",
       "    <tr>\n",
       "      <th>The Fray@Little House</th>\n",
       "      <th>2005-09-13</th>\n",
       "      <td>866</td>\n",
       "      <td>866</td>\n",
       "      <td>866</td>\n",
       "      <td>866</td>\n",
       "      <td>866</td>\n",
       "      <td>866</td>\n",
       "      <td>866</td>\n",
       "    </tr>\n",
       "    <tr>\n",
       "      <th>Black Rebel Motorcycle Club@Howl</th>\n",
       "      <th>2005-08-23</th>\n",
       "      <td>903</td>\n",
       "      <td>903</td>\n",
       "      <td>903</td>\n",
       "      <td>903</td>\n",
       "      <td>903</td>\n",
       "      <td>903</td>\n",
       "      <td>903</td>\n",
       "    </tr>\n",
       "    <tr>\n",
       "      <th>Tenacious D@Beelzeboss (The Final Showdown)</th>\n",
       "      <th>2006-09-26</th>\n",
       "      <td>906</td>\n",
       "      <td>906</td>\n",
       "      <td>906</td>\n",
       "      <td>906</td>\n",
       "      <td>906</td>\n",
       "      <td>906</td>\n",
       "      <td>906</td>\n",
       "    </tr>\n",
       "    <tr>\n",
       "      <th>Foo Fighters@Friend Of A Friend</th>\n",
       "      <th>2005-05-13</th>\n",
       "      <td>936</td>\n",
       "      <td>936</td>\n",
       "      <td>936</td>\n",
       "      <td>936</td>\n",
       "      <td>936</td>\n",
       "      <td>936</td>\n",
       "      <td>936</td>\n",
       "    </tr>\n",
       "    <tr>\n",
       "      <th>Foo Fighters@Cold Day In The Sun</th>\n",
       "      <th>2005-05-13</th>\n",
       "      <td>981</td>\n",
       "      <td>981</td>\n",
       "      <td>981</td>\n",
       "      <td>981</td>\n",
       "      <td>981</td>\n",
       "      <td>981</td>\n",
       "      <td>981</td>\n",
       "    </tr>\n",
       "    <tr>\n",
       "      <th>Foo Fighters@Hell</th>\n",
       "      <th>2005-05-13</th>\n",
       "      <td>987</td>\n",
       "      <td>987</td>\n",
       "      <td>987</td>\n",
       "      <td>987</td>\n",
       "      <td>987</td>\n",
       "      <td>987</td>\n",
       "      <td>987</td>\n",
       "    </tr>\n",
       "    <tr>\n",
       "      <th>Foo Fighters@Another Round</th>\n",
       "      <th>2005-05-13</th>\n",
       "      <td>1152</td>\n",
       "      <td>1152</td>\n",
       "      <td>1152</td>\n",
       "      <td>1152</td>\n",
       "      <td>1152</td>\n",
       "      <td>1152</td>\n",
       "      <td>1152</td>\n",
       "    </tr>\n",
       "    <tr>\n",
       "      <th>Nine Inch Nails@Hurt</th>\n",
       "      <th>2005-02-07</th>\n",
       "      <td>1225</td>\n",
       "      <td>1225</td>\n",
       "      <td>1225</td>\n",
       "      <td>1225</td>\n",
       "      <td>1225</td>\n",
       "      <td>1225</td>\n",
       "      <td>1225</td>\n",
       "    </tr>\n",
       "    <tr>\n",
       "      <th>Foo Fighters@Over And Out</th>\n",
       "      <th>2005-05-13</th>\n",
       "      <td>1264</td>\n",
       "      <td>1264</td>\n",
       "      <td>1264</td>\n",
       "      <td>1264</td>\n",
       "      <td>1264</td>\n",
       "      <td>1264</td>\n",
       "      <td>1264</td>\n",
       "    </tr>\n",
       "    <tr>\n",
       "      <th>The Fray@Dead Wrong</th>\n",
       "      <th>2005-09-13</th>\n",
       "      <td>1340</td>\n",
       "      <td>1340</td>\n",
       "      <td>1340</td>\n",
       "      <td>1340</td>\n",
       "      <td>1340</td>\n",
       "      <td>1340</td>\n",
       "      <td>1340</td>\n",
       "    </tr>\n",
       "    <tr>\n",
       "      <th>Wolfmother@Dimension</th>\n",
       "      <th>2005-10-31</th>\n",
       "      <td>1581</td>\n",
       "      <td>1581</td>\n",
       "      <td>1581</td>\n",
       "      <td>1581</td>\n",
       "      <td>1581</td>\n",
       "      <td>1581</td>\n",
       "      <td>1581</td>\n",
       "    </tr>\n",
       "    <tr>\n",
       "      <th>Wolfmother@Love Train</th>\n",
       "      <th>2006-01-31</th>\n",
       "      <td>1624</td>\n",
       "      <td>1624</td>\n",
       "      <td>1624</td>\n",
       "      <td>1624</td>\n",
       "      <td>1624</td>\n",
       "      <td>1624</td>\n",
       "      <td>1624</td>\n",
       "    </tr>\n",
       "    <tr>\n",
       "      <th>Janis Joplin@Cry Baby</th>\n",
       "      <th>2005-06-20</th>\n",
       "      <td>1692</td>\n",
       "      <td>1692</td>\n",
       "      <td>1692</td>\n",
       "      <td>1692</td>\n",
       "      <td>1692</td>\n",
       "      <td>1692</td>\n",
       "      <td>1692</td>\n",
       "    </tr>\n",
       "    <tr>\n",
       "      <th>Nine Inch Nails@Piggy</th>\n",
       "      <th>2005-02-07</th>\n",
       "      <td>1959</td>\n",
       "      <td>1959</td>\n",
       "      <td>1959</td>\n",
       "      <td>1959</td>\n",
       "      <td>1959</td>\n",
       "      <td>1959</td>\n",
       "      <td>1959</td>\n",
       "    </tr>\n",
       "    <tr>\n",
       "      <th>Foo Fighters@Razor</th>\n",
       "      <th>2005-05-13</th>\n",
       "      <td>1960</td>\n",
       "      <td>1960</td>\n",
       "      <td>1960</td>\n",
       "      <td>1960</td>\n",
       "      <td>1960</td>\n",
       "      <td>1960</td>\n",
       "      <td>1960</td>\n",
       "    </tr>\n",
       "    <tr>\n",
       "      <th>Nine Inch Nails@March Of The Pigs</th>\n",
       "      <th>2005-02-07</th>\n",
       "      <td>2691</td>\n",
       "      <td>2691</td>\n",
       "      <td>2691</td>\n",
       "      <td>2691</td>\n",
       "      <td>2691</td>\n",
       "      <td>2691</td>\n",
       "      <td>2691</td>\n",
       "    </tr>\n",
       "    <tr>\n",
       "      <th>Foo Fighters@Best Of You</th>\n",
       "      <th>2005-05-13</th>\n",
       "      <td>3747</td>\n",
       "      <td>3747</td>\n",
       "      <td>3747</td>\n",
       "      <td>3747</td>\n",
       "      <td>3747</td>\n",
       "      <td>3747</td>\n",
       "      <td>3747</td>\n",
       "    </tr>\n",
       "    <tr>\n",
       "      <th>Nine Inch Nails@Closer</th>\n",
       "      <th>2005-02-07</th>\n",
       "      <td>6800</td>\n",
       "      <td>6800</td>\n",
       "      <td>6800</td>\n",
       "      <td>6800</td>\n",
       "      <td>6800</td>\n",
       "      <td>6800</td>\n",
       "      <td>6800</td>\n",
       "    </tr>\n",
       "  </tbody>\n",
       "</table>\n",
       "</div>"
      ],
      "text/plain": [
       "                                                          userid  timestamp  \\\n",
       "art_tra_name                                release_date                      \n",
       "Hinder@Lips Of An Angel                     2005-09-27       822        822   \n",
       "Janis Joplin@Get It While You Can           2005-06-20       854        854   \n",
       "The Fray@Little House                       2005-09-13       866        866   \n",
       "Black Rebel Motorcycle Club@Howl            2005-08-23       903        903   \n",
       "Tenacious D@Beelzeboss (The Final Showdown) 2006-09-26       906        906   \n",
       "Foo Fighters@Friend Of A Friend             2005-05-13       936        936   \n",
       "Foo Fighters@Cold Day In The Sun            2005-05-13       981        981   \n",
       "Foo Fighters@Hell                           2005-05-13       987        987   \n",
       "Foo Fighters@Another Round                  2005-05-13      1152       1152   \n",
       "Nine Inch Nails@Hurt                        2005-02-07      1225       1225   \n",
       "Foo Fighters@Over And Out                   2005-05-13      1264       1264   \n",
       "The Fray@Dead Wrong                         2005-09-13      1340       1340   \n",
       "Wolfmother@Dimension                        2005-10-31      1581       1581   \n",
       "Wolfmother@Love Train                       2006-01-31      1624       1624   \n",
       "Janis Joplin@Cry Baby                       2005-06-20      1692       1692   \n",
       "Nine Inch Nails@Piggy                       2005-02-07      1959       1959   \n",
       "Foo Fighters@Razor                          2005-05-13      1960       1960   \n",
       "Nine Inch Nails@March Of The Pigs           2005-02-07      2691       2691   \n",
       "Foo Fighters@Best Of You                    2005-05-13      3747       3747   \n",
       "Nine Inch Nails@Closer                      2005-02-07      6800       6800   \n",
       "\n",
       "                                                          artname  traname  \\\n",
       "art_tra_name                                release_date                     \n",
       "Hinder@Lips Of An Angel                     2005-09-27        822      822   \n",
       "Janis Joplin@Get It While You Can           2005-06-20        854      854   \n",
       "The Fray@Little House                       2005-09-13        866      866   \n",
       "Black Rebel Motorcycle Club@Howl            2005-08-23        903      903   \n",
       "Tenacious D@Beelzeboss (The Final Showdown) 2006-09-26        906      906   \n",
       "Foo Fighters@Friend Of A Friend             2005-05-13        936      936   \n",
       "Foo Fighters@Cold Day In The Sun            2005-05-13        981      981   \n",
       "Foo Fighters@Hell                           2005-05-13        987      987   \n",
       "Foo Fighters@Another Round                  2005-05-13       1152     1152   \n",
       "Nine Inch Nails@Hurt                        2005-02-07       1225     1225   \n",
       "Foo Fighters@Over And Out                   2005-05-13       1264     1264   \n",
       "The Fray@Dead Wrong                         2005-09-13       1340     1340   \n",
       "Wolfmother@Dimension                        2005-10-31       1581     1581   \n",
       "Wolfmother@Love Train                       2006-01-31       1624     1624   \n",
       "Janis Joplin@Cry Baby                       2005-06-20       1692     1692   \n",
       "Nine Inch Nails@Piggy                       2005-02-07       1959     1959   \n",
       "Foo Fighters@Razor                          2005-05-13       1960     1960   \n",
       "Nine Inch Nails@March Of The Pigs           2005-02-07       2691     2691   \n",
       "Foo Fighters@Best Of You                    2005-05-13       3747     3747   \n",
       "Nine Inch Nails@Closer                      2005-02-07       6800     6800   \n",
       "\n",
       "                                                          album_id   tid   tag  \n",
       "art_tra_name                                release_date                        \n",
       "Hinder@Lips Of An Angel                     2005-09-27         822   822   822  \n",
       "Janis Joplin@Get It While You Can           2005-06-20         854   854   854  \n",
       "The Fray@Little House                       2005-09-13         866   866   866  \n",
       "Black Rebel Motorcycle Club@Howl            2005-08-23         903   903   903  \n",
       "Tenacious D@Beelzeboss (The Final Showdown) 2006-09-26         906   906   906  \n",
       "Foo Fighters@Friend Of A Friend             2005-05-13         936   936   936  \n",
       "Foo Fighters@Cold Day In The Sun            2005-05-13         981   981   981  \n",
       "Foo Fighters@Hell                           2005-05-13         987   987   987  \n",
       "Foo Fighters@Another Round                  2005-05-13        1152  1152  1152  \n",
       "Nine Inch Nails@Hurt                        2005-02-07        1225  1225  1225  \n",
       "Foo Fighters@Over And Out                   2005-05-13        1264  1264  1264  \n",
       "The Fray@Dead Wrong                         2005-09-13        1340  1340  1340  \n",
       "Wolfmother@Dimension                        2005-10-31        1581  1581  1581  \n",
       "Wolfmother@Love Train                       2006-01-31        1624  1624  1624  \n",
       "Janis Joplin@Cry Baby                       2005-06-20        1692  1692  1692  \n",
       "Nine Inch Nails@Piggy                       2005-02-07        1959  1959  1959  \n",
       "Foo Fighters@Razor                          2005-05-13        1960  1960  1960  \n",
       "Nine Inch Nails@March Of The Pigs           2005-02-07        2691  2691  2691  \n",
       "Foo Fighters@Best Of You                    2005-05-13        3747  3747  3747  \n",
       "Nine Inch Nails@Closer                      2005-02-07        6800  6800  6800  "
      ]
     },
     "execution_count": 59,
     "metadata": {},
     "output_type": "execute_result"
    }
   ],
   "source": [
    "# vast majority of most popular pop songs was from 2005 which might have influenced the results\n",
    "listeningsWithTags[listeningsWithTags['tag']=='rock'].groupby(['art_tra_name','release_date']).count().sort_values('userid').tail(20)"
   ]
  },
  {
   "cell_type": "markdown",
   "metadata": {},
   "source": [
    "## Evergreens"
   ]
  },
  {
   "cell_type": "markdown",
   "metadata": {},
   "source": [
    "We calculate forgetting values for each song. We only consider the songs with 200 total listens or more to minimize the chance of random results caused by songs with too little possbily random listens. "
   ]
  },
  {
   "cell_type": "code",
   "execution_count": 5,
   "metadata": {},
   "outputs": [
    {
     "data": {
      "text/plain": [
       "752"
      ]
     },
     "execution_count": 5,
     "metadata": {},
     "output_type": "execute_result"
    }
   ],
   "source": [
    "listenedSongs = listenings.groupby('art_tra_name').count()[['timestamp']].query('timestamp > 200').index\n",
    "len(listenedSongs)"
   ]
  },
  {
   "cell_type": "code",
   "execution_count": 8,
   "metadata": {},
   "outputs": [
    {
     "name": "stderr",
     "output_type": "stream",
     "text": [
      "100%|██████████| 1726049/1726049 [00:40<00:00, 42338.69it/s]\n"
     ]
    }
   ],
   "source": [
    "res = forgetting_intensity(listenings,songWise = True)"
   ]
  },
  {
   "cell_type": "code",
   "execution_count": 9,
   "metadata": {},
   "outputs": [],
   "source": [
    "intensities = []\n",
    "for key, value in res.items():\n",
    "    if (key in listenedSongs):\n",
    "        intensities.append(value['rand']/value['age'])"
   ]
  },
  {
   "cell_type": "markdown",
   "metadata": {},
   "source": [
    "The top 10 least forgotten songs (the so called evergreens):"
   ]
  },
  {
   "cell_type": "code",
   "execution_count": 12,
   "metadata": {
    "scrolled": true
   },
   "outputs": [
    {
     "name": "stdout",
     "output_type": "stream",
     "text": [
      "Regina Spektor@The Flowers\n",
      "M.I.A.@Amazon\n",
      "Klaxons@Four Horsemen Of 2012\n",
      "Death From Above 1979@Dead Womb\n",
      "Between The Buried And Me@Selkies: The Endless Obsession\n",
      "65Daysofstatic@23Kid\n",
      "Kasabian@I.D.\n",
      "M83@Safe\n",
      "Kasabian@Ovary Stripe\n",
      "Iron & Wine@Jezebel\n"
     ]
    }
   ],
   "source": [
    "for i in np.argsort(intensities)[:10]:\n",
    "    print (listenedSongs[i])"
   ]
  },
  {
   "cell_type": "markdown",
   "metadata": {},
   "source": [
    "The top 10 most forgotten songs:"
   ]
  },
  {
   "cell_type": "code",
   "execution_count": 13,
   "metadata": {},
   "outputs": [
    {
     "name": "stdout",
     "output_type": "stream",
     "text": [
      "ムック@Kagayaku Sekai\n",
      "The Fray@Dead Wrong\n",
      "The Decemberists@The Sporting Life\n",
      "The Fray@Heaven Forbid\n",
      "The Fray@All At Once\n",
      "The Fray@Fall Away\n",
      "The Decemberists@The Mariner'S Revenge Song\n",
      "The Duke Spirit@Love Is An Unfamiliar Name\n",
      "The Fray@How To Save A Life\n",
      "ムック@Isho\n"
     ]
    }
   ],
   "source": [
    "for i in np.argsort(intensities)[-10:]:\n",
    "    print (listenedSongs[i])"
   ]
  },
  {
   "cell_type": "code",
   "execution_count": 14,
   "metadata": {},
   "outputs": [
    {
     "data": {
      "text/plain": [
       "'Regina Spektor@The Flowers'"
      ]
     },
     "execution_count": 14,
     "metadata": {},
     "output_type": "execute_result"
    }
   ],
   "source": [
    "listenedSongs[np.argmin(intensities)]"
   ]
  },
  {
   "cell_type": "code",
   "execution_count": 15,
   "metadata": {},
   "outputs": [
    {
     "data": {
      "text/plain": [
       "'ムック@Isho'"
      ]
     },
     "execution_count": 15,
     "metadata": {},
     "output_type": "execute_result"
    }
   ],
   "source": [
    "listenedSongs[np.argmax(intensities)]"
   ]
  },
  {
   "cell_type": "code",
   "execution_count": 18,
   "metadata": {},
   "outputs": [
    {
     "data": {
      "text/plain": [
       "<AxesSubplot:title={'center':'The most forgotten song'}, xlabel='timestamp'>"
      ]
     },
     "execution_count": 18,
     "metadata": {},
     "output_type": "execute_result"
    },
    {
     "data": {
      "image/png": "[encoded data removed]",
      "text/plain": [
       "<Figure size 1296x288 with 1 Axes>"
      ]
     },
     "metadata": {
      "needs_background": "light"
     },
     "output_type": "display_data"
    }
   ],
   "source": [
    "tmp = listenings[listenings['art_tra_name'] == listenedSongs[np.argmax(intensities)]].resample('M')[['userid']].count().reset_index().copy()\n",
    "tmp['timestamp'] = tmp['timestamp'].apply(lambda x: str(x.year)) +'-' + tmp['timestamp'].apply(lambda x: str(x.month))\n",
    "tmp.plot.bar(x='timestamp',y='userid',use_index=True,legend=False,figsize=(18,4), title='The most forgotten song')"
   ]
  },
  {
   "cell_type": "code",
   "execution_count": 19,
   "metadata": {},
   "outputs": [
    {
     "data": {
      "text/plain": [
       "<AxesSubplot:title={'center':'The least forgotten song (biggest evergreen)'}, xlabel='timestamp'>"
      ]
     },
     "execution_count": 19,
     "metadata": {},
     "output_type": "execute_result"
    },
    {
     "data": {
      "image/png": "[encoded data removed]",
      "text/plain": [
       "<Figure size 1296x288 with 1 Axes>"
      ]
     },
     "metadata": {
      "needs_background": "light"
     },
     "output_type": "display_data"
    }
   ],
   "source": [
    "tmp = listenings[listenings['art_tra_name'] == listenedSongs[np.argmin(intensities)]].resample('M')[['userid']].count().reset_index().copy()\n",
    "tmp['timestamp'] = tmp['timestamp'].apply(lambda x: str(x.year)) +'-' + tmp['timestamp'].apply(lambda x: str(x.month))\n",
    "tmp.plot.bar(x='timestamp',y='userid',use_index=True,legend=False,figsize=(18,4), title='The least forgotten song (biggest evergreen)')"
   ]
  },
  {
   "cell_type": "code",
   "execution_count": null,
   "metadata": {},
   "outputs": [],
   "source": []
  },
  {
   "cell_type": "code",
   "execution_count": null,
   "metadata": {},
   "outputs": [],
   "source": []
  }
 ],
 "metadata": {
  "kernelspec": {
   "display_name": "Python 3",
   "language": "python",
   "name": "python3"
  },
  "language_info": {
   "codemirror_mode": {
    "name": "ipython",
    "version": 3
   },
   "file_extension": ".py",
   "mimetype": "text/x-python",
   "name": "python",
   "nbconvert_exporter": "python",
   "pygments_lexer": "ipython3",
   "version": "3.8.5"
  }
 },
 "nbformat": 4,
 "nbformat_minor": 4
}
