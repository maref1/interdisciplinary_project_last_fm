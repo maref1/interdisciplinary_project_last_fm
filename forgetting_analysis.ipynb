{
 "cells": [
  {
   "cell_type": "code",
   "execution_count": 1,
   "metadata": {},
   "outputs": [],
   "source": [
    "import pandas as pd\n",
    "import networkx as nx\n",
    "from networkx.algorithms.bipartite.basic import density\n",
    "import matplotlib.pyplot as plt\n",
    "import matplotlib\n",
    "from tqdm import tqdm\n",
    "import random\n",
    "import seaborn as sns\n",
    "\n",
    "from random import randrange\n",
    "from datetime import timedelta\n",
    "from datetime import datetime"
   ]
  },
  {
   "cell_type": "code",
   "execution_count": 2,
   "metadata": {},
   "outputs": [
    {
     "data": {
      "text/html": [
       "<div>\n",
       "<style scoped>\n",
       "    .dataframe tbody tr th:only-of-type {\n",
       "        vertical-align: middle;\n",
       "    }\n",
       "\n",
       "    .dataframe tbody tr th {\n",
       "        vertical-align: top;\n",
       "    }\n",
       "\n",
       "    .dataframe thead th {\n",
       "        text-align: right;\n",
       "    }\n",
       "</style>\n",
       "<table border=\"1\" class=\"dataframe\">\n",
       "  <thead>\n",
       "    <tr style=\"text-align: right;\">\n",
       "      <th></th>\n",
       "      <th>userid</th>\n",
       "      <th>timestamp</th>\n",
       "      <th>artname</th>\n",
       "      <th>traname</th>\n",
       "      <th>album_id</th>\n",
       "      <th>album_date</th>\n",
       "      <th>gender</th>\n",
       "      <th>country</th>\n",
       "      <th>art_tra_name</th>\n",
       "    </tr>\n",
       "    <tr>\n",
       "      <th>timestamp</th>\n",
       "      <th></th>\n",
       "      <th></th>\n",
       "      <th></th>\n",
       "      <th></th>\n",
       "      <th></th>\n",
       "      <th></th>\n",
       "      <th></th>\n",
       "      <th></th>\n",
       "      <th></th>\n",
       "    </tr>\n",
       "  </thead>\n",
       "  <tbody>\n",
       "    <tr>\n",
       "      <th>2005-02-14 00:02:10</th>\n",
       "      <td>user_000285</td>\n",
       "      <td>2005-02-14 00:02:10</td>\n",
       "      <td>The Killers</td>\n",
       "      <td>Jenny Was A Friend Of Mine</td>\n",
       "      <td>bc9bd08c-1d1a-4e4e-bd40-8829aa120013</td>\n",
       "      <td>2006-02-24</td>\n",
       "      <td>f</td>\n",
       "      <td>United States</td>\n",
       "      <td>The Killers@Jenny Was A Friend Of Mine</td>\n",
       "    </tr>\n",
       "    <tr>\n",
       "      <th>2005-02-14 00:10:09</th>\n",
       "      <td>user_000966</td>\n",
       "      <td>2005-02-14 00:10:09</td>\n",
       "      <td>Michael Jackson</td>\n",
       "      <td>Billie Jean</td>\n",
       "      <td>9774b815-8ffa-4fd2-8eb5-c25539322a77</td>\n",
       "      <td>2013-10-17</td>\n",
       "      <td>NaN</td>\n",
       "      <td>United States</td>\n",
       "      <td>Michael Jackson@Billie Jean</td>\n",
       "    </tr>\n",
       "    <tr>\n",
       "      <th>2005-02-14 00:11:37</th>\n",
       "      <td>user_000391</td>\n",
       "      <td>2005-02-14 00:11:37</td>\n",
       "      <td>The Rolling Stones</td>\n",
       "      <td>Brown Sugar</td>\n",
       "      <td>355d957f-cdd6-4902-aa80-f7bf2c4fff38</td>\n",
       "      <td>2009-05-08</td>\n",
       "      <td>f</td>\n",
       "      <td>Germany</td>\n",
       "      <td>The Rolling Stones@Brown Sugar</td>\n",
       "    </tr>\n",
       "    <tr>\n",
       "      <th>2005-02-14 00:24:25</th>\n",
       "      <td>user_000304</td>\n",
       "      <td>2005-02-14 00:24:25</td>\n",
       "      <td>The Go! Team</td>\n",
       "      <td>Ladyflash</td>\n",
       "      <td>c76128aa-e003-31e7-8892-f16f2fa87051</td>\n",
       "      <td>2005-10-03</td>\n",
       "      <td>f</td>\n",
       "      <td>United Kingdom</td>\n",
       "      <td>The Go! Team@Ladyflash</td>\n",
       "    </tr>\n",
       "    <tr>\n",
       "      <th>2005-02-14 00:27:30</th>\n",
       "      <td>user_000304</td>\n",
       "      <td>2005-02-14 00:27:30</td>\n",
       "      <td>The Go! Team</td>\n",
       "      <td>Feelgood By Numbers</td>\n",
       "      <td>c76128aa-e003-31e7-8892-f16f2fa87051</td>\n",
       "      <td>2005-10-03</td>\n",
       "      <td>f</td>\n",
       "      <td>United Kingdom</td>\n",
       "      <td>The Go! Team@Feelgood By Numbers</td>\n",
       "    </tr>\n",
       "  </tbody>\n",
       "</table>\n",
       "</div>"
      ],
      "text/plain": [
       "                          userid           timestamp             artname  \\\n",
       "timestamp                                                                  \n",
       "2005-02-14 00:02:10  user_000285 2005-02-14 00:02:10         The Killers   \n",
       "2005-02-14 00:10:09  user_000966 2005-02-14 00:10:09     Michael Jackson   \n",
       "2005-02-14 00:11:37  user_000391 2005-02-14 00:11:37  The Rolling Stones   \n",
       "2005-02-14 00:24:25  user_000304 2005-02-14 00:24:25        The Go! Team   \n",
       "2005-02-14 00:27:30  user_000304 2005-02-14 00:27:30        The Go! Team   \n",
       "\n",
       "                                        traname  \\\n",
       "timestamp                                         \n",
       "2005-02-14 00:02:10  Jenny Was A Friend Of Mine   \n",
       "2005-02-14 00:10:09                 Billie Jean   \n",
       "2005-02-14 00:11:37                 Brown Sugar   \n",
       "2005-02-14 00:24:25                   Ladyflash   \n",
       "2005-02-14 00:27:30         Feelgood By Numbers   \n",
       "\n",
       "                                                 album_id album_date gender  \\\n",
       "timestamp                                                                     \n",
       "2005-02-14 00:02:10  bc9bd08c-1d1a-4e4e-bd40-8829aa120013 2006-02-24      f   \n",
       "2005-02-14 00:10:09  9774b815-8ffa-4fd2-8eb5-c25539322a77 2013-10-17    NaN   \n",
       "2005-02-14 00:11:37  355d957f-cdd6-4902-aa80-f7bf2c4fff38 2009-05-08      f   \n",
       "2005-02-14 00:24:25  c76128aa-e003-31e7-8892-f16f2fa87051 2005-10-03      f   \n",
       "2005-02-14 00:27:30  c76128aa-e003-31e7-8892-f16f2fa87051 2005-10-03      f   \n",
       "\n",
       "                            country                            art_tra_name  \n",
       "timestamp                                                                    \n",
       "2005-02-14 00:02:10   United States  The Killers@Jenny Was A Friend Of Mine  \n",
       "2005-02-14 00:10:09   United States             Michael Jackson@Billie Jean  \n",
       "2005-02-14 00:11:37         Germany          The Rolling Stones@Brown Sugar  \n",
       "2005-02-14 00:24:25  United Kingdom                  The Go! Team@Ladyflash  \n",
       "2005-02-14 00:27:30  United Kingdom        The Go! Team@Feelgood By Numbers  "
      ]
     },
     "execution_count": 2,
     "metadata": {},
     "output_type": "execute_result"
    }
   ],
   "source": [
    "listenings = pd.read_csv('preprocessed_data/listenings_with_years_and_users.csv',parse_dates=['timestamp','album_date'])\n",
    "# no timezones needed\n",
    "listenings['timestamp'] = listenings['timestamp'].dt.tz_localize(None)\n",
    "listenings['album_date'] = listenings['album_date'].dt.tz_localize(None)\n",
    "\n",
    "# we only take a look at songs released in the year 2005 and later (when the dataset begins)\n",
    "listenings = listenings[listenings['album_date'].apply(lambda x: x.year)>=2005]\n",
    "listenings = listenings[listenings['album_date'].apply(lambda x: x.year)!=2010]\n",
    "\n",
    "# we create a unique identifier from artist and track name\n",
    "listenings['art_tra_name'] = listenings['artname'] + '@' + listenings['traname']\n",
    "\n",
    "# sort the listenings by time\n",
    "listenings.sort_values(by='timestamp',inplace=True)\n",
    "listenings.index=listenings['timestamp']\n",
    "listenings.head()"
   ]
  },
  {
   "cell_type": "code",
   "execution_count": 3,
   "metadata": {},
   "outputs": [
    {
     "data": {
      "text/plain": [
       "['Death Cab For Cutie@Soul Meets Body',\n",
       " 'Death Cab For Cutie@I Will Follow You Into The Dark',\n",
       " 'Bloc Party@Banquet',\n",
       " 'Arctic Monkeys@I Bet You Look Good On The Dancefloor',\n",
       " 'Bloc Party@Blue Light',\n",
       " 'Modest Mouse@Float On',\n",
       " 'Death Cab For Cutie@Summer Skin',\n",
       " 'The Fray@How To Save A Life',\n",
       " 'Bloc Party@This Modern Love',\n",
       " 'Death Cab For Cutie@Marching Bands Of Manhattan']"
      ]
     },
     "execution_count": 3,
     "metadata": {},
     "output_type": "execute_result"
    }
   ],
   "source": [
    "top10Songs2005 = list(listenings[listenings['album_date'].apply(lambda x: x.year)==2005].groupby('art_tra_name').count().sort_values('userid',ascending=False)[:10].index)\n",
    "top10Songs2005"
   ]
  },
  {
   "cell_type": "code",
   "execution_count": 4,
   "metadata": {},
   "outputs": [],
   "source": [
    "aggregatedTop10 = listenings[listenings['art_tra_name'].isin(top10Songs2005)].groupby([pd.Grouper(freq=\"M\"), \"art_tra_name\"]).count()[['userid']].reset_index()"
   ]
  },
  {
   "cell_type": "code",
   "execution_count": 5,
   "metadata": {},
   "outputs": [
    {
     "data": {
      "image/png": "[encoded data removed]",
      "text/plain": [
       "<Figure size 1440x432 with 1 Axes>"
      ]
     },
     "metadata": {
      "needs_background": "light"
     },
     "output_type": "display_data"
    }
   ],
   "source": [
    "fig, ax= plt.subplots(figsize=(20,6))\n",
    "\n",
    "colors = sns.color_palette(\"coolwarm\", aggregatedTop10.art_tra_name.nunique())\n",
    "ax.set_prop_cycle('color', colors)\n",
    "\n",
    "for idx, gp in aggregatedTop10.groupby('art_tra_name'):\n",
    "    gp.plot(x='timestamp', y='userid', ax=ax, legend=False)\n",
    "plt.yscale('log', nonpositive='clip')\n",
    "plt.title('Top 10 songs from 2005 - number of listens over time')\n",
    "plt.show()"
   ]
  },
  {
   "cell_type": "code",
   "execution_count": 6,
   "metadata": {},
   "outputs": [],
   "source": [
    "listenings.rename({'album_date':'release_date'},axis=1,inplace=True)"
   ]
  },
  {
   "cell_type": "code",
   "execution_count": 7,
   "metadata": {},
   "outputs": [
    {
     "data": {
      "text/html": [
       "<div>\n",
       "<style scoped>\n",
       "    .dataframe tbody tr th:only-of-type {\n",
       "        vertical-align: middle;\n",
       "    }\n",
       "\n",
       "    .dataframe tbody tr th {\n",
       "        vertical-align: top;\n",
       "    }\n",
       "\n",
       "    .dataframe thead th {\n",
       "        text-align: right;\n",
       "    }\n",
       "</style>\n",
       "<table border=\"1\" class=\"dataframe\">\n",
       "  <thead>\n",
       "    <tr style=\"text-align: right;\">\n",
       "      <th></th>\n",
       "      <th>userid</th>\n",
       "      <th>timestamp</th>\n",
       "      <th>artname</th>\n",
       "      <th>traname</th>\n",
       "      <th>album_id</th>\n",
       "      <th>release_date</th>\n",
       "      <th>gender</th>\n",
       "      <th>country</th>\n",
       "      <th>art_tra_name</th>\n",
       "    </tr>\n",
       "    <tr>\n",
       "      <th>timestamp</th>\n",
       "      <th></th>\n",
       "      <th></th>\n",
       "      <th></th>\n",
       "      <th></th>\n",
       "      <th></th>\n",
       "      <th></th>\n",
       "      <th></th>\n",
       "      <th></th>\n",
       "      <th></th>\n",
       "    </tr>\n",
       "  </thead>\n",
       "  <tbody>\n",
       "    <tr>\n",
       "      <th>2005-02-14 00:02:10</th>\n",
       "      <td>user_000285</td>\n",
       "      <td>2005-02-14 00:02:10</td>\n",
       "      <td>The Killers</td>\n",
       "      <td>Jenny Was A Friend Of Mine</td>\n",
       "      <td>bc9bd08c-1d1a-4e4e-bd40-8829aa120013</td>\n",
       "      <td>2006-02-24</td>\n",
       "      <td>f</td>\n",
       "      <td>United States</td>\n",
       "      <td>The Killers@Jenny Was A Friend Of Mine</td>\n",
       "    </tr>\n",
       "    <tr>\n",
       "      <th>2005-02-14 00:10:09</th>\n",
       "      <td>user_000966</td>\n",
       "      <td>2005-02-14 00:10:09</td>\n",
       "      <td>Michael Jackson</td>\n",
       "      <td>Billie Jean</td>\n",
       "      <td>9774b815-8ffa-4fd2-8eb5-c25539322a77</td>\n",
       "      <td>2013-10-17</td>\n",
       "      <td>NaN</td>\n",
       "      <td>United States</td>\n",
       "      <td>Michael Jackson@Billie Jean</td>\n",
       "    </tr>\n",
       "    <tr>\n",
       "      <th>2005-02-14 00:11:37</th>\n",
       "      <td>user_000391</td>\n",
       "      <td>2005-02-14 00:11:37</td>\n",
       "      <td>The Rolling Stones</td>\n",
       "      <td>Brown Sugar</td>\n",
       "      <td>355d957f-cdd6-4902-aa80-f7bf2c4fff38</td>\n",
       "      <td>2009-05-08</td>\n",
       "      <td>f</td>\n",
       "      <td>Germany</td>\n",
       "      <td>The Rolling Stones@Brown Sugar</td>\n",
       "    </tr>\n",
       "    <tr>\n",
       "      <th>2005-02-14 00:24:25</th>\n",
       "      <td>user_000304</td>\n",
       "      <td>2005-02-14 00:24:25</td>\n",
       "      <td>The Go! Team</td>\n",
       "      <td>Ladyflash</td>\n",
       "      <td>c76128aa-e003-31e7-8892-f16f2fa87051</td>\n",
       "      <td>2005-10-03</td>\n",
       "      <td>f</td>\n",
       "      <td>United Kingdom</td>\n",
       "      <td>The Go! Team@Ladyflash</td>\n",
       "    </tr>\n",
       "    <tr>\n",
       "      <th>2005-02-14 00:27:30</th>\n",
       "      <td>user_000304</td>\n",
       "      <td>2005-02-14 00:27:30</td>\n",
       "      <td>The Go! Team</td>\n",
       "      <td>Feelgood By Numbers</td>\n",
       "      <td>c76128aa-e003-31e7-8892-f16f2fa87051</td>\n",
       "      <td>2005-10-03</td>\n",
       "      <td>f</td>\n",
       "      <td>United Kingdom</td>\n",
       "      <td>The Go! Team@Feelgood By Numbers</td>\n",
       "    </tr>\n",
       "  </tbody>\n",
       "</table>\n",
       "</div>"
      ],
      "text/plain": [
       "                          userid           timestamp             artname  \\\n",
       "timestamp                                                                  \n",
       "2005-02-14 00:02:10  user_000285 2005-02-14 00:02:10         The Killers   \n",
       "2005-02-14 00:10:09  user_000966 2005-02-14 00:10:09     Michael Jackson   \n",
       "2005-02-14 00:11:37  user_000391 2005-02-14 00:11:37  The Rolling Stones   \n",
       "2005-02-14 00:24:25  user_000304 2005-02-14 00:24:25        The Go! Team   \n",
       "2005-02-14 00:27:30  user_000304 2005-02-14 00:27:30        The Go! Team   \n",
       "\n",
       "                                        traname  \\\n",
       "timestamp                                         \n",
       "2005-02-14 00:02:10  Jenny Was A Friend Of Mine   \n",
       "2005-02-14 00:10:09                 Billie Jean   \n",
       "2005-02-14 00:11:37                 Brown Sugar   \n",
       "2005-02-14 00:24:25                   Ladyflash   \n",
       "2005-02-14 00:27:30         Feelgood By Numbers   \n",
       "\n",
       "                                                 album_id release_date gender  \\\n",
       "timestamp                                                                       \n",
       "2005-02-14 00:02:10  bc9bd08c-1d1a-4e4e-bd40-8829aa120013   2006-02-24      f   \n",
       "2005-02-14 00:10:09  9774b815-8ffa-4fd2-8eb5-c25539322a77   2013-10-17    NaN   \n",
       "2005-02-14 00:11:37  355d957f-cdd6-4902-aa80-f7bf2c4fff38   2009-05-08      f   \n",
       "2005-02-14 00:24:25  c76128aa-e003-31e7-8892-f16f2fa87051   2005-10-03      f   \n",
       "2005-02-14 00:27:30  c76128aa-e003-31e7-8892-f16f2fa87051   2005-10-03      f   \n",
       "\n",
       "                            country                            art_tra_name  \n",
       "timestamp                                                                    \n",
       "2005-02-14 00:02:10   United States  The Killers@Jenny Was A Friend Of Mine  \n",
       "2005-02-14 00:10:09   United States             Michael Jackson@Billie Jean  \n",
       "2005-02-14 00:11:37         Germany          The Rolling Stones@Brown Sugar  \n",
       "2005-02-14 00:24:25  United Kingdom                  The Go! Team@Ladyflash  \n",
       "2005-02-14 00:27:30  United Kingdom        The Go! Team@Feelgood By Numbers  "
      ]
     },
     "execution_count": 7,
     "metadata": {},
     "output_type": "execute_result"
    }
   ],
   "source": [
    "listenings.head()"
   ]
  },
  {
   "cell_type": "markdown",
   "metadata": {},
   "source": [
    "We create a custom function evaluating the strength of the forgetting phenomenon in the dataset similar to the custom function for the preferential attachment. For each of the listenings we calculate the random probability of the song being listened to (1/nr_of_songs_that_appeared_so_far) and the probabiliy proportional to the songs age (song_age/total_age_of_all_songs). In the end we compare the sums of the different probability types- the higher the result the stronger the forgetting is in the dataset."
   ]
  },
  {
   "cell_type": "code",
   "execution_count": 8,
   "metadata": {},
   "outputs": [],
   "source": [
    "def forgetting_intensity(listenings,attrName='art_tra_name',attrFilter=None):\n",
    "\n",
    "    songsAppearedSet = set() #  song_name -> song_release_Date\n",
    "    totalSongAge = 0 \n",
    "    randomProbList = []\n",
    "    ageWeightedProbList = []\n",
    "\n",
    "    listenedTimeBefore = listenings['timestamp'].iloc[0]\n",
    "    for name,attr,listenedTime, releaseTime in tqdm(zip(listenings['art_tra_name'],listenings[attrName], listenings['timestamp'], listenings['release_date']),total=len(listenings),\n",
    "                                                     position=0, leave=True):\n",
    "\n",
    "        songAge = (listenedTime - releaseTime).total_seconds()\n",
    "        # ignore if song is song age is negative\n",
    "        if(songAge<0):\n",
    "            continue\n",
    "\n",
    "        # time elapsed from the last litening \n",
    "        timeElapsed = (listenedTime - listenedTimeBefore).total_seconds()\n",
    "        listenedTimeBefore = listenedTime\n",
    "\n",
    "        # all the songs got older\n",
    "        totalSongAge += timeElapsed*len(songsAppearedSet)\n",
    "        \n",
    "        # if this was the first time for a song we add its initial age\n",
    "        if(name not in songsAppearedSet):\n",
    "            totalSongAge += songAge\n",
    "        \n",
    "        # update set of songs that appeared so far\n",
    "        songsAppearedSet.add(name)\n",
    "\n",
    "        # optional filter using datasets user attributes\n",
    "        if(attrName=='art_tra_name' or attr==attrFilter):\n",
    "            # completely random probability\n",
    "            randomProb = 1/len(songsAppearedSet)\n",
    "            # probability proportional to the song age normalized by the total age of all songs listened to so far\n",
    "            ageWeightedProb = songAge / totalSongAge\n",
    "\n",
    "            randomProbList.append(randomProb)\n",
    "            ageWeightedProbList.append(ageWeightedProb)\n",
    "\n",
    "\n",
    "\n",
    "    return sum(randomProbList)/sum(ageWeightedProbList)"
   ]
  },
  {
   "cell_type": "code",
   "execution_count": 9,
   "metadata": {},
   "outputs": [
    {
     "data": {
      "text/html": [
       "<div>\n",
       "<style scoped>\n",
       "    .dataframe tbody tr th:only-of-type {\n",
       "        vertical-align: middle;\n",
       "    }\n",
       "\n",
       "    .dataframe tbody tr th {\n",
       "        vertical-align: top;\n",
       "    }\n",
       "\n",
       "    .dataframe thead th {\n",
       "        text-align: right;\n",
       "    }\n",
       "</style>\n",
       "<table border=\"1\" class=\"dataframe\">\n",
       "  <thead>\n",
       "    <tr style=\"text-align: right;\">\n",
       "      <th></th>\n",
       "      <th>userid</th>\n",
       "      <th>timestamp</th>\n",
       "      <th>artname</th>\n",
       "      <th>traname</th>\n",
       "      <th>album_id</th>\n",
       "      <th>release_date</th>\n",
       "      <th>gender</th>\n",
       "      <th>country</th>\n",
       "      <th>art_tra_name</th>\n",
       "    </tr>\n",
       "    <tr>\n",
       "      <th>timestamp</th>\n",
       "      <th></th>\n",
       "      <th></th>\n",
       "      <th></th>\n",
       "      <th></th>\n",
       "      <th></th>\n",
       "      <th></th>\n",
       "      <th></th>\n",
       "      <th></th>\n",
       "      <th></th>\n",
       "    </tr>\n",
       "  </thead>\n",
       "  <tbody>\n",
       "    <tr>\n",
       "      <th>2005-02-14 00:02:10</th>\n",
       "      <td>user_000285</td>\n",
       "      <td>2005-02-14 00:02:10</td>\n",
       "      <td>The Killers</td>\n",
       "      <td>Jenny Was A Friend Of Mine</td>\n",
       "      <td>bc9bd08c-1d1a-4e4e-bd40-8829aa120013</td>\n",
       "      <td>2006-02-24</td>\n",
       "      <td>f</td>\n",
       "      <td>United States</td>\n",
       "      <td>The Killers@Jenny Was A Friend Of Mine</td>\n",
       "    </tr>\n",
       "    <tr>\n",
       "      <th>2005-02-14 00:10:09</th>\n",
       "      <td>user_000966</td>\n",
       "      <td>2005-02-14 00:10:09</td>\n",
       "      <td>Michael Jackson</td>\n",
       "      <td>Billie Jean</td>\n",
       "      <td>9774b815-8ffa-4fd2-8eb5-c25539322a77</td>\n",
       "      <td>2013-10-17</td>\n",
       "      <td>NaN</td>\n",
       "      <td>United States</td>\n",
       "      <td>Michael Jackson@Billie Jean</td>\n",
       "    </tr>\n",
       "    <tr>\n",
       "      <th>2005-02-14 00:11:37</th>\n",
       "      <td>user_000391</td>\n",
       "      <td>2005-02-14 00:11:37</td>\n",
       "      <td>The Rolling Stones</td>\n",
       "      <td>Brown Sugar</td>\n",
       "      <td>355d957f-cdd6-4902-aa80-f7bf2c4fff38</td>\n",
       "      <td>2009-05-08</td>\n",
       "      <td>f</td>\n",
       "      <td>Germany</td>\n",
       "      <td>The Rolling Stones@Brown Sugar</td>\n",
       "    </tr>\n",
       "    <tr>\n",
       "      <th>2005-02-14 00:24:25</th>\n",
       "      <td>user_000304</td>\n",
       "      <td>2005-02-14 00:24:25</td>\n",
       "      <td>The Go! Team</td>\n",
       "      <td>Ladyflash</td>\n",
       "      <td>c76128aa-e003-31e7-8892-f16f2fa87051</td>\n",
       "      <td>2005-10-03</td>\n",
       "      <td>f</td>\n",
       "      <td>United Kingdom</td>\n",
       "      <td>The Go! Team@Ladyflash</td>\n",
       "    </tr>\n",
       "    <tr>\n",
       "      <th>2005-02-14 00:27:30</th>\n",
       "      <td>user_000304</td>\n",
       "      <td>2005-02-14 00:27:30</td>\n",
       "      <td>The Go! Team</td>\n",
       "      <td>Feelgood By Numbers</td>\n",
       "      <td>c76128aa-e003-31e7-8892-f16f2fa87051</td>\n",
       "      <td>2005-10-03</td>\n",
       "      <td>f</td>\n",
       "      <td>United Kingdom</td>\n",
       "      <td>The Go! Team@Feelgood By Numbers</td>\n",
       "    </tr>\n",
       "  </tbody>\n",
       "</table>\n",
       "</div>"
      ],
      "text/plain": [
       "                          userid           timestamp             artname  \\\n",
       "timestamp                                                                  \n",
       "2005-02-14 00:02:10  user_000285 2005-02-14 00:02:10         The Killers   \n",
       "2005-02-14 00:10:09  user_000966 2005-02-14 00:10:09     Michael Jackson   \n",
       "2005-02-14 00:11:37  user_000391 2005-02-14 00:11:37  The Rolling Stones   \n",
       "2005-02-14 00:24:25  user_000304 2005-02-14 00:24:25        The Go! Team   \n",
       "2005-02-14 00:27:30  user_000304 2005-02-14 00:27:30        The Go! Team   \n",
       "\n",
       "                                        traname  \\\n",
       "timestamp                                         \n",
       "2005-02-14 00:02:10  Jenny Was A Friend Of Mine   \n",
       "2005-02-14 00:10:09                 Billie Jean   \n",
       "2005-02-14 00:11:37                 Brown Sugar   \n",
       "2005-02-14 00:24:25                   Ladyflash   \n",
       "2005-02-14 00:27:30         Feelgood By Numbers   \n",
       "\n",
       "                                                 album_id release_date gender  \\\n",
       "timestamp                                                                       \n",
       "2005-02-14 00:02:10  bc9bd08c-1d1a-4e4e-bd40-8829aa120013   2006-02-24      f   \n",
       "2005-02-14 00:10:09  9774b815-8ffa-4fd2-8eb5-c25539322a77   2013-10-17    NaN   \n",
       "2005-02-14 00:11:37  355d957f-cdd6-4902-aa80-f7bf2c4fff38   2009-05-08      f   \n",
       "2005-02-14 00:24:25  c76128aa-e003-31e7-8892-f16f2fa87051   2005-10-03      f   \n",
       "2005-02-14 00:27:30  c76128aa-e003-31e7-8892-f16f2fa87051   2005-10-03      f   \n",
       "\n",
       "                            country                            art_tra_name  \n",
       "timestamp                                                                    \n",
       "2005-02-14 00:02:10   United States  The Killers@Jenny Was A Friend Of Mine  \n",
       "2005-02-14 00:10:09   United States             Michael Jackson@Billie Jean  \n",
       "2005-02-14 00:11:37         Germany          The Rolling Stones@Brown Sugar  \n",
       "2005-02-14 00:24:25  United Kingdom                  The Go! Team@Ladyflash  \n",
       "2005-02-14 00:27:30  United Kingdom        The Go! Team@Feelgood By Numbers  "
      ]
     },
     "execution_count": 9,
     "metadata": {},
     "output_type": "execute_result"
    }
   ],
   "source": [
    "listenings.head()"
   ]
  },
  {
   "cell_type": "code",
   "execution_count": 10,
   "metadata": {},
   "outputs": [],
   "source": [
    "# utility funciton generates a randonm date between the specified range\n",
    "def random_date(start, end):\n",
    "    \"\"\"\n",
    "    This function will return a random datetime between two datetime \n",
    "    objects.\n",
    "    \"\"\"\n",
    "    delta = end - start\n",
    "    int_delta = (delta.days * 24 * 60 * 60) + delta.seconds\n",
    "    random_second = randrange(int_delta)\n",
    "    return start + timedelta(seconds=random_second)"
   ]
  },
  {
   "cell_type": "markdown",
   "metadata": {},
   "source": [
    "We test the function by generating random data of 1 million listeings of 1000 songs with corresponding listening timestamps and release dates."
   ]
  },
  {
   "cell_type": "code",
   "execution_count": 11,
   "metadata": {},
   "outputs": [
    {
     "data": {
      "text/html": [
       "<div>\n",
       "<style scoped>\n",
       "    .dataframe tbody tr th:only-of-type {\n",
       "        vertical-align: middle;\n",
       "    }\n",
       "\n",
       "    .dataframe tbody tr th {\n",
       "        vertical-align: top;\n",
       "    }\n",
       "\n",
       "    .dataframe thead th {\n",
       "        text-align: right;\n",
       "    }\n",
       "</style>\n",
       "<table border=\"1\" class=\"dataframe\">\n",
       "  <thead>\n",
       "    <tr style=\"text-align: right;\">\n",
       "      <th></th>\n",
       "      <th>art_tra_name</th>\n",
       "      <th>timestamp</th>\n",
       "      <th>release_date</th>\n",
       "    </tr>\n",
       "  </thead>\n",
       "  <tbody>\n",
       "    <tr>\n",
       "      <th>0</th>\n",
       "      <td>865</td>\n",
       "      <td>2005-01-01 00:01:17</td>\n",
       "      <td>2005-01-01 00:01:08</td>\n",
       "    </tr>\n",
       "    <tr>\n",
       "      <th>1</th>\n",
       "      <td>395</td>\n",
       "      <td>2005-01-01 00:03:46</td>\n",
       "      <td>2005-01-01 00:02:58</td>\n",
       "    </tr>\n",
       "    <tr>\n",
       "      <th>2</th>\n",
       "      <td>777</td>\n",
       "      <td>2005-01-01 00:04:38</td>\n",
       "      <td>2005-01-01 00:04:30</td>\n",
       "    </tr>\n",
       "    <tr>\n",
       "      <th>3</th>\n",
       "      <td>912</td>\n",
       "      <td>2005-01-01 00:11:10</td>\n",
       "      <td>2005-01-01 00:02:12</td>\n",
       "    </tr>\n",
       "    <tr>\n",
       "      <th>4</th>\n",
       "      <td>431</td>\n",
       "      <td>2005-01-01 00:11:16</td>\n",
       "      <td>2005-01-01 00:01:31</td>\n",
       "    </tr>\n",
       "  </tbody>\n",
       "</table>\n",
       "</div>"
      ],
      "text/plain": [
       "   art_tra_name           timestamp        release_date\n",
       "0           865 2005-01-01 00:01:17 2005-01-01 00:01:08\n",
       "1           395 2005-01-01 00:03:46 2005-01-01 00:02:58\n",
       "2           777 2005-01-01 00:04:38 2005-01-01 00:04:30\n",
       "3           912 2005-01-01 00:11:10 2005-01-01 00:02:12\n",
       "4           431 2005-01-01 00:11:16 2005-01-01 00:01:31"
      ]
     },
     "execution_count": 11,
     "metadata": {},
     "output_type": "execute_result"
    }
   ],
   "source": [
    "random.seed(0)\n",
    "N_DISTINCT_SONGS = 1000\n",
    "N_LISTENINGS = 1000000\n",
    "\n",
    "artTraNameTest = [random.randint(1,N_DISTINCT_SONGS) for x in range(N_LISTENINGS)]\n",
    "\n",
    "d1 = datetime.strptime('01/01/2005 00:01', '%m/%d/%Y %H:%M')\n",
    "d2 = datetime.strptime('12/31/2009 23:59', '%m/%d/%Y %H:%M')\n",
    "listeningTimesTest = sorted([random_date(d1, d2) for x in range(N_LISTENINGS)])\n",
    "\n",
    "releaseDateTestDict = {}\n",
    "releaseDatesTest = []\n",
    "\n",
    "for name,lisTime in zip(artTraNameTest,listeningTimesTest):\n",
    "    if(name in releaseDateTestDict):\n",
    "        releaseDatesTest.append(releaseDateTestDict[name])\n",
    "    else:\n",
    "        releaseDateTestDict[name] = random_date(d1, lisTime)\n",
    "        releaseDatesTest.append(releaseDateTestDict[name])\n",
    "\n",
    "testDf = pd.DataFrame()\n",
    "testDf['art_tra_name'] = artTraNameTest\n",
    "testDf['timestamp'] = listeningTimesTest\n",
    "testDf['release_date'] = releaseDatesTest\n",
    "\n",
    "testDf.head()"
   ]
  },
  {
   "cell_type": "code",
   "execution_count": 12,
   "metadata": {},
   "outputs": [
    {
     "name": "stderr",
     "output_type": "stream",
     "text": [
      "100%|██████████| 1000000/1000000 [00:26<00:00, 38424.31it/s]\n"
     ]
    },
    {
     "data": {
      "text/plain": [
       "1.002491175190483"
      ]
     },
     "execution_count": 12,
     "metadata": {},
     "output_type": "execute_result"
    }
   ],
   "source": [
    "# as expected - with random data where listenings are not related to the songs age we get a value near 1\n",
    "forgetting_intensity(testDf)"
   ]
  },
  {
   "cell_type": "code",
   "execution_count": 13,
   "metadata": {},
   "outputs": [
    {
     "name": "stderr",
     "output_type": "stream",
     "text": [
      "100%|██████████| 5435844/5435844 [02:08<00:00, 42176.84it/s]\n"
     ]
    },
    {
     "data": {
      "text/plain": [
       "1.2512515179420918"
      ]
     },
     "execution_count": 13,
     "metadata": {},
     "output_type": "execute_result"
    }
   ],
   "source": [
    "# with the actual data we see there is the forgetting phenomenon\n",
    "forgetting_intensity(listenings)"
   ]
  },
  {
   "cell_type": "markdown",
   "metadata": {},
   "source": [
    "# Comparing preferential attachment for subsets of the dataset based on the attributes"
   ]
  },
  {
   "cell_type": "markdown",
   "metadata": {},
   "source": [
    "## User's gender"
   ]
  },
  {
   "cell_type": "markdown",
   "metadata": {},
   "source": [
    "When we calculate the values for different genders in the data we can see we get a slightly bigger results for males."
   ]
  },
  {
   "cell_type": "code",
   "execution_count": 14,
   "metadata": {},
   "outputs": [
    {
     "name": "stderr",
     "output_type": "stream",
     "text": [
      "100%|██████████| 5435844/5435844 [01:58<00:00, 46043.39it/s]\n"
     ]
    },
    {
     "data": {
      "text/plain": [
       "1.275913403507124"
      ]
     },
     "execution_count": 14,
     "metadata": {},
     "output_type": "execute_result"
    }
   ],
   "source": [
    "forgetting_intensity(listenings,'gender','m')"
   ]
  },
  {
   "cell_type": "code",
   "execution_count": 15,
   "metadata": {},
   "outputs": [
    {
     "name": "stderr",
     "output_type": "stream",
     "text": [
      "100%|██████████| 5435844/5435844 [01:52<00:00, 48108.84it/s]\n"
     ]
    },
    {
     "data": {
      "text/plain": [
       "1.216781153666698"
      ]
     },
     "execution_count": 15,
     "metadata": {},
     "output_type": "execute_result"
    }
   ],
   "source": [
    "forgetting_intensity(listenings,'gender','f')"
   ]
  },
  {
   "cell_type": "markdown",
   "metadata": {},
   "source": [
    "## User's geographical area"
   ]
  },
  {
   "cell_type": "code",
   "execution_count": 16,
   "metadata": {},
   "outputs": [],
   "source": [
    "europeList = ['United Kingdom', 'Finland', 'Germany', 'Sweden', 'Canada', 'Switzerland',\n",
    "    'Norway', 'Poland', 'Netherlands', 'Belgium', 'Italy', 'Romania',\n",
    "       'Russian Federation', 'Spain',\n",
    "       'Ireland','Czech Republic','France', 'China',\n",
    "       'Austria', 'Slovakia', 'Malta',\n",
    "       'Latvia', 'Estonia', 'Lithuania',\n",
    "      'Iceland', 'Bulgaria',\n",
    "      'Portugal', 'Croatia',  'Serbia', 'Greece', 'Hungary',\n",
    "       'Bosnia and Herzegovina', 'Slovenia',\n",
    "       'Belarus',  'Macedonia']"
   ]
  },
  {
   "cell_type": "code",
   "execution_count": 17,
   "metadata": {},
   "outputs": [],
   "source": [
    "# we rename the European countries so that we have a bigger geographical group which we can compare to the United States\n",
    "listenings['country'] = listenings['country'].apply(lambda x: 'Europe' if x in europeList else x)"
   ]
  },
  {
   "cell_type": "markdown",
   "metadata": {},
   "source": [
    "There is almost no difference between the values for users from these two different geographical areas."
   ]
  },
  {
   "cell_type": "code",
   "execution_count": 18,
   "metadata": {},
   "outputs": [
    {
     "name": "stderr",
     "output_type": "stream",
     "text": [
      "100%|██████████| 5435844/5435844 [01:50<00:00, 49275.92it/s]\n"
     ]
    },
    {
     "data": {
      "text/plain": [
       "1.2509524562486554"
      ]
     },
     "execution_count": 18,
     "metadata": {},
     "output_type": "execute_result"
    }
   ],
   "source": [
    "forgetting_intensity(listenings,'country','United States')"
   ]
  },
  {
   "cell_type": "code",
   "execution_count": 19,
   "metadata": {},
   "outputs": [
    {
     "name": "stderr",
     "output_type": "stream",
     "text": [
      "100%|██████████| 5435844/5435844 [01:49<00:00, 49453.34it/s]\n"
     ]
    },
    {
     "data": {
      "text/plain": [
       "1.2395283976314255"
      ]
     },
     "execution_count": 19,
     "metadata": {},
     "output_type": "execute_result"
    }
   ],
   "source": [
    "forgetting_intensity(listenings,'country','Europe')"
   ]
  },
  {
   "cell_type": "markdown",
   "metadata": {},
   "source": [
    "## Song genres"
   ]
  },
  {
   "cell_type": "code",
   "execution_count": 20,
   "metadata": {},
   "outputs": [
    {
     "data": {
      "text/html": [
       "<div>\n",
       "<style scoped>\n",
       "    .dataframe tbody tr th:only-of-type {\n",
       "        vertical-align: middle;\n",
       "    }\n",
       "\n",
       "    .dataframe tbody tr th {\n",
       "        vertical-align: top;\n",
       "    }\n",
       "\n",
       "    .dataframe thead th {\n",
       "        text-align: right;\n",
       "    }\n",
       "</style>\n",
       "<table border=\"1\" class=\"dataframe\">\n",
       "  <thead>\n",
       "    <tr style=\"text-align: right;\">\n",
       "      <th></th>\n",
       "      <th>userid</th>\n",
       "      <th>timestamp</th>\n",
       "      <th>artname</th>\n",
       "      <th>traname</th>\n",
       "      <th>album_id</th>\n",
       "      <th>album_date</th>\n",
       "      <th>tid</th>\n",
       "      <th>tag</th>\n",
       "      <th>art_tra_name</th>\n",
       "    </tr>\n",
       "  </thead>\n",
       "  <tbody>\n",
       "    <tr>\n",
       "      <th>728515</th>\n",
       "      <td>user_000285</td>\n",
       "      <td>2005-02-14 00:02:10</td>\n",
       "      <td>The Killers</td>\n",
       "      <td>Jenny Was A Friend Of Mine</td>\n",
       "      <td>bc9bd08c-1d1a-4e4e-bd40-8829aa120013</td>\n",
       "      <td>2006-02-24</td>\n",
       "      <td>TRZEUSK128F9309A53</td>\n",
       "      <td>rock</td>\n",
       "      <td>The Killers@Jenny Was A Friend Of Mine</td>\n",
       "    </tr>\n",
       "    <tr>\n",
       "      <th>1616906</th>\n",
       "      <td>user_000966</td>\n",
       "      <td>2005-02-14 00:10:09</td>\n",
       "      <td>Michael Jackson</td>\n",
       "      <td>Billie Jean</td>\n",
       "      <td>9774b815-8ffa-4fd2-8eb5-c25539322a77</td>\n",
       "      <td>2013-10-17</td>\n",
       "      <td>TRIXMPL128F4262784</td>\n",
       "      <td>pop</td>\n",
       "      <td>Michael Jackson@Billie Jean</td>\n",
       "    </tr>\n",
       "    <tr>\n",
       "      <th>1615950</th>\n",
       "      <td>user_000966</td>\n",
       "      <td>2005-02-14 00:10:09</td>\n",
       "      <td>Michael Jackson</td>\n",
       "      <td>Billie Jean</td>\n",
       "      <td>9774b815-8ffa-4fd2-8eb5-c25539322a77</td>\n",
       "      <td>2013-10-17</td>\n",
       "      <td>TRWJKVP128F92DCA7E</td>\n",
       "      <td>pop</td>\n",
       "      <td>Michael Jackson@Billie Jean</td>\n",
       "    </tr>\n",
       "    <tr>\n",
       "      <th>1617862</th>\n",
       "      <td>user_000966</td>\n",
       "      <td>2005-02-14 00:10:09</td>\n",
       "      <td>Michael Jackson</td>\n",
       "      <td>Billie Jean</td>\n",
       "      <td>9774b815-8ffa-4fd2-8eb5-c25539322a77</td>\n",
       "      <td>2013-10-17</td>\n",
       "      <td>TROTIPO12903CCE92B</td>\n",
       "      <td>pop</td>\n",
       "      <td>Michael Jackson@Billie Jean</td>\n",
       "    </tr>\n",
       "    <tr>\n",
       "      <th>1858567</th>\n",
       "      <td>user_000391</td>\n",
       "      <td>2005-02-14 00:11:37</td>\n",
       "      <td>The Rolling Stones</td>\n",
       "      <td>Brown Sugar</td>\n",
       "      <td>355d957f-cdd6-4902-aa80-f7bf2c4fff38</td>\n",
       "      <td>2009-05-08</td>\n",
       "      <td>TREUHEG128F42BA46F</td>\n",
       "      <td>rock</td>\n",
       "      <td>The Rolling Stones@Brown Sugar</td>\n",
       "    </tr>\n",
       "  </tbody>\n",
       "</table>\n",
       "</div>"
      ],
      "text/plain": [
       "              userid           timestamp             artname  \\\n",
       "728515   user_000285 2005-02-14 00:02:10         The Killers   \n",
       "1616906  user_000966 2005-02-14 00:10:09     Michael Jackson   \n",
       "1615950  user_000966 2005-02-14 00:10:09     Michael Jackson   \n",
       "1617862  user_000966 2005-02-14 00:10:09     Michael Jackson   \n",
       "1858567  user_000391 2005-02-14 00:11:37  The Rolling Stones   \n",
       "\n",
       "                            traname                              album_id  \\\n",
       "728515   Jenny Was A Friend Of Mine  bc9bd08c-1d1a-4e4e-bd40-8829aa120013   \n",
       "1616906                 Billie Jean  9774b815-8ffa-4fd2-8eb5-c25539322a77   \n",
       "1615950                 Billie Jean  9774b815-8ffa-4fd2-8eb5-c25539322a77   \n",
       "1617862                 Billie Jean  9774b815-8ffa-4fd2-8eb5-c25539322a77   \n",
       "1858567                 Brown Sugar  355d957f-cdd6-4902-aa80-f7bf2c4fff38   \n",
       "\n",
       "        album_date                 tid   tag  \\\n",
       "728515  2006-02-24  TRZEUSK128F9309A53  rock   \n",
       "1616906 2013-10-17  TRIXMPL128F4262784   pop   \n",
       "1615950 2013-10-17  TRWJKVP128F92DCA7E   pop   \n",
       "1617862 2013-10-17  TROTIPO12903CCE92B   pop   \n",
       "1858567 2009-05-08  TREUHEG128F42BA46F  rock   \n",
       "\n",
       "                                   art_tra_name  \n",
       "728515   The Killers@Jenny Was A Friend Of Mine  \n",
       "1616906             Michael Jackson@Billie Jean  \n",
       "1615950             Michael Jackson@Billie Jean  \n",
       "1617862             Michael Jackson@Billie Jean  \n",
       "1858567          The Rolling Stones@Brown Sugar  "
      ]
     },
     "execution_count": 20,
     "metadata": {},
     "output_type": "execute_result"
    }
   ],
   "source": [
    "listeningsWithTags = pd.read_csv('preprocessed_data/listenings_with_years_and_tags.csv',parse_dates=['timestamp','album_date'])\n",
    "# no timezones needed\n",
    "listeningsWithTags['timestamp'] = listeningsWithTags['timestamp'].dt.tz_localize(None)\n",
    "listeningsWithTags['album_date'] = listeningsWithTags['album_date'].dt.tz_localize(None)\n",
    "\n",
    "# we only take a look at songs released in the year 2005 and later (when the dataset begins)\n",
    "listeningsWithTags = listeningsWithTags[listeningsWithTags['album_date'].apply(lambda x: x.year)>=2005]\n",
    "listeningsWithTags = listeningsWithTags[listeningsWithTags['album_date'].apply(lambda x: x.year)!=2010]\n",
    "\n",
    "\n",
    "# we create a unique identifier from artist and track name\n",
    "listeningsWithTags['art_tra_name'] = listeningsWithTags['artname'] + '@' + listeningsWithTags['traname']\n",
    "listeningsWithTags.sort_values(by='timestamp',inplace=True)\n",
    "listeningsWithTags.head()"
   ]
  },
  {
   "cell_type": "code",
   "execution_count": 21,
   "metadata": {},
   "outputs": [],
   "source": [
    "listeningsWithTags.rename({'album_date':'release_date'},axis=1,inplace=True)"
   ]
  },
  {
   "cell_type": "code",
   "execution_count": 22,
   "metadata": {},
   "outputs": [
    {
     "data": {
      "text/plain": [
       "array(['rock', 'pop', 'indie', 'alternative', 'electronic'], dtype=object)"
      ]
     },
     "execution_count": 22,
     "metadata": {},
     "output_type": "execute_result"
    }
   ],
   "source": [
    "listeningsWithTags['tag'].unique()"
   ]
  },
  {
   "cell_type": "code",
   "execution_count": 23,
   "metadata": {},
   "outputs": [
    {
     "name": "stderr",
     "output_type": "stream",
     "text": [
      "100%|██████████| 736081/736081 [00:12<00:00, 56662.58it/s]\n",
      "100%|██████████| 464082/464082 [00:08<00:00, 55735.60it/s]\n",
      "100%|██████████| 814815/814815 [00:16<00:00, 50588.56it/s]\n",
      "100%|██████████| 261332/261332 [00:04<00:00, 52847.22it/s]\n",
      "100%|██████████| 434955/434955 [00:08<00:00, 51540.96it/s]\n"
     ]
    }
   ],
   "source": [
    "intensities = []\n",
    "for tag in listeningsWithTags['tag'].unique():\n",
    "    intensities.append(forgetting_intensity(listeningsWithTags[listeningsWithTags['tag']==tag]))"
   ]
  },
  {
   "cell_type": "markdown",
   "metadata": {},
   "source": [
    "Looking at the results differentiated by songs genre we can clearly see pop genre stands out from the others. Intuitively this is not so surprising as most of pop music gets usually forgotten relatively quickly."
   ]
  },
  {
   "cell_type": "code",
   "execution_count": 24,
   "metadata": {},
   "outputs": [
    {
     "data": {
      "text/plain": [
       "<BarContainer object of 5 artists>"
      ]
     },
     "execution_count": 24,
     "metadata": {},
     "output_type": "execute_result"
    },
    {
     "data": {
      "image/png": "[encoded data removed]",
      "text/plain": [
       "<Figure size 432x288 with 1 Axes>"
      ]
     },
     "metadata": {
      "needs_background": "light"
     },
     "output_type": "display_data"
    }
   ],
   "source": [
    "plt.bar(x=listeningsWithTags['tag'].unique(), height=intensities)"
   ]
  },
  {
   "cell_type": "code",
   "execution_count": null,
   "metadata": {},
   "outputs": [],
   "source": []
  }
 ],
 "metadata": {
  "kernelspec": {
   "display_name": "Python 3",
   "language": "python",
   "name": "python3"
  },
  "language_info": {
   "codemirror_mode": {
    "name": "ipython",
    "version": 3
   },
   "file_extension": ".py",
   "mimetype": "text/x-python",
   "name": "python",
   "nbconvert_exporter": "python",
   "pygments_lexer": "ipython3",
   "version": "3.8.5"
  }
 },
 "nbformat": 4,
 "nbformat_minor": 4
}
