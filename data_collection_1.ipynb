{
 "cells": [
  {
   "cell_type": "code",
   "execution_count": 1,
   "metadata": {},
   "outputs": [],
   "source": [
    "import pandas as pd\n",
    "import networkx as nx\n",
    "import collections\n",
    "import matplotlib.pyplot as plt\n",
    "import matplotlib\n",
    "from tqdm import tqdm\n",
    "import os\n",
    "import json\n",
    "import sys\n",
    "import sqlite3\n",
    "import urllib.request, json \n",
    "import datetime\n",
    "import numpy as np"
   ]
  },
  {
   "cell_type": "code",
   "execution_count": 2,
   "metadata": {},
   "outputs": [],
   "source": [
    "# it is possible to run multiple copies of the notebook in parallel, you need to set split_nr a total_split_nr accordingly in each of them\n",
    "# you need to have at least TOTAL_SPLIT_NR apikeys in apikey.txt (one per row, no header)\n",
    "SPLIT_NR = 0\n",
    "TOTAL_SPLIT_NR = 3"
   ]
  },
  {
   "cell_type": "code",
   "execution_count": 3,
   "metadata": {},
   "outputs": [],
   "source": [
    "listenings = pd.read_csv('lastfm-dataset-1K/userid-timestamp-artid-artname-traid-traname.tsv',\n",
    "                         sep='\\t',error_bad_lines=False, header= None,\n",
    "                         names=['userid','timestamp','artid','artname','traid','traname'])"
   ]
  },
  {
   "cell_type": "code",
   "execution_count": 4,
   "metadata": {},
   "outputs": [],
   "source": [
    "# convert timestamp's datatype and use it as index\n",
    "listenings['timestamp'] = pd.to_datetime(listenings['timestamp'])\n",
    "listenings.index = listenings['timestamp']"
   ]
  },
  {
   "cell_type": "code",
   "execution_count": 5,
   "metadata": {},
   "outputs": [
    {
     "data": {
      "text/html": [
       "<div>\n",
       "<style scoped>\n",
       "    .dataframe tbody tr th:only-of-type {\n",
       "        vertical-align: middle;\n",
       "    }\n",
       "\n",
       "    .dataframe tbody tr th {\n",
       "        vertical-align: top;\n",
       "    }\n",
       "\n",
       "    .dataframe thead th {\n",
       "        text-align: right;\n",
       "    }\n",
       "</style>\n",
       "<table border=\"1\" class=\"dataframe\">\n",
       "  <thead>\n",
       "    <tr style=\"text-align: right;\">\n",
       "      <th></th>\n",
       "      <th>userid</th>\n",
       "      <th>timestamp</th>\n",
       "      <th>artid</th>\n",
       "      <th>artname</th>\n",
       "      <th>traid</th>\n",
       "      <th>traname</th>\n",
       "    </tr>\n",
       "    <tr>\n",
       "      <th>timestamp</th>\n",
       "      <th></th>\n",
       "      <th></th>\n",
       "      <th></th>\n",
       "      <th></th>\n",
       "      <th></th>\n",
       "      <th></th>\n",
       "    </tr>\n",
       "  </thead>\n",
       "  <tbody>\n",
       "    <tr>\n",
       "      <th>2009-05-04 23:08:57+00:00</th>\n",
       "      <td>user_000001</td>\n",
       "      <td>2009-05-04 23:08:57+00:00</td>\n",
       "      <td>f1b1cf71-bd35-4e99-8624-24a6e15f133a</td>\n",
       "      <td>Deep Dish</td>\n",
       "      <td>NaN</td>\n",
       "      <td>Fuck Me Im Famous (Pacha Ibiza)-09-28-2007</td>\n",
       "    </tr>\n",
       "    <tr>\n",
       "      <th>2009-05-04 13:54:10+00:00</th>\n",
       "      <td>user_000001</td>\n",
       "      <td>2009-05-04 13:54:10+00:00</td>\n",
       "      <td>a7f7df4a-77d8-4f12-8acd-5c60c93f4de8</td>\n",
       "      <td>坂本龍一</td>\n",
       "      <td>NaN</td>\n",
       "      <td>Composition 0919 (Live_2009_4_15)</td>\n",
       "    </tr>\n",
       "    <tr>\n",
       "      <th>2009-05-04 13:52:04+00:00</th>\n",
       "      <td>user_000001</td>\n",
       "      <td>2009-05-04 13:52:04+00:00</td>\n",
       "      <td>a7f7df4a-77d8-4f12-8acd-5c60c93f4de8</td>\n",
       "      <td>坂本龍一</td>\n",
       "      <td>NaN</td>\n",
       "      <td>Mc2 (Live_2009_4_15)</td>\n",
       "    </tr>\n",
       "    <tr>\n",
       "      <th>2009-05-04 13:42:52+00:00</th>\n",
       "      <td>user_000001</td>\n",
       "      <td>2009-05-04 13:42:52+00:00</td>\n",
       "      <td>a7f7df4a-77d8-4f12-8acd-5c60c93f4de8</td>\n",
       "      <td>坂本龍一</td>\n",
       "      <td>NaN</td>\n",
       "      <td>Hibari (Live_2009_4_15)</td>\n",
       "    </tr>\n",
       "    <tr>\n",
       "      <th>2009-05-04 13:42:11+00:00</th>\n",
       "      <td>user_000001</td>\n",
       "      <td>2009-05-04 13:42:11+00:00</td>\n",
       "      <td>a7f7df4a-77d8-4f12-8acd-5c60c93f4de8</td>\n",
       "      <td>坂本龍一</td>\n",
       "      <td>NaN</td>\n",
       "      <td>Mc1 (Live_2009_4_15)</td>\n",
       "    </tr>\n",
       "  </tbody>\n",
       "</table>\n",
       "</div>"
      ],
      "text/plain": [
       "                                userid                 timestamp  \\\n",
       "timestamp                                                          \n",
       "2009-05-04 23:08:57+00:00  user_000001 2009-05-04 23:08:57+00:00   \n",
       "2009-05-04 13:54:10+00:00  user_000001 2009-05-04 13:54:10+00:00   \n",
       "2009-05-04 13:52:04+00:00  user_000001 2009-05-04 13:52:04+00:00   \n",
       "2009-05-04 13:42:52+00:00  user_000001 2009-05-04 13:42:52+00:00   \n",
       "2009-05-04 13:42:11+00:00  user_000001 2009-05-04 13:42:11+00:00   \n",
       "\n",
       "                                                          artid    artname  \\\n",
       "timestamp                                                                    \n",
       "2009-05-04 23:08:57+00:00  f1b1cf71-bd35-4e99-8624-24a6e15f133a  Deep Dish   \n",
       "2009-05-04 13:54:10+00:00  a7f7df4a-77d8-4f12-8acd-5c60c93f4de8       坂本龍一   \n",
       "2009-05-04 13:52:04+00:00  a7f7df4a-77d8-4f12-8acd-5c60c93f4de8       坂本龍一   \n",
       "2009-05-04 13:42:52+00:00  a7f7df4a-77d8-4f12-8acd-5c60c93f4de8       坂本龍一   \n",
       "2009-05-04 13:42:11+00:00  a7f7df4a-77d8-4f12-8acd-5c60c93f4de8       坂本龍一   \n",
       "\n",
       "                          traid                                     traname  \n",
       "timestamp                                                                    \n",
       "2009-05-04 23:08:57+00:00   NaN  Fuck Me Im Famous (Pacha Ibiza)-09-28-2007  \n",
       "2009-05-04 13:54:10+00:00   NaN           Composition 0919 (Live_2009_4_15)  \n",
       "2009-05-04 13:52:04+00:00   NaN                        Mc2 (Live_2009_4_15)  \n",
       "2009-05-04 13:42:52+00:00   NaN                     Hibari (Live_2009_4_15)  \n",
       "2009-05-04 13:42:11+00:00   NaN                        Mc1 (Live_2009_4_15)  "
      ]
     },
     "execution_count": 5,
     "metadata": {},
     "output_type": "execute_result"
    }
   ],
   "source": [
    "listenings.head()"
   ]
  },
  {
   "cell_type": "code",
   "execution_count": 6,
   "metadata": {},
   "outputs": [
    {
     "data": {
      "text/html": [
       "<div>\n",
       "<style scoped>\n",
       "    .dataframe tbody tr th:only-of-type {\n",
       "        vertical-align: middle;\n",
       "    }\n",
       "\n",
       "    .dataframe tbody tr th {\n",
       "        vertical-align: top;\n",
       "    }\n",
       "\n",
       "    .dataframe thead th {\n",
       "        text-align: right;\n",
       "    }\n",
       "</style>\n",
       "<table border=\"1\" class=\"dataframe\">\n",
       "  <thead>\n",
       "    <tr style=\"text-align: right;\">\n",
       "      <th></th>\n",
       "      <th>userid</th>\n",
       "      <th>timestamp</th>\n",
       "      <th>artid</th>\n",
       "      <th>artname</th>\n",
       "      <th>traid</th>\n",
       "      <th>traname</th>\n",
       "    </tr>\n",
       "    <tr>\n",
       "      <th>timestamp</th>\n",
       "      <th></th>\n",
       "      <th></th>\n",
       "      <th></th>\n",
       "      <th></th>\n",
       "      <th></th>\n",
       "      <th></th>\n",
       "    </tr>\n",
       "  </thead>\n",
       "  <tbody>\n",
       "    <tr>\n",
       "      <th>2008-01-27 22:02:35+00:00</th>\n",
       "      <td>user_001000</td>\n",
       "      <td>2008-01-27 22:02:35+00:00</td>\n",
       "      <td>9e53f84d-ef44-4c16-9677-5fd4d78cbd7d</td>\n",
       "      <td>Wilco</td>\n",
       "      <td>a490cabc-1e5c-4807-86c7-740c31a50009</td>\n",
       "      <td>Please Be Patient With Me</td>\n",
       "    </tr>\n",
       "    <tr>\n",
       "      <th>2008-01-27 21:56:52+00:00</th>\n",
       "      <td>user_001000</td>\n",
       "      <td>2008-01-27 21:56:52+00:00</td>\n",
       "      <td>9e53f84d-ef44-4c16-9677-5fd4d78cbd7d</td>\n",
       "      <td>Wilco</td>\n",
       "      <td>3e92e447-9e1f-440d-bc00-6734469880c5</td>\n",
       "      <td>Shake It Off</td>\n",
       "    </tr>\n",
       "    <tr>\n",
       "      <th>2008-01-27 21:52:36+00:00</th>\n",
       "      <td>user_001000</td>\n",
       "      <td>2008-01-27 21:52:36+00:00</td>\n",
       "      <td>9e53f84d-ef44-4c16-9677-5fd4d78cbd7d</td>\n",
       "      <td>Wilco</td>\n",
       "      <td>93d044e6-1bbb-46a6-ac8e-283382a89e6f</td>\n",
       "      <td>Side With The Seeds</td>\n",
       "    </tr>\n",
       "    <tr>\n",
       "      <th>2008-01-27 21:49:12+00:00</th>\n",
       "      <td>user_001000</td>\n",
       "      <td>2008-01-27 21:49:12+00:00</td>\n",
       "      <td>9e53f84d-ef44-4c16-9677-5fd4d78cbd7d</td>\n",
       "      <td>Wilco</td>\n",
       "      <td>5ac4386f-6146-4389-a762-4b43f362d2c8</td>\n",
       "      <td>Sky Blue Sky</td>\n",
       "    </tr>\n",
       "    <tr>\n",
       "      <th>2008-01-27 21:43:14+00:00</th>\n",
       "      <td>user_001000</td>\n",
       "      <td>2008-01-27 21:43:14+00:00</td>\n",
       "      <td>9e53f84d-ef44-4c16-9677-5fd4d78cbd7d</td>\n",
       "      <td>Wilco</td>\n",
       "      <td>3acc99bc-a349-420f-ad28-7095eb3533c9</td>\n",
       "      <td>Impossible Germany</td>\n",
       "    </tr>\n",
       "  </tbody>\n",
       "</table>\n",
       "</div>"
      ],
      "text/plain": [
       "                                userid                 timestamp  \\\n",
       "timestamp                                                          \n",
       "2008-01-27 22:02:35+00:00  user_001000 2008-01-27 22:02:35+00:00   \n",
       "2008-01-27 21:56:52+00:00  user_001000 2008-01-27 21:56:52+00:00   \n",
       "2008-01-27 21:52:36+00:00  user_001000 2008-01-27 21:52:36+00:00   \n",
       "2008-01-27 21:49:12+00:00  user_001000 2008-01-27 21:49:12+00:00   \n",
       "2008-01-27 21:43:14+00:00  user_001000 2008-01-27 21:43:14+00:00   \n",
       "\n",
       "                                                          artid artname  \\\n",
       "timestamp                                                                 \n",
       "2008-01-27 22:02:35+00:00  9e53f84d-ef44-4c16-9677-5fd4d78cbd7d   Wilco   \n",
       "2008-01-27 21:56:52+00:00  9e53f84d-ef44-4c16-9677-5fd4d78cbd7d   Wilco   \n",
       "2008-01-27 21:52:36+00:00  9e53f84d-ef44-4c16-9677-5fd4d78cbd7d   Wilco   \n",
       "2008-01-27 21:49:12+00:00  9e53f84d-ef44-4c16-9677-5fd4d78cbd7d   Wilco   \n",
       "2008-01-27 21:43:14+00:00  9e53f84d-ef44-4c16-9677-5fd4d78cbd7d   Wilco   \n",
       "\n",
       "                                                          traid  \\\n",
       "timestamp                                                         \n",
       "2008-01-27 22:02:35+00:00  a490cabc-1e5c-4807-86c7-740c31a50009   \n",
       "2008-01-27 21:56:52+00:00  3e92e447-9e1f-440d-bc00-6734469880c5   \n",
       "2008-01-27 21:52:36+00:00  93d044e6-1bbb-46a6-ac8e-283382a89e6f   \n",
       "2008-01-27 21:49:12+00:00  5ac4386f-6146-4389-a762-4b43f362d2c8   \n",
       "2008-01-27 21:43:14+00:00  3acc99bc-a349-420f-ad28-7095eb3533c9   \n",
       "\n",
       "                                             traname  \n",
       "timestamp                                             \n",
       "2008-01-27 22:02:35+00:00  Please Be Patient With Me  \n",
       "2008-01-27 21:56:52+00:00               Shake It Off  \n",
       "2008-01-27 21:52:36+00:00        Side With The Seeds  \n",
       "2008-01-27 21:49:12+00:00               Sky Blue Sky  \n",
       "2008-01-27 21:43:14+00:00         Impossible Germany  "
      ]
     },
     "execution_count": 6,
     "metadata": {},
     "output_type": "execute_result"
    }
   ],
   "source": [
    "listenings.tail()"
   ]
  },
  {
   "cell_type": "markdown",
   "metadata": {},
   "source": [
    "## Querying of the last.fm API to get realease years of the songs \n",
    "The last.fm apikey needs to be stored in a apikey.txt file.\n",
    "\n",
    "NOT USED:\n",
    "* you would need to get the album of each song and get realease date of the albums then which would take well over 100 hours of constant querying\n",
    "* not every song has an album so the data would not be perfect"
   ]
  },
  {
   "cell_type": "code",
   "execution_count": 7,
   "metadata": {},
   "outputs": [],
   "source": [
    "apiKey = pd.read_csv('apikey.txt',header=None)[0][SPLIT_NR]"
   ]
  },
  {
   "cell_type": "code",
   "execution_count": 8,
   "metadata": {},
   "outputs": [],
   "source": [
    "uniqueTracksFromListenings = listenings[['artname','traname']].drop_duplicates()"
   ]
  },
  {
   "cell_type": "code",
   "execution_count": 9,
   "metadata": {},
   "outputs": [],
   "source": [
    "dfSplit = np.array_split(uniqueTracksFromListenings, TOTAL_SPLIT_NR)[SPLIT_NR]"
   ]
  },
  {
   "cell_type": "code",
   "execution_count": 10,
   "metadata": {},
   "outputs": [],
   "source": [
    "dfSplit.dropna(inplace=True)"
   ]
  },
  {
   "cell_type": "code",
   "execution_count": 11,
   "metadata": {
    "scrolled": true
   },
   "outputs": [
    {
     "name": "stderr",
     "output_type": "stream",
     "text": [
      "100%|██████████| 499573/499573 [27:55:48<00:00,  4.97it/s]    \n"
     ]
    }
   ],
   "source": [
    "ablumIds={}\n",
    "\n",
    "for artname,traname in tqdm(zip(dfSplit['artname'],\n",
    "                                dfSplit['traname'])\n",
    "                            ,total=len(dfSplit),position=0, leave=True):\n",
    "    artnameEnc = urllib.parse.quote_plus(artname)\n",
    "    tranameEnc = urllib.parse.quote_plus(traname)\n",
    "\n",
    "    try:\n",
    "        with urllib.request.urlopen(f\"http://ws.audioscrobbler.com/2.0/?method=track.getInfo&api_key={apiKey}&artist={artnameEnc}&track={tranameEnc}&format=json\") as url:\n",
    "            data = json.loads(url.read().decode())\n",
    "            ablumIds[artname+traname] = data['track']['album']['mbid']\n",
    "    except:\n",
    "        pass\n"
   ]
  },
  {
   "cell_type": "code",
   "execution_count": 12,
   "metadata": {},
   "outputs": [
    {
     "data": {
      "text/plain": [
       "330957"
      ]
     },
     "execution_count": 12,
     "metadata": {},
     "output_type": "execute_result"
    }
   ],
   "source": [
    "len(ablumIds)"
   ]
  },
  {
   "cell_type": "code",
   "execution_count": 13,
   "metadata": {},
   "outputs": [
    {
     "data": {
      "text/plain": [
       "90244"
      ]
     },
     "execution_count": 13,
     "metadata": {},
     "output_type": "execute_result"
    }
   ],
   "source": [
    "len(set(ablumIds.values()))"
   ]
  },
  {
   "cell_type": "code",
   "execution_count": 14,
   "metadata": {},
   "outputs": [],
   "source": [
    "results = pd.DataFrame()\n",
    "results['art_tra_name']=ablumIds.keys()\n",
    "results['album_id']=ablumIds.values()\n",
    "results.to_csv(f'api_collected_data/ablumIdPart{SPLIT_NR}.csv',index=False)"
   ]
  },
  {
   "cell_type": "code",
   "execution_count": null,
   "metadata": {},
   "outputs": [],
   "source": []
  }
 ],
 "metadata": {
  "kernelspec": {
   "display_name": "Python 3",
   "language": "python",
   "name": "python3"
  },
  "language_info": {
   "codemirror_mode": {
    "name": "ipython",
    "version": 3
   },
   "file_extension": ".py",
   "mimetype": "text/x-python",
   "name": "python",
   "nbconvert_exporter": "python",
   "pygments_lexer": "ipython3",
   "version": "3.8.5"
  }
 },
 "nbformat": 4,
 "nbformat_minor": 4
}
